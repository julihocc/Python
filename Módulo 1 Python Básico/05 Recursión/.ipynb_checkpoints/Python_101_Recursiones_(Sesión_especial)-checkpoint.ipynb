{
 "cells": [
  {
   "cell_type": "markdown",
   "metadata": {
    "colab_type": "text",
    "id": "7cIbiYqZZTU5"
   },
   "source": [
    "# Python 101\n",
    "## Recursiones \n",
    "\n",
    "Una función recursiva $f:\\mathbb{N}\\to S$ es una asignación que hace referencia así misma para definirse, por ejemplo,\n",
    "\n",
    "$$f(n) = G(n,f(n-1))$$\n",
    "\n",
    "hasta tocar un caso base, por ejemplo $n=0$, en la que se le define de manera arbitraria. "
   ]
  },
  {
   "cell_type": "code",
   "execution_count": 9,
   "metadata": {
    "colab": {
     "base_uri": "https://localhost:8080/",
     "height": 121
    },
    "colab_type": "code",
    "id": "aU8t4TzuYicF",
    "outputId": "59660913-e68b-4b3e-f3cd-aa5c7200fd24"
   },
   "outputs": [
    {
     "name": "stdout",
     "output_type": "stream",
     "text": [
      "-----\n",
      "1 1\n",
      "2 3\n",
      "3 6\n",
      "4 10\n",
      "10\n"
     ]
    }
   ],
   "source": [
    "\"\"\"\n",
    "Ejemplo. Definir una función recursiva que calcula la suma de \n",
    "los primeros n enteros positivos\n",
    "\"\"\"\n",
    "\n",
    "def f(n):\n",
    "  if n>0:\n",
    "    t = n+f(n-1)\n",
    "    print(n,t)\n",
    "    return t\n",
    "  else: \n",
    "    return 0\n",
    "\n",
    "print(f(4))"
   ]
  },
  {
   "cell_type": "code",
   "execution_count": 29,
   "metadata": {
    "colab": {
     "base_uri": "https://localhost:8080/",
     "height": 87
    },
    "colab_type": "code",
    "id": "Rfp16ddljEx0",
    "outputId": "352bd071-79af-41b4-9e84-330376edb5f1"
   },
   "outputs": [
    {
     "name": "stdout",
     "output_type": "stream",
     "text": [
      "1 2\n",
      "2 4\n",
      "3 8\n",
      "8\n"
     ]
    }
   ],
   "source": [
    "\"\"\"\n",
    "Ejemplo. Definir la función b^n de manera recursiva, para b>0\n",
    "y n un entero no negativo\n",
    "\"\"\"\n",
    "def potencia(b,n):\n",
    "  if n==0:\n",
    "    return 1\n",
    "  else:\n",
    "    p = 2*potencia(b,n-1)\n",
    "    print(n, p)\n",
    "    return p\n",
    "  \n",
    "print(potencia(2,3))"
   ]
  },
  {
   "cell_type": "code",
   "execution_count": 15,
   "metadata": {
    "colab": {
     "base_uri": "https://localhost:8080/",
     "height": 87
    },
    "colab_type": "code",
    "id": "yNPLwBmoZRgl",
    "outputId": "2dbfdfaf-546b-4b14-f741-a5789d38689a"
   },
   "outputs": [
    {
     "name": "stdout",
     "output_type": "stream",
     "text": [
      "1 1\n",
      "2 2\n",
      "3 6\n",
      "6\n"
     ]
    }
   ],
   "source": [
    "\"\"\"\n",
    "Ejemplo. Definir la función factorial(n) tal que f(n) = nx(n-1)x...x2x1\n",
    "\"\"\"\n",
    "\n",
    "def factorial(n):\n",
    "  if n>0:\n",
    "    p = n*factorial(n-1)\n",
    "    print(n,p)\n",
    "    return p\n",
    "  else:\n",
    "    return 1\n",
    "\n",
    "print(factorial(3))"
   ]
  },
  {
   "cell_type": "code",
   "execution_count": 45,
   "metadata": {
    "colab": {
     "base_uri": "https://localhost:8080/",
     "height": 35
    },
    "colab_type": "code",
    "id": "Z0LofMHLkrE8",
    "outputId": "b47a5447-d5f8-4f91-8876-455ab969dccd"
   },
   "outputs": [
    {
     "name": "stdout",
     "output_type": "stream",
     "text": [
      "[0, 1, 1, 2, 3, 5, 8, 13, 21, 34]\n"
     ]
    }
   ],
   "source": [
    "\"\"\"\n",
    "Ejemplo. Implementar la sucesión de Fibonacci\n",
    "\"\"\"\n",
    "\n",
    "def fibonacci(n):\n",
    "  if n==0 or n==1:\n",
    "    return n\n",
    "  else:\n",
    "    return fibonacci(n-2)+fibonacci(n-1)\n",
    "  return t\n",
    "\n",
    "fibos = [fibonacci(n) for n in range(10)]\n",
    "print(fibos)"
   ]
  },
  {
   "cell_type": "code",
   "execution_count": 19,
   "metadata": {
    "colab": {
     "base_uri": "https://localhost:8080/",
     "height": 139
    },
    "colab_type": "code",
    "id": "1Ti5YWWvb_M0",
    "outputId": "0dbfb7ac-f7f0-4c0c-9dc8-ff3476f4d24e"
   },
   "outputs": [
    {
     "name": "stdout",
     "output_type": "stream",
     "text": [
      "[1, 2] [3] [4, 7, 5, 6, 9, 8]\n",
      "[] [1] [2]\n",
      "[] [4] [7, 5, 6, 9, 8]\n",
      "[5, 6] [7] [9, 8]\n",
      "[] [5] [6]\n",
      "[8] [9] []\n"
     ]
    },
    {
     "data": {
      "text/plain": [
       "[1, 2, 3, 4, 5, 6, 7, 8, 9]"
      ]
     },
     "execution_count": 19,
     "metadata": {
      "tags": []
     },
     "output_type": "execute_result"
    }
   ],
   "source": [
    "\"\"\"\n",
    "Ejemplo. Definir una función recursiva que sea capaz\n",
    "de ordenar una lista de números.\n",
    "\"\"\"\n",
    "def quick_sort(lista):\n",
    "    if len(lista) <= 1:\n",
    "        return lista\n",
    "    else:\n",
    "        pivote = lista[0]\n",
    "        cola = lista[1:]\n",
    "        menores_que = [numero for numero in cola if numero <= pivote]\n",
    "        mayores_que = [numero for numero in cola if numero > pivote]\n",
    "        print(menores_que, [pivote], mayores_que)\n",
    "        return quick_sort(menores_que) + [pivote] + quick_sort(mayores_que)\n",
    "\n",
    "quick_sort([3, 1, 2, 4, 7, 5, 6, 9, 8])"
   ]
  },
  {
   "cell_type": "code",
   "execution_count": 0,
   "metadata": {
    "colab": {},
    "colab_type": "code",
    "id": "_1JPeANKiAK8"
   },
   "outputs": [],
   "source": []
  }
 ],
 "metadata": {
  "colab": {
   "name": "Python 101 Recursiones (Sesión especial).ipynb",
   "provenance": []
  },
  "kernelspec": {
   "display_name": "Python 3",
   "language": "python",
   "name": "python3"
  },
  "language_info": {
   "codemirror_mode": {
    "name": "ipython",
    "version": 3
   },
   "file_extension": ".py",
   "mimetype": "text/x-python",
   "name": "python",
   "nbconvert_exporter": "python",
   "pygments_lexer": "ipython3",
   "version": "3.8.8"
  }
 },
 "nbformat": 4,
 "nbformat_minor": 1
}
