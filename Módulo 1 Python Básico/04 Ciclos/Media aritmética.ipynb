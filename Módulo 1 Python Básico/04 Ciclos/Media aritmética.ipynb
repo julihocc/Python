{
 "cells": [
  {
   "cell_type": "code",
   "execution_count": 1,
   "metadata": {},
   "outputs": [
    {
     "name": "stdout",
     "output_type": "stream",
     "text": [
      "73.0\n"
     ]
    }
   ],
   "source": [
    "\"\"\"\n",
    "Calcular la media aritmética\n",
    "\"\"\"\n",
    "# definimos una lista con los datos\n",
    "X = [14, 50, 21, 20, 35, 298]\n",
    "# contar cuantos datos tenemos\n",
    "n = len(X)\n",
    "# calculamos la suma\n",
    "suma = 0\n",
    "for i in range(n):\n",
    "    suma += X[i]\n",
    "promedio = suma/n\n",
    "print(promedio)"
   ]
  },
  {
   "cell_type": "code",
   "execution_count": 2,
   "metadata": {},
   "outputs": [
    {
     "name": "stdout",
     "output_type": "stream",
     "text": [
      "73.0\n"
     ]
    }
   ],
   "source": [
    "\"\"\"\n",
    "Calcular la media aritmética\n",
    "Versión 2\n",
    "\"\"\"\n",
    "# definimos una lista con los datos\n",
    "X = [14, 50, 21, 20, 35, 298]\n",
    "# contar cuantos datos tenemos\n",
    "n = len(X)\n",
    "# calculamos la suma\n",
    "suma = 0\n",
    "for dato in X:\n",
    "    suma+=dato\n",
    "promedio = suma/n\n",
    "print(promedio)"
   ]
  },
  {
   "cell_type": "code",
   "execution_count": 3,
   "metadata": {},
   "outputs": [
    {
     "name": "stdout",
     "output_type": "stream",
     "text": [
      "73.0\n"
     ]
    }
   ],
   "source": [
    "\"\"\"\n",
    "Calcular la media aritmética\n",
    "Versión 3\n",
    "\"\"\"\n",
    "# definimos una lista con los datos\n",
    "X = [14, 50, 21, 20, 35, 298]\n",
    "# contar cuantos datos tenemos\n",
    "n = len(X)\n",
    "# calculamos la suma\n",
    "suma = sum(X)\n",
    "promedio = suma/n\n",
    "print(promedio)"
   ]
  },
  {
   "cell_type": "code",
   "execution_count": 4,
   "metadata": {},
   "outputs": [
    {
     "name": "stdout",
     "output_type": "stream",
     "text": [
      "73.0\n"
     ]
    }
   ],
   "source": [
    "\"\"\"\n",
    "Calcular la media aritmética\n",
    "Versión 4\n",
    "\"\"\"\n",
    "# definimos una lista con los datos\n",
    "X = [14, 50, 21, 20, 35, 298]\n",
    "# *def*inir una función promedio\n",
    "def promedio(L):\n",
    "    n = len(L)\n",
    "    suma = sum(L)\n",
    "    media = suma/n\n",
    "    return media\n",
    "#probamos\n",
    "print(promedio(X))"
   ]
  },
  {
   "cell_type": "code",
   "execution_count": null,
   "metadata": {},
   "outputs": [],
   "source": []
  }
 ],
 "metadata": {
  "kernelspec": {
   "display_name": "Python 3",
   "language": "python",
   "name": "python3"
  },
  "language_info": {
   "codemirror_mode": {
    "name": "ipython",
    "version": 3
   },
   "file_extension": ".py",
   "mimetype": "text/x-python",
   "name": "python",
   "nbconvert_exporter": "python",
   "pygments_lexer": "ipython3",
   "version": "3.7.3"
  }
 },
 "nbformat": 4,
 "nbformat_minor": 2
}
