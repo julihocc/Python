{
  "nbformat": 4,
  "nbformat_minor": 0,
  "metadata": {
    "colab": {
      "name": "Python 101-3 Cadenas (Soluciones).ipynb",
      "version": "0.3.2",
      "provenance": []
    },
    "kernelspec": {
      "name": "python3",
      "display_name": "Python 3"
    }
  },
  "cells": [
    {
      "cell_type": "markdown",
      "metadata": {
        "id": "bu2i9DmXb0Zg",
        "colab_type": "text"
      },
      "source": [
        "# Python 101\n",
        "## Cadenas de caracteres\n",
        "### Hoja de ejercicios"
      ]
    },
    {
      "cell_type": "code",
      "metadata": {
        "id": "F9DLT-5qbxE_",
        "colab_type": "code",
        "colab": {
          "base_uri": "https://localhost:8080/",
          "height": 35
        },
        "outputId": "271a3d4e-bea9-4d43-a73b-70163895f666"
      },
      "source": [
        "\"\"\"\n",
        "Ejercicio 1\n",
        "Escribe un snippet (fragmento de código) en el que se pida al usuario su primer \n",
        "nombre y se imprima la longitud del mismo.\n",
        "\"\"\""
      ],
      "execution_count": 1,
      "outputs": [
        {
          "output_type": "execute_result",
          "data": {
            "text/plain": [
              "'\\nEjercicio 1\\nEscribe un snippet (fragmento de código) en el que se pida al usuario su primer \\nnombre y se imprima la longitud del mismo.\\n'"
            ]
          },
          "metadata": {
            "tags": []
          },
          "execution_count": 1
        }
      ]
    },
    {
      "cell_type": "code",
      "metadata": {
        "id": "cCS1vULQcjj5",
        "colab_type": "code",
        "colab": {
          "base_uri": "https://localhost:8080/",
          "height": 53
        },
        "outputId": "2f1297b9-d17e-4448-9f14-28fc9f280ff2"
      },
      "source": [
        "nombre = input(\"Ingresa tu primer nombre: \")\n",
        "print(\"La longitud de tu nombre es \", len(nombre))"
      ],
      "execution_count": 2,
      "outputs": [
        {
          "output_type": "stream",
          "text": [
            "Ingresa tu primer nombre: Fulanito\n",
            "La longitud de tu nombre es  8\n"
          ],
          "name": "stdout"
        }
      ]
    },
    {
      "cell_type": "code",
      "metadata": {
        "id": "85W98ekMc1xI",
        "colab_type": "code",
        "colab": {
          "base_uri": "https://localhost:8080/",
          "height": 55
        },
        "outputId": "224694d9-3326-4747-e966-1313e77be0ad"
      },
      "source": [
        "\"\"\"\n",
        "Ejercicio 2\n",
        "Escribe un snippet en el que primeros se pida al usuario su primer nombre; \n",
        "posteriormente, su apellido; después imprima el nombre completo con un espacio\n",
        "en medio; y finalmente la longitud del nombre completo\n",
        "\"\"\""
      ],
      "execution_count": 3,
      "outputs": [
        {
          "output_type": "execute_result",
          "data": {
            "text/plain": [
              "'\\nEjercicio 2\\nEscribe un snippet en el que primeros se pida al usuario su primer nombre; \\nposteriormente, su apellido; después imprima el nombre completo con un espacio\\nen medio; y finalmente la longitud del nombre completo\\n'"
            ]
          },
          "metadata": {
            "tags": []
          },
          "execution_count": 3
        }
      ]
    },
    {
      "cell_type": "code",
      "metadata": {
        "id": "4jYzRsQ0dQCn",
        "colab_type": "code",
        "colab": {
          "base_uri": "https://localhost:8080/",
          "height": 89
        },
        "outputId": "d737d5fc-1108-486a-bfa2-34ab9e0e85e6"
      },
      "source": [
        "nombre = input(\"Ingresa tu nombre: \")\n",
        "apellido = input(\"Ingresa tu apellido: \")\n",
        "nombre_completo = nombre+\" \"+apellido\n",
        "print(nombre_completo)\n",
        "print(\"La longitud de tu nombre es \"+str(len(nombre_completo)))"
      ],
      "execution_count": 4,
      "outputs": [
        {
          "output_type": "stream",
          "text": [
            "Ingresa tu nombre: Fulanito\n",
            "Ingresa tu apellido: De Tal\n",
            "Fulanito De Tal\n",
            "La longitud de tu nombre es 15\n"
          ],
          "name": "stdout"
        }
      ]
    },
    {
      "cell_type": "code",
      "metadata": {
        "id": "MPJNHA79drr7",
        "colab_type": "code",
        "colab": {
          "base_uri": "https://localhost:8080/",
          "height": 55
        },
        "outputId": "572e8829-e425-45ce-ecde-5a1d7751edd0"
      },
      "source": [
        "\"\"\"\n",
        "Ejercicio 3\n",
        "Escribe una función fraseElegante() que acepte dos cadenas de caractéres: La \n",
        "primera será una frase, la segunda el nombre de un autor. \n",
        "\n",
        "Esta función debe regresar una cadena\n",
        "de la forma:\n",
        "    \"Esta Es Una Frase Célebre\"\n",
        "    NOMBRE DEL AUTOR\n",
        "\"\"\""
      ],
      "execution_count": 5,
      "outputs": [
        {
          "output_type": "execute_result",
          "data": {
            "text/plain": [
              "'\\nEjercicio 3\\nEscribe una función fraseElegante() que acepte dos cadenas de caractéres: La \\nprimera será una frase, la segunda el nombre de un autor. \\n\\nEsta función debe regresar una cadena\\nde la forma:\\n    \"Esta Es Una Frase Célebre\"\\n    NOMBRE DEL AUTOR\\n'"
            ]
          },
          "metadata": {
            "tags": []
          },
          "execution_count": 5
        }
      ]
    },
    {
      "cell_type": "code",
      "metadata": {
        "id": "2yZbf7BdfHgE",
        "colab_type": "code",
        "colab": {
          "base_uri": "https://localhost:8080/",
          "height": 53
        },
        "outputId": "89ee03db-1987-414a-c0ce-c42fd4c64c86"
      },
      "source": [
        "def fraseElegante(frase, autor):\n",
        "  frase = frase.title()\n",
        "  autor = autor.upper()\n",
        "  return \"\\\"\"+frase+\"\\\"\\n\"+autor\n",
        "\n",
        "#Ejemplo\n",
        "frase = \"Sólo podemos ver poco del futuro, pero lo suficiente para darnos cuenta de que hay mucho que hacer.\"\n",
        "autor = \"Alan Turing\"\n",
        "print(fraseElegante(frase, autor))"
      ],
      "execution_count": 6,
      "outputs": [
        {
          "output_type": "stream",
          "text": [
            "\"Sólo Podemos Ver Poco Del Futuro, Pero Lo Suficiente Para Darnos Cuenta De Que Hay Mucho Que Hacer.\"\n",
            "ALAN TURING\n"
          ],
          "name": "stdout"
        }
      ]
    },
    {
      "cell_type": "code",
      "metadata": {
        "id": "s5D3MraagKYv",
        "colab_type": "code",
        "colab": {
          "base_uri": "https://localhost:8080/",
          "height": 35
        },
        "outputId": "74e76490-6a1c-4534-b8b5-0db36e451efa"
      },
      "source": [
        "\"\"\"\n",
        "Ejercicio 4\n",
        "Escribe una función cadenasSimilare() que indique si dos palabras son iguales, \n",
        "independientemente si los caracteres están escritos en en mayúsculas o minúsculas.\n",
        "\"\"\""
      ],
      "execution_count": 7,
      "outputs": [
        {
          "output_type": "execute_result",
          "data": {
            "text/plain": [
              "'\\nEjercicio 4\\nEscribe una función cadenasSimilare() que indique si dos palabras son iguales, \\nindependientemente si los caracteres están escritos en en mayúsculas o minúsculas.\\n'"
            ]
          },
          "metadata": {
            "tags": []
          },
          "execution_count": 7
        }
      ]
    },
    {
      "cell_type": "code",
      "metadata": {
        "id": "mT_Ala-lhB5P",
        "colab_type": "code",
        "colab": {
          "base_uri": "https://localhost:8080/",
          "height": 53
        },
        "outputId": "3e452d16-c2c9-4f08-9573-e969f22e2c90"
      },
      "source": [
        "def cadenasSimilares(cadena1, cadena2):\n",
        "  cadena1=cadena1.lower()\n",
        "  cadena2=cadena2.lower()\n",
        "  return cadena1==cadena2\n",
        "\n",
        "#ejemplo\n",
        "una_cadena = \"yo vivo en méxico\"\n",
        "otra_cadena = \"Yo Vivo en MÉXICO\"\n",
        "otra_mas = \"yo vivo en mexico\"\n",
        "print(cadenasSimilares(una_cadena, otra_cadena))\n",
        "print(cadenasSimilares(una_cadena, otra_mas))\n",
        "# ¿En qué difieren la primera y tercera cadena?"
      ],
      "execution_count": 8,
      "outputs": [
        {
          "output_type": "stream",
          "text": [
            "True\n",
            "False\n"
          ],
          "name": "stdout"
        }
      ]
    },
    {
      "cell_type": "code",
      "metadata": {
        "id": "ii1XSZy6h-uK",
        "colab_type": "code",
        "colab": {
          "base_uri": "https://localhost:8080/",
          "height": 55
        },
        "outputId": "d09c7e0e-71fd-4ed7-99db-ba9e686a58e6"
      },
      "source": [
        "\"\"\"\n",
        "Ejercicio 5\n",
        "Escribe una función que indique si dos frases tiene la misma palabra en una\n",
        "posición dada. Las frases pueden tener los siguietes signos de puntuación \",\", \n",
        "\".\" y \";\", los cuales deben ser removidos\n",
        "\"\"\""
      ],
      "execution_count": 9,
      "outputs": [
        {
          "output_type": "execute_result",
          "data": {
            "text/plain": [
              "'\\nEjercicio 5\\nEscribe una función que indique si dos frases tiene la misma palabra en una\\nposición dada. Las frases pueden tener los siguietes signos de puntuación \",\", \\n\".\" y \";\", los cuales deben ser removidos\\n'"
            ]
          },
          "metadata": {
            "tags": []
          },
          "execution_count": 9
        }
      ]
    },
    {
      "cell_type": "code",
      "metadata": {
        "id": "rvgtkHfujfUt",
        "colab_type": "code",
        "colab": {
          "base_uri": "https://localhost:8080/",
          "height": 53
        },
        "outputId": "295e1fb6-b9c0-4930-9c9c-5e1fbd6aae2c"
      },
      "source": [
        "def removerPuntuacion(frase):\n",
        "  return frase.replace(\",\",\"\").replace(\";\",\"\").replace(\".\",\"\")\n",
        "\n",
        "def comparaPalabras(frase1, frase2, indice):\n",
        "  frase1 = removerPuntuacion(frase1)\n",
        "  frase2 = removerPuntuacion(frase2)\n",
        "  palabras1 = frase1.split(\" \")\n",
        "  palabras2 = frase2.split(\" \")\n",
        "  return palabras1[indice]==palabras2[indice]\n",
        "\n",
        "#ejemplo\n",
        "frase1 = \"Esta es una frase\"\n",
        "frase2 = \"Esta es otra frase\"\n",
        "print(comparaPalabras(frase1, frase2, 0))\n",
        "print(comparaPalabras(frase1, frase2, 2))"
      ],
      "execution_count": 10,
      "outputs": [
        {
          "output_type": "stream",
          "text": [
            "True\n",
            "False\n"
          ],
          "name": "stdout"
        }
      ]
    },
    {
      "cell_type": "code",
      "metadata": {
        "id": "9TYSLB2akY7A",
        "colab_type": "code",
        "colab": {}
      },
      "source": [
        ""
      ],
      "execution_count": 0,
      "outputs": []
    }
  ]
}