{
  "nbformat": 4,
  "nbformat_minor": 0,
  "metadata": {
    "colab": {
      "name": "Python 101-2 Sentencias condicionales Soluciones.ipynb",
      "version": "0.3.2",
      "provenance": []
    },
    "kernelspec": {
      "name": "python3",
      "display_name": "Python 3"
    }
  },
  "cells": [
    {
      "cell_type": "code",
      "metadata": {
        "id": "NGKgqBSAP9Ic",
        "colab_type": "code",
        "outputId": "5cb327a0-ce88-46b9-aba1-f21dc35c21db",
        "colab": {
          "base_uri": "https://localhost:8080/",
          "height": 35
        }
      },
      "source": [
        "\"\"\"\n",
        "Problema 102.1\n",
        "Defina una función `ordenados` que acepte dos números y los regrese ordenados, \n",
        "de menor a mayor. \n",
        "\n",
        "Ejemplo\n",
        ">> print(ordenados(1/3, 0.333))\n",
        "(0.333, 0.3333333333333333)\n",
        "\"\"\""
      ],
      "execution_count": 0,
      "outputs": [
        {
          "output_type": "execute_result",
          "data": {
            "text/plain": [
              "'\\nProblema 102.1\\nDefina una función `ordenados` que acepte dos números y los regrese ordenados, \\nde menor a mayor. \\n\\nEjemplo\\n>> print(ordenados(1/3, 0.333))\\n(0.333, 0.3333333333333333)\\n'"
            ]
          },
          "metadata": {
            "tags": []
          },
          "execution_count": 32
        }
      ]
    },
    {
      "cell_type": "code",
      "metadata": {
        "id": "j1TNzhd3QRut",
        "colab_type": "code",
        "outputId": "a6bf86a7-7feb-4507-9ffd-9bde8ea8a6e1",
        "colab": {
          "base_uri": "https://localhost:8080/",
          "height": 35
        }
      },
      "source": [
        "#Solución\n",
        "def ordenados(x,y):\n",
        "  if x<y:\n",
        "    return x,y \n",
        "  else: \n",
        "    return y,x\n",
        "\n",
        "#Ejemplo\n",
        "print(ordenados(1/3, 0.333))"
      ],
      "execution_count": 0,
      "outputs": [
        {
          "output_type": "stream",
          "text": [
            "(0.333, 0.3333333333333333)\n"
          ],
          "name": "stdout"
        }
      ]
    },
    {
      "cell_type": "code",
      "metadata": {
        "id": "9ifizl1MQr9W",
        "colab_type": "code",
        "outputId": "9ae6efc6-3f48-4142-bd56-cf35417aad9d",
        "colab": {
          "base_uri": "https://localhost:8080/",
          "height": 55
        }
      },
      "source": [
        "\"\"\"\n",
        "Problema 102.2\n",
        "Defina una función `entero_menor_que` que indique si un número entero es menor a\n",
        "100. Si el número no es entero, debe regresar una indicación sobre el error.\n",
        "\n",
        "Ejemplo\n",
        ">> print(entero_menor_que_100(50))\n",
        "True\n",
        ">> print(entero_menor_que_100(150))\n",
        "False\n",
        ">> print(entero_menor_que_100(50.0))\n",
        "El argumento no es un entero\n",
        "\"\"\""
      ],
      "execution_count": 0,
      "outputs": [
        {
          "output_type": "execute_result",
          "data": {
            "text/plain": [
              "'\\nProblema 102.2\\nDefina una función `entero_menor_que` que indique si un número entero es menor a\\n100. Si el número no es entero, debe regresar una indicación sobre el error.\\n\\nEjemplo\\n>> print(entero_menor_que_100(50))\\nTrue\\n>> print(entero_menor_que_100(150))\\nFalse\\n>> print(entero_menor_que_100(50.0))\\nEl argumento no es un entero\\n'"
            ]
          },
          "metadata": {
            "tags": []
          },
          "execution_count": 34
        }
      ]
    },
    {
      "cell_type": "code",
      "metadata": {
        "id": "8HCWsHdoRLCC",
        "colab_type": "code",
        "outputId": "71cd292d-6df6-4543-ae28-a3b68a8cce9b",
        "colab": {
          "base_uri": "https://localhost:8080/",
          "height": 71
        }
      },
      "source": [
        "#Solución\n",
        "def entero_menor_que_100(n):\n",
        "  if type(n)==int:\n",
        "    if n<100:\n",
        "      return True\n",
        "    else:\n",
        "      return False\n",
        "  else:\n",
        "    return \"El argumento no es un entero\"\n",
        "\n",
        "#Ejemplos\n",
        "print(entero_menor_que_100(50))\n",
        "print(entero_menor_que_100(150))\n",
        "print(entero_menor_que_100(50.0))"
      ],
      "execution_count": 0,
      "outputs": [
        {
          "output_type": "stream",
          "text": [
            "True\n",
            "False\n",
            "El argumento no es un entero\n"
          ],
          "name": "stdout"
        }
      ]
    },
    {
      "cell_type": "code",
      "metadata": {
        "id": "jAxj5jJtRjPd",
        "colab_type": "code",
        "outputId": "0a1cd79a-68b0-4de3-cac2-dc74775abc01",
        "colab": {
          "base_uri": "https://localhost:8080/",
          "height": 55
        }
      },
      "source": [
        "\"\"\"\n",
        "Problema 102.3\n",
        "Define una función `me_gusta_el_color()` que acepte como argumento un color \n",
        "(tipo cadena de caractéres), y en caso de ser \"rojo\", regrese el mensaje \n",
        "    \"A mí también me gusta el rojo\". \n",
        "En otro caso, que regrese el mensaje \n",
        "\"El color ___ no me gusta\", \n",
        "con el color indicado por el usuario. \n",
        "\n",
        "La función no debe ser sensible a las mayusculas.\n",
        "\n",
        "Ejemplo\n",
        ">> print(me_gusta_el_color(\"Rojo\"))\n",
        "A mí también me gusta el color rojo.\n",
        ">> print(me_gusta_el_color(\"aZul\"))\n",
        "El color azul no me gusta.\n",
        "\"\"\""
      ],
      "execution_count": 0,
      "outputs": [
        {
          "output_type": "execute_result",
          "data": {
            "text/plain": [
              "'\\nProblema 102.3\\nDefine una función `me_gusta_el_color()` que acepte como argumento un color \\n(tipo cadena de caractéres), y en caso de ser \"rojo\", regrese el mensaje \\n    \"A mí también me gusta el rojo\". \\nEn otro caso, que regrese el mensaje \\n\"El color ___ no me gusta\", \\ncon el color indicado por el usuario. \\n\\nLa función no debe ser sensible a las mayusculas.\\n\\nEjemplo\\n>> print(me_gusta_el_color(\"Rojo\"))\\nA mí también me gusta el color rojo.\\n>> print(me_gusta_el_color(\"aZul\"))\\nEl color azul no me gusta.\\n'"
            ]
          },
          "metadata": {
            "tags": []
          },
          "execution_count": 36
        }
      ]
    },
    {
      "cell_type": "code",
      "metadata": {
        "id": "Kj6BuS3ETy1R",
        "colab_type": "code",
        "outputId": "7bdc24e0-f61b-4903-ac50-2dc1f402f0cd",
        "colab": {
          "base_uri": "https://localhost:8080/",
          "height": 53
        }
      },
      "source": [
        "#Solución\n",
        "def me_gusta_el_color(color):\n",
        "  color = color.lower()\n",
        "  if color==\"rojo\":\n",
        "    return \"A mí también me gusta el color rojo.\"\n",
        "  else:\n",
        "    return \"El color \"+color+\" no me gusta.\"\n",
        "\n",
        "#Ejemplo\n",
        "print(me_gusta_el_color(\"Rojo\"))\n",
        "print(me_gusta_el_color(\"aZul\"))"
      ],
      "execution_count": 0,
      "outputs": [
        {
          "output_type": "stream",
          "text": [
            "A mí también me gusta el color rojo.\n",
            "El color azul no me gusta.\n"
          ],
          "name": "stdout"
        }
      ]
    },
    {
      "cell_type": "code",
      "metadata": {
        "id": "Hz6uQ4KgT4pI",
        "colab_type": "code",
        "outputId": "685cb8f2-338c-498a-842a-04d499e5d113",
        "colab": {
          "base_uri": "https://localhost:8080/",
          "height": 35
        }
      },
      "source": [
        "\"\"\"\n",
        "Problema 102.4\n",
        "Define una función `mayor_de_edad` que pida al usuario su edad e indique si \n",
        "es mayor de edad.\n",
        "\n",
        "Ejemplo\n",
        ">> print(mayor_de_edad())\n",
        "<< 21\n",
        "Eres mayor de edad\n",
        "\"\"\""
      ],
      "execution_count": 0,
      "outputs": [
        {
          "output_type": "execute_result",
          "data": {
            "text/plain": [
              "'\\nProblema 102.4\\nDefine una función `mayor_de_edad` que pida al usuario su edad e indique si \\nes mayor de edad.\\n\\nEjemplo\\n>> print(mayor_de_edad())\\n<< 21\\nEres mayor de edad\\n'"
            ]
          },
          "metadata": {
            "tags": []
          },
          "execution_count": 38
        }
      ]
    },
    {
      "cell_type": "code",
      "metadata": {
        "id": "JfxxITLrX1cm",
        "colab_type": "code",
        "outputId": "9fe77fa8-88f8-4ab9-a8ef-f51f5d8364da",
        "colab": {
          "base_uri": "https://localhost:8080/",
          "height": 53
        }
      },
      "source": [
        "#Solución \n",
        "def mayor_de_edad():\n",
        "  n = input()\n",
        "  n = int(n)\n",
        "  if n>=18:\n",
        "    return \"Eres mayor de edad\"\n",
        "  else: \n",
        "    return \"No eres mayor de edad\"\n",
        "\n",
        "#Ejemplo\n",
        "print(mayor_de_edad())"
      ],
      "execution_count": 0,
      "outputs": [
        {
          "output_type": "stream",
          "text": [
            "21\n",
            "Eres mayor de edad\n"
          ],
          "name": "stdout"
        }
      ]
    },
    {
      "cell_type": "code",
      "metadata": {
        "id": "i21Bp6aWX8kQ",
        "colab_type": "code",
        "outputId": "1b2de1a8-e0ef-4a98-c585-8b0ec1978b4d",
        "colab": {
          "base_uri": "https://localhost:8080/",
          "height": 35
        }
      },
      "source": [
        "\"\"\"\n",
        "Problema 102.5\n",
        "Define una función `ordenar_tripleta` que acepte 3 número y los ordene de menor \n",
        "a mayor.\n",
        "\n",
        "Ejemplo.\n",
        ">> print(ordenar_tripleta(2,1,3))\n",
        "(1,2,3)\n",
        "\"\"\""
      ],
      "execution_count": 0,
      "outputs": [
        {
          "output_type": "execute_result",
          "data": {
            "text/plain": [
              "'\\nProblema 102.5\\nDefine una función `ordenar_tripleta` que acepte 3 número y los ordene de menor \\na mayor.\\n\\nEjemplo.\\n>> print(ordenar_tripleta(2,1,3))\\n(1,2,3)\\n'"
            ]
          },
          "metadata": {
            "tags": []
          },
          "execution_count": 40
        }
      ]
    },
    {
      "cell_type": "code",
      "metadata": {
        "id": "eRoyNN_KYaOb",
        "colab_type": "code",
        "outputId": "58e3ae16-5550-490f-b9dc-ce64cf1bc0a0",
        "colab": {
          "base_uri": "https://localhost:8080/",
          "height": 125
        }
      },
      "source": [
        "#Solución\n",
        "def ordenar_tripleta(x,y,z):\n",
        "  if x<=y:\n",
        "    if y<=z:\n",
        "      return x,y,z\n",
        "    elif z<=x:\n",
        "      return z,x,y\n",
        "    else:\n",
        "      return x,z,y\n",
        "  else:\n",
        "    if x<=z:\n",
        "      return y,x,z\n",
        "    elif z<=y:\n",
        "      return z,y,x\n",
        "    else:\n",
        "      return y,z,x\n",
        "\n",
        "#ejemplos\n",
        "print(ordenar_tripleta(1,2,3))\n",
        "print(ordenar_tripleta(1,3,2))\n",
        "print(ordenar_tripleta(2,1,3))\n",
        "print(ordenar_tripleta(2,3,1))\n",
        "print(ordenar_tripleta(3,1,2))\n",
        "print(ordenar_tripleta(3,2,1))"
      ],
      "execution_count": 0,
      "outputs": [
        {
          "output_type": "stream",
          "text": [
            "(1, 2, 3)\n",
            "(1, 2, 3)\n",
            "(1, 2, 3)\n",
            "(1, 2, 3)\n",
            "(1, 2, 3)\n",
            "(1, 2, 3)\n"
          ],
          "name": "stdout"
        }
      ]
    }
  ]
}