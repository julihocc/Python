{
  "nbformat": 4,
  "nbformat_minor": 0,
  "metadata": {
    "colab": {
      "name": "Python 101-3 Cadenas (Problemario).ipynb",
      "version": "0.3.2",
      "provenance": []
    },
    "kernelspec": {
      "name": "python3",
      "display_name": "Python 3"
    }
  },
  "cells": [
    {
      "cell_type": "markdown",
      "metadata": {
        "id": "bu2i9DmXb0Zg",
        "colab_type": "text"
      },
      "source": [
        "# Python 101\n",
        "## Cadenas de caracteres\n",
        "### Hoja de ejercicios"
      ]
    },
    {
      "cell_type": "code",
      "metadata": {
        "id": "F9DLT-5qbxE_",
        "colab_type": "code",
        "outputId": "d4700f3b-ada9-4324-8e46-530ae639aea5",
        "colab": {
          "base_uri": "https://localhost:8080/",
          "height": 35
        }
      },
      "source": [
        "\"\"\"\n",
        "Ejercicio 1\n",
        "Escribe un snippet (fragmento de código) en el que se pida al usuario su primer \n",
        "nombre y se imprima la longitud del mismo.\n",
        "\"\"\""
      ],
      "execution_count": 0,
      "outputs": [
        {
          "output_type": "execute_result",
          "data": {
            "text/plain": [
              "'\\nEjercicio 1\\nEscribe un snippet (fragmento de código) en el que se pida al usuario su primer \\nnombre y se imprima la longitud del mismo.\\n'"
            ]
          },
          "metadata": {
            "tags": []
          },
          "execution_count": 1
        }
      ]
    },
    {
      "cell_type": "code",
      "metadata": {
        "id": "85W98ekMc1xI",
        "colab_type": "code",
        "outputId": "257981b3-c318-453d-84c1-13eb3914159c",
        "colab": {
          "base_uri": "https://localhost:8080/",
          "height": 55
        }
      },
      "source": [
        "\"\"\"\n",
        "Ejercicio 2\n",
        "Escribe un snippet en el que primeros se pida al usuario su primer nombre; \n",
        "posteriormente, su apellido; después imprima el nombre completo con un espacio\n",
        "en medio; y finalmente la longitud del nombre completo\n",
        "\"\"\""
      ],
      "execution_count": 0,
      "outputs": [
        {
          "output_type": "execute_result",
          "data": {
            "text/plain": [
              "'\\nEjercicio 2\\nEscribe un snippet en el que primeros se pida al usuario su primer nombre; \\nposteriormente, su apellido; después imprima el nombre completo con un espacio\\nen medio; y finalmente la longitud del nombre completo\\n'"
            ]
          },
          "metadata": {
            "tags": []
          },
          "execution_count": 3
        }
      ]
    },
    {
      "cell_type": "code",
      "metadata": {
        "id": "MPJNHA79drr7",
        "colab_type": "code",
        "outputId": "87c57ce4-578a-4139-9ccc-78e82b44f995",
        "colab": {
          "base_uri": "https://localhost:8080/",
          "height": 55
        }
      },
      "source": [
        "\"\"\"\n",
        "Ejercicio 3\n",
        "Escribe una función fraseElegante() que acepte dos cadenas de caractéres: La \n",
        "primera será una frase, la segunda el nombre de un autor. \n",
        "\n",
        "Esta función debe regresar una cadena\n",
        "de la forma:\n",
        "    \"Esta Es Una Frase Célebre\"\n",
        "    NOMBRE DEL AUTOR\n",
        "\"\"\""
      ],
      "execution_count": 0,
      "outputs": [
        {
          "output_type": "execute_result",
          "data": {
            "text/plain": [
              "'\\nEjercicio 3\\nEscribe una función que acepte dos cadenas de caractéres: La primera será una\\nfrase, la segunda el nombre de un autor. Esta función debe regresar una cadena\\nde la forma:\\n    \"Esta es una frase celebre\"\\n    Nombre Del Autor\\n'"
            ]
          },
          "metadata": {
            "tags": []
          },
          "execution_count": 7
        }
      ]
    },
    {
      "cell_type": "code",
      "metadata": {
        "id": "s5D3MraagKYv",
        "colab_type": "code",
        "outputId": "0c6aad1d-9214-428d-992e-2e9997005109",
        "colab": {
          "base_uri": "https://localhost:8080/",
          "height": 35
        }
      },
      "source": [
        "\"\"\"\n",
        "Ejercicio 4\n",
        "Escribe una función cadenasSimilare() que indique si dos palabras son iguales, \n",
        "independientemente si los caracteres están escritos en en mayúsculas o minúsculas.\n",
        "\"\"\""
      ],
      "execution_count": 0,
      "outputs": [
        {
          "output_type": "execute_result",
          "data": {
            "text/plain": [
              "'\\nEjercicio 4\\nEscribe una función cadenasSimilare() que indique si dos palabras son iguales, \\nindependientemente si los caracteres están escritos en en mayúsculas o minúsculas.\\n'"
            ]
          },
          "metadata": {
            "tags": []
          },
          "execution_count": 10
        }
      ]
    },
    {
      "cell_type": "code",
      "metadata": {
        "id": "ii1XSZy6h-uK",
        "colab_type": "code",
        "outputId": "ae42c3d4-d98d-4060-caea-e8feaed9fb9f",
        "colab": {
          "base_uri": "https://localhost:8080/",
          "height": 55
        }
      },
      "source": [
        "\"\"\"\n",
        "Ejercicio 5\n",
        "Escribe una función que indique si dos frases tiene la misma palabra en una\n",
        "posición dada. Las frases pueden tener los siguietes signos de puntuación \",\", \n",
        "\".\" y \";\", los cuales deben ser removidos\n",
        "\"\"\""
      ],
      "execution_count": 0,
      "outputs": [
        {
          "output_type": "execute_result",
          "data": {
            "text/plain": [
              "'\\nEjercicio 5\\nEscribe una función que indique si dos frases tiene la misma palabra en una\\nposición dada. Las frases pueden tener los siguietes signos de puntuación \",\", \\n\".\" y \";\", los cuales deben ser removidos\\n'"
            ]
          },
          "metadata": {
            "tags": []
          },
          "execution_count": 13
        }
      ]
    }
  ]
}