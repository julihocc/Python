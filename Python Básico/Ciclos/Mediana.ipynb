{
 "cells": [
  {
   "cell_type": "code",
   "execution_count": 7,
   "metadata": {},
   "outputs": [
    {
     "name": "stdout",
     "output_type": "stream",
     "text": [
      "[14, 50, 21, 20, 35, 298, 0]\n",
      "[0, 14, 20, 21, 35, 50, 298]\n",
      "21\n"
     ]
    }
   ],
   "source": [
    "\"\"\"\n",
    "Lista de longitud impar\n",
    "\"\"\"\n",
    "X = [14, 50, 21, 20, 35, 298,0]\n",
    "print(X)\n",
    "#Calculamos la longitud\n",
    "n = len(X)\n",
    "# Xo es la lista ya ordenada\n",
    "X.sort() \n",
    "#Xo = sorted(X)\n",
    "print(X)\n",
    "if n%2==0:\n",
    "    pass\n",
    "else:\n",
    "    indice_mediano = n//2\n",
    "    # indice_mediano = (n-1)//2\n",
    "    mediana = X[indice_mediano]\n",
    "print(mediana)"
   ]
  },
  {
   "cell_type": "code",
   "execution_count": 8,
   "metadata": {},
   "outputs": [
    {
     "name": "stdout",
     "output_type": "stream",
     "text": [
      "[14, 50, 21, 20, 35, 298, 0]\n",
      "[14, 50, 21, 20, 35, 298, 0]\n",
      "[0, 14, 20, 21, 35, 50, 298]\n",
      "20\n"
     ]
    }
   ],
   "source": [
    "\"\"\"\n",
    "Lista de longitud impar\n",
    "\"\"\"\n",
    "X = [14, 50, 21, 20, 35, 298,0]\n",
    "print(X)\n",
    "#Calculamos la longitud\n",
    "n = len(X)\n",
    "# Xo es la lista ya ordenada\n",
    "#X.sort() \n",
    "Xo = sorted(X)\n",
    "print(X)\n",
    "print(Xo)\n",
    "if n%2==0:\n",
    "    pass\n",
    "else:\n",
    "    indice_mediano = n//2\n",
    "    # indice_mediano = (n-1)//2\n",
    "    mediana = Xo[indice_mediano]\n",
    "print(mediana)"
   ]
  },
  {
   "cell_type": "code",
   "execution_count": 9,
   "metadata": {},
   "outputs": [
    {
     "name": "stdout",
     "output_type": "stream",
     "text": [
      "[14, 50, 21, 20, 35, 298]\n",
      "[14, 50, 21, 20, 35, 298]\n",
      "[14, 20, 21, 35, 50, 298]\n",
      "28.0\n"
     ]
    }
   ],
   "source": [
    "\"\"\"\n",
    "Lista de longitud impar\n",
    "\"\"\"\n",
    "X = [14, 50, 21, 20, 35, 298]\n",
    "print(X)\n",
    "#Calculamos la longitud\n",
    "n = len(X)\n",
    "# Xo es la lista ya ordenada\n",
    "#X.sort() \n",
    "Xo = sorted(X)\n",
    "print(X)\n",
    "print(Xo)\n",
    "# empezamos a contar de cero\n",
    "if n%2==0:\n",
    "    i0 = n//2-1 # int((n/2)-1)\n",
    "    i1 = n//2 # int(n/2)\n",
    "    mediana = (Xo[i0]+Xo[i1])/2\n",
    "else:\n",
    "    indice_mediano = n//2\n",
    "    # indice_mediano = int((n-1)/2)\n",
    "    mediana = Xo[indice_mediano]\n",
    "print(mediana)"
   ]
  },
  {
   "cell_type": "code",
   "execution_count": null,
   "metadata": {},
   "outputs": [],
   "source": []
  }
 ],
 "metadata": {
  "kernelspec": {
   "display_name": "Python 3",
   "language": "python",
   "name": "python3"
  },
  "language_info": {
   "codemirror_mode": {
    "name": "ipython",
    "version": 3
   },
   "file_extension": ".py",
   "mimetype": "text/x-python",
   "name": "python",
   "nbconvert_exporter": "python",
   "pygments_lexer": "ipython3",
   "version": "3.7.3"
  }
 },
 "nbformat": 4,
 "nbformat_minor": 2
}
