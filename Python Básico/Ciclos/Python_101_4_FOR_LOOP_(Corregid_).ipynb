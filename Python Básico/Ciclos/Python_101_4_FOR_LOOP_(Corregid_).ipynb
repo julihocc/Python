{
  "nbformat": 4,
  "nbformat_minor": 0,
  "metadata": {
    "colab": {
      "name": "Python 101-4 FOR LOOP (Corregid_).ipynb",
      "provenance": [],
      "collapsed_sections": []
    },
    "kernelspec": {
      "name": "python3",
      "display_name": "Python 3"
    }
  },
  "cells": [
    {
      "cell_type": "code",
      "metadata": {
        "id": "3qqFQnepFugD",
        "colab_type": "code",
        "colab": {}
      },
      "source": [
        ""
      ],
      "execution_count": 0,
      "outputs": []
    },
    {
      "cell_type": "markdown",
      "metadata": {
        "id": "iIeffy_uLwOy",
        "colab_type": "text"
      },
      "source": [
        "#Python 101\n",
        "## #4 Bluces `for`\n",
        "\n",
        "Los bucles for, también conocidos como bucles de conteo, permiten repetir un bloque de código hasta que se cumpla un cierto número de repeticiones. \n",
        "\n",
        "Los pasos que se ejecutan son los siguientes:\n",
        "1. Inicializamos un índice `i` en algún número dado, por ejemplo cero o uno.\n",
        "2. Verificamos si se ha cumplido el número mínimo de pasos. Si ese es el caso, damos por terminada la repetición.\n",
        "3. En otro caso, ejecutamos el código del bloque, incrementamos el índice y regresamos al paso 2. \n",
        "\n",
        "En muchos lenguajes de programación, esto se escribiría de la siguiente forma:\n",
        "\n",
        "\n",
        "```\n",
        "for (int i=0; i<=cota; i=i+1){\n",
        "  ...\n",
        "}\n",
        "```\n",
        "que en Python es equivalente al sugiente código\n",
        "```\n",
        "i = 0\n",
        "while i<=cota:\n",
        "  ...\n",
        "  i = i+1\n",
        "```\n",
        "\n",
        "\n",
        "\n"
      ]
    },
    {
      "cell_type": "code",
      "metadata": {
        "id": "WZZxZ363GywQ",
        "colab_type": "code",
        "colab": {
          "base_uri": "https://localhost:8080/",
          "height": 208
        },
        "outputId": "dcc1aa77-84a9-42ff-e25a-6d623cd2557e"
      },
      "source": [
        "\"\"\"\n",
        "Ejemplo. Imprimir los números del 0 al 10\n",
        "\"\"\"\n",
        "i = 0\n",
        "while i<=10:\n",
        "  print(i)\n",
        "  i = i+1"
      ],
      "execution_count": 29,
      "outputs": [
        {
          "output_type": "stream",
          "text": [
            "0\n",
            "1\n",
            "2\n",
            "3\n",
            "4\n",
            "5\n",
            "6\n",
            "7\n",
            "8\n",
            "9\n",
            "10\n"
          ],
          "name": "stdout"
        }
      ]
    },
    {
      "cell_type": "markdown",
      "metadata": {
        "id": "dKyJMEsiFvRQ",
        "colab_type": "text"
      },
      "source": [
        "Una manera más general de escribir un ciclo `for` es crear un *iterable* y ejecutar el bloque de código para cada elemento generado por este iterable. \n",
        "\n",
        "  [Un iterador es un objeto que contiene un número contable de valores.\n",
        "  Un iterador es un objeto sobre el que se puede iterar, lo que significa que puede atravesar todos los valores.](https://https://www.w3schools.com/python/python_iterators.asp)\n",
        "\n",
        "\n",
        "\n",
        "\n",
        "Este es el enfoque que adoptaremos en el curso.\n"
      ]
    },
    {
      "cell_type": "code",
      "metadata": {
        "id": "OeGJwMfcYu3j",
        "colab_type": "code",
        "outputId": "a9e19a45-d6e5-4083-e624-c46ebf5aa321",
        "colab": {
          "base_uri": "https://localhost:8080/",
          "height": 121
        }
      },
      "source": [
        "\"\"\"\n",
        "Ejemplo. Imprimir los elementos de una lista.\n",
        "\n",
        "Crear una lista en Python es sencillo: Ponemos toda clase de objetos entre \n",
        "corchete `[]`, separados por una coma.\n",
        "\"\"\"\n",
        "mi_lista = [\"Hola\", \"Mundo!\", 1234, 3.14159, True, False]\n",
        "\n",
        "for elemento in mi_lista: \n",
        "  print(elemento)"
      ],
      "execution_count": 30,
      "outputs": [
        {
          "output_type": "stream",
          "text": [
            "Hola\n",
            "Mundo!\n",
            "1234\n",
            "3.14159\n",
            "True\n",
            "False\n"
          ],
          "name": "stdout"
        }
      ]
    },
    {
      "cell_type": "markdown",
      "metadata": {
        "id": "Zd6AddSmT8NV",
        "colab_type": "text"
      },
      "source": [
        "**Observa que la línea `for...in...:` termina con dos puntos `:` y que inmediatamente después, comenzamos con una identación.**\n",
        "\n",
        "Todo los bloque que esten indentados después del `for...` se repetirán. Cuando omitamos la identación, el ciclo se terminará. "
      ]
    },
    {
      "cell_type": "markdown",
      "metadata": {
        "id": "xBDQLfrhaFkS",
        "colab_type": "text"
      },
      "source": [
        "En común que necesitemos correr un ciclo `for` sobre una lista de índices. "
      ]
    },
    {
      "cell_type": "code",
      "metadata": {
        "id": "Ikdticz0aXcS",
        "colab_type": "code",
        "outputId": "00e1f680-ab1b-4deb-d6e1-c8d28243881b",
        "colab": {
          "base_uri": "https://localhost:8080/",
          "height": 104
        }
      },
      "source": [
        "\"\"\"\n",
        "Ejemplo. Imprimir los números del 1 al 5\n",
        "\"\"\"\n",
        "for i in [1,2,3,4,5]:\n",
        "  print(i)"
      ],
      "execution_count": 31,
      "outputs": [
        {
          "output_type": "stream",
          "text": [
            "1\n",
            "2\n",
            "3\n",
            "4\n",
            "5\n"
          ],
          "name": "stdout"
        }
      ]
    },
    {
      "cell_type": "markdown",
      "metadata": {
        "id": "YcVXA0rqadLA",
        "colab_type": "text"
      },
      "source": [
        "Cuando tenemos unos pocos índices, es fácil crear la lista manualmente, ¿pero que hay si necesitaramos una lista de cientos o miles de índices? En Python, podemos usar el *iterable* `range`, que nos sirve para generar una lista. \n",
        "\n",
        "`range(n,m)` generará una lista de números enteros entre (e incluidos) `n` y `m-1`. *Observa que `range(n,m)` no es en sí misma una lista* "
      ]
    },
    {
      "cell_type": "code",
      "metadata": {
        "id": "emovboMx24h-",
        "colab_type": "code",
        "outputId": "b3b9b9e7-425d-452a-a982-7c8a06251a83",
        "colab": {
          "base_uri": "https://localhost:8080/",
          "height": 173
        }
      },
      "source": [
        "\"\"\"\n",
        "Imprimir los índices del  1 al 9\n",
        "\"\"\"\n",
        "\n",
        "for i in range(1,10):\n",
        "  print(i)"
      ],
      "execution_count": 32,
      "outputs": [
        {
          "output_type": "stream",
          "text": [
            "1\n",
            "2\n",
            "3\n",
            "4\n",
            "5\n",
            "6\n",
            "7\n",
            "8\n",
            "9\n"
          ],
          "name": "stdout"
        }
      ]
    },
    {
      "cell_type": "code",
      "metadata": {
        "id": "mRuB3OVHbwQp",
        "colab_type": "code",
        "outputId": "36c00ade-209c-401c-8bba-72aec5859766",
        "colab": {
          "base_uri": "https://localhost:8080/",
          "height": 52
        }
      },
      "source": [
        "\"\"\"\n",
        "Imprimir los índices del  1 al 9\n",
        "\"\"\"\n",
        "\n",
        "algunos_indices = range(1,10) # recueda que la lista llega a 10-1=9\n",
        "print(algunos_indices) #no se imprime lista alguna\n",
        "#utilizamos la función list() para convertir el iterable en una lista\n",
        "print(list(algunos_indices)) "
      ],
      "execution_count": 33,
      "outputs": [
        {
          "output_type": "stream",
          "text": [
            "range(1, 10)\n",
            "[1, 2, 3, 4, 5, 6, 7, 8, 9]\n"
          ],
          "name": "stdout"
        }
      ]
    },
    {
      "cell_type": "markdown",
      "metadata": {
        "id": "fIkkfqn0cdqV",
        "colab_type": "text"
      },
      "source": [
        "Ahora bien, en el ciclo `for`, podemos usar iterables en lugar de listas. "
      ]
    },
    {
      "cell_type": "code",
      "metadata": {
        "id": "2MFeDEU-LC6e",
        "colab_type": "code",
        "outputId": "17c7c4ee-c371-4208-d0e5-679f811ed82e",
        "colab": {
          "base_uri": "https://localhost:8080/",
          "height": 104
        }
      },
      "source": [
        "\"\"\"\n",
        "Ejemplo. Imprimir los números del 1 al 5\n",
        "\"\"\"\n",
        "mis_indices = range(1,6) #este iterable genera la lista de enteros [1,2,3,4,5]\n",
        "\n",
        "for i in mis_indices: #para cada índice i en nuestra lista...\n",
        "  print(i) #...imprime i"
      ],
      "execution_count": 34,
      "outputs": [
        {
          "output_type": "stream",
          "text": [
            "1\n",
            "2\n",
            "3\n",
            "4\n",
            "5\n"
          ],
          "name": "stdout"
        }
      ]
    },
    {
      "cell_type": "code",
      "metadata": {
        "id": "LBHtgIRQ5fIr",
        "colab_type": "code",
        "outputId": "3e2867f2-d109-4814-b0c0-9ffc5c3f9d75",
        "colab": {
          "base_uri": "https://localhost:8080/",
          "height": 156
        }
      },
      "source": [
        "\"\"\"\n",
        "Imprimir del 0 al 7\n",
        "\"\"\"\n",
        "for i in range(8):\n",
        "  print(i)"
      ],
      "execution_count": 35,
      "outputs": [
        {
          "output_type": "stream",
          "text": [
            "0\n",
            "1\n",
            "2\n",
            "3\n",
            "4\n",
            "5\n",
            "6\n",
            "7\n"
          ],
          "name": "stdout"
        }
      ]
    },
    {
      "cell_type": "markdown",
      "metadata": {
        "id": "2hO_YgB_Luay",
        "colab_type": "text"
      },
      "source": [
        "**Recuerda que una línea identada esta subordinada a la que tiene menor identación.**"
      ]
    },
    {
      "cell_type": "code",
      "metadata": {
        "id": "NXiWQLb3Ta2d",
        "colab_type": "code",
        "outputId": "1b89bd95-e6f9-4a0d-c5d3-88ea7d7ef16a",
        "colab": {
          "base_uri": "https://localhost:8080/",
          "height": 191
        }
      },
      "source": [
        "\"\"\"\n",
        "Ejemplo. Dos líneas identadas\n",
        "\"\"\"\n",
        "for i in range(5): #range(n) es equivalente a range(0,n)\n",
        "  print(\"Imprimimos la línea con identación\")\n",
        "  print(\"Imprimimos otra línea con identación\")"
      ],
      "execution_count": 36,
      "outputs": [
        {
          "output_type": "stream",
          "text": [
            "Imprimimos la línea con identación\n",
            "Imprimimos otra línea con identación\n",
            "Imprimimos la línea con identación\n",
            "Imprimimos otra línea con identación\n",
            "Imprimimos la línea con identación\n",
            "Imprimimos otra línea con identación\n",
            "Imprimimos la línea con identación\n",
            "Imprimimos otra línea con identación\n",
            "Imprimimos la línea con identación\n",
            "Imprimimos otra línea con identación\n"
          ],
          "name": "stdout"
        }
      ]
    },
    {
      "cell_type": "code",
      "metadata": {
        "id": "Kz6xouKGU3SU",
        "colab_type": "code",
        "outputId": "e1e12d53-0019-4cf0-9a75-077b4127cd02",
        "colab": {
          "base_uri": "https://localhost:8080/",
          "height": 87
        }
      },
      "source": [
        "\"\"\"\n",
        "Ahora, omitimos la identación en la segunda\n",
        "\"\"\"\n",
        "for i in range(3): \n",
        "  print(\"Imprimimos la línea con identación\")\n",
        "#la siguiente línea no está identada\n",
        "print(\"Imprimimos otra línea sin identación\")"
      ],
      "execution_count": 37,
      "outputs": [
        {
          "output_type": "stream",
          "text": [
            "Imprimimos la línea con identación\n",
            "Imprimimos la línea con identación\n",
            "Imprimimos la línea con identación\n",
            "Imprimimos otra línea sin identación\n"
          ],
          "name": "stdout"
        }
      ]
    },
    {
      "cell_type": "markdown",
      "metadata": {
        "id": "IUJByiBtVs6B",
        "colab_type": "text"
      },
      "source": [
        "Cuando usamos la función `range`, los incrementos no necesariamente tienen que ser de uno en uno, incluso pueden ser negativos."
      ]
    },
    {
      "cell_type": "code",
      "metadata": {
        "id": "SVTxKwnKVCus",
        "colab_type": "code",
        "outputId": "51ce0702-9d84-4f7c-f470-2168c7f960cf",
        "colab": {
          "base_uri": "https://localhost:8080/",
          "height": 104
        }
      },
      "source": [
        "\"\"\"\n",
        "Ejemplo. Imprimir los número impares desde 1 hasta 9\n",
        "\"\"\"\n",
        "for impar in range(1,10,2):\n",
        "  print(impar)"
      ],
      "execution_count": 38,
      "outputs": [
        {
          "output_type": "stream",
          "text": [
            "1\n",
            "3\n",
            "5\n",
            "7\n",
            "9\n"
          ],
          "name": "stdout"
        }
      ]
    },
    {
      "cell_type": "code",
      "metadata": {
        "id": "gib_rHu963lR",
        "colab_type": "code",
        "outputId": "bf6270df-cae6-4338-c48e-e2c229a03631",
        "colab": {
          "base_uri": "https://localhost:8080/",
          "height": 121
        }
      },
      "source": [
        "\"\"\"\n",
        "Ejemplo. Imprimir los número pares desde 0 hasta 10\n",
        "\"\"\"\n",
        "for par in range(0,11,2):\n",
        "  print(par)"
      ],
      "execution_count": 39,
      "outputs": [
        {
          "output_type": "stream",
          "text": [
            "0\n",
            "2\n",
            "4\n",
            "6\n",
            "8\n",
            "10\n"
          ],
          "name": "stdout"
        }
      ]
    },
    {
      "cell_type": "code",
      "metadata": {
        "id": "XzLwi_nAWBt-",
        "colab_type": "code",
        "outputId": "d171e6ca-5d44-45c4-9e74-d611eae1e9c0",
        "colab": {
          "base_uri": "https://localhost:8080/",
          "height": 104
        }
      },
      "source": [
        "\"\"\"\n",
        "Imprimir la cuenta regresiva `5,4,3,2,1`\n",
        "\n",
        "Observa que así como en los conteos hacia adeltante, tenemos que sumar uno más \n",
        "al número final, en los conteos hacia atras debemos restarlo.\n",
        "\"\"\"\n",
        "for t in range(5,0,-1):\n",
        "  print(t)"
      ],
      "execution_count": 40,
      "outputs": [
        {
          "output_type": "stream",
          "text": [
            "5\n",
            "4\n",
            "3\n",
            "2\n",
            "1\n"
          ],
          "name": "stdout"
        }
      ]
    },
    {
      "cell_type": "code",
      "metadata": {
        "id": "CEFiINT-7zRX",
        "colab_type": "code",
        "colab": {}
      },
      "source": [
        "for i in range(5,0,1):\n",
        "  print(i)"
      ],
      "execution_count": 0,
      "outputs": []
    },
    {
      "cell_type": "markdown",
      "metadata": {
        "id": "ZIdbwv2zp3CM",
        "colab_type": "text"
      },
      "source": [
        "### Acceso a elementos por índices \n",
        "\n",
        "Es posible acceder a los elementos de una lista a traves de índices, con el siguiente formato \n",
        "\n",
        "`mi_lista[índice]`\n",
        "\n",
        "*Observación: En Python, empezamos a contar desde cero.*"
      ]
    },
    {
      "cell_type": "code",
      "metadata": {
        "id": "qJJgYpoPViFW",
        "colab_type": "code",
        "outputId": "5ae2a3a0-c7b8-4588-d864-68421d49e990",
        "colab": {
          "base_uri": "https://localhost:8080/",
          "height": 87
        }
      },
      "source": [
        "\"\"\"\n",
        "Ejemplo. Acceder a los elmentos de una lista con índices\n",
        "\"\"\"\n",
        "\n",
        "mi_lista = [\"Ana\", \"Beto\", \"Carlos\", \"Daniel\"]\n",
        "print(mi_lista[0])\n",
        "print(mi_lista[1])\n",
        "print(mi_lista[2])\n",
        "print(mi_lista[3])"
      ],
      "execution_count": 42,
      "outputs": [
        {
          "output_type": "stream",
          "text": [
            "Ana\n",
            "Beto\n",
            "Carlos\n",
            "Daniel\n"
          ],
          "name": "stdout"
        }
      ]
    },
    {
      "cell_type": "code",
      "metadata": {
        "id": "x-p-cEa9qYbJ",
        "colab_type": "code",
        "outputId": "5212294a-5ce4-497a-907c-c96f5b481fc4",
        "colab": {
          "base_uri": "https://localhost:8080/",
          "height": 121
        }
      },
      "source": [
        "\"\"\"\n",
        "Por supuesto, podemos realizar la tarea con un ciclo for\n",
        "\"\"\"\n",
        "### Calculamos primero la longitud de la lista con la función `len`\n",
        "num_elementos = len(mi_lista)\n",
        "print(num_elementos)\n",
        "print(\"---\")\n",
        "for indice in range(num_elementos):\n",
        "  print(indice, mi_lista[indice])"
      ],
      "execution_count": 43,
      "outputs": [
        {
          "output_type": "stream",
          "text": [
            "4\n",
            "---\n",
            "0 Ana\n",
            "1 Beto\n",
            "2 Carlos\n",
            "3 Daniel\n"
          ],
          "name": "stdout"
        }
      ]
    },
    {
      "cell_type": "code",
      "metadata": {
        "id": "PmmaTbcjHPKc",
        "colab_type": "code",
        "colab": {
          "base_uri": "https://localhost:8080/",
          "height": 87
        },
        "outputId": "cfed9737-579d-472b-e51f-e4628419e3ee"
      },
      "source": [
        "\"\"\"\n",
        "Mejor aún, podemos correr sobre un iterable que \"pegue\"\n",
        "los índices con sus respectivos elementos\n",
        "\"\"\"\n",
        "for indice, elemento in enumerate(mi_lista):\n",
        "  print(indice, elemento)"
      ],
      "execution_count": 44,
      "outputs": [
        {
          "output_type": "stream",
          "text": [
            "0 Ana\n",
            "1 Beto\n",
            "2 Carlos\n",
            "3 Daniel\n"
          ],
          "name": "stdout"
        }
      ]
    },
    {
      "cell_type": "markdown",
      "metadata": {
        "id": "CHNWGV24IByk",
        "colab_type": "text"
      },
      "source": [
        "De hecho, si tenemos dos iterables que generen el mismo número de elementos, podemos crear un iterable que pegue los elementos generados por ambos."
      ]
    },
    {
      "cell_type": "code",
      "metadata": {
        "id": "EUcXke2iIP0c",
        "colab_type": "code",
        "colab": {
          "base_uri": "https://localhost:8080/",
          "height": 87
        },
        "outputId": "5da2572d-5b47-45c0-f5c3-db5ba07c81f2"
      },
      "source": [
        "\"\"\"\n",
        "Imprimir el ID y el nombre de los elementos en nuestra lista\n",
        "\"\"\"\n",
        "IDS = [1324,132545,3214,1324]\n",
        "\n",
        "for ID, nombre in zip(IDS, mi_lista):\n",
        "  print(ID, nombre)"
      ],
      "execution_count": 45,
      "outputs": [
        {
          "output_type": "stream",
          "text": [
            "1324 Ana\n",
            "132545 Beto\n",
            "3214 Carlos\n",
            "1324 Daniel\n"
          ],
          "name": "stdout"
        }
      ]
    },
    {
      "cell_type": "markdown",
      "metadata": {
        "id": "qlJgyUJANTqL",
        "colab_type": "text"
      },
      "source": [
        "### Iteraciones sobre cadenas\n",
        "\n",
        "En Python también podemos iterar sobre cadenas de caracteres, tal como lo hacemos con una lista:"
      ]
    },
    {
      "cell_type": "code",
      "metadata": {
        "id": "YJqktpS4Mkzt",
        "colab_type": "code",
        "outputId": "d6b8c90d-0ac3-471c-bec8-b4ef9b38dc08",
        "colab": {
          "base_uri": "https://localhost:8080/",
          "height": 121
        }
      },
      "source": [
        "\"\"\"\n",
        "Ejemplo. Deletrear la palabra \"Python\"\n",
        "\"\"\"\n",
        "palabra = \"python\"\n",
        "for letra in palabra:\n",
        "  print(letra)"
      ],
      "execution_count": 46,
      "outputs": [
        {
          "output_type": "stream",
          "text": [
            "p\n",
            "y\n",
            "t\n",
            "h\n",
            "o\n",
            "n\n"
          ],
          "name": "stdout"
        }
      ]
    },
    {
      "cell_type": "code",
      "metadata": {
        "id": "5OXI2JGDOAC9",
        "colab_type": "code",
        "outputId": "fdde523d-77ce-4ef6-a9fa-2dcadd20422c",
        "colab": {
          "base_uri": "https://localhost:8080/",
          "height": 35
        }
      },
      "source": [
        "\"\"\"\n",
        "Ejemplo. Definir una función `serpenteo` que, dada una palabra, cambie cada vocal\n",
        "a mayúscula y cada consonante a minúscula.\n",
        "\"\"\"\n",
        "\n",
        "def serpenteo(palabra):\n",
        "  nueva_palabra = \"\"\n",
        "  for letra in palabra:\n",
        "    letra = letra.lower()\n",
        "    if letra in [\"a\", \"e\", \"i\", \"o\", \"u\"]:\n",
        "      letra = letra.upper()\n",
        "    nueva_palabra += letra\n",
        "  return nueva_palabra\n",
        "\n",
        "serpenteo(\"PYthoN\")"
      ],
      "execution_count": 47,
      "outputs": [
        {
          "output_type": "execute_result",
          "data": {
            "text/plain": [
              "'pythOn'"
            ]
          },
          "metadata": {
            "tags": []
          },
          "execution_count": 47
        }
      ]
    },
    {
      "cell_type": "markdown",
      "metadata": {
        "id": "rhQJRxnVQHWp",
        "colab_type": "text"
      },
      "source": [
        "Es importante mencionar que, a diferencia de una lista, no podemos modificar los caracteres en una cadena dada."
      ]
    },
    {
      "cell_type": "code",
      "metadata": {
        "id": "HVVeklGuPQWq",
        "colab_type": "code",
        "outputId": "34fb3178-78d2-44d1-d27d-304b98bfc9b6",
        "colab": {
          "base_uri": "https://localhost:8080/",
          "height": 35
        }
      },
      "source": [
        "\"\"\"\n",
        "Ejemplo. Modificar un elemento en una lista\n",
        "\"\"\"\n",
        "una_lista = [\"p\",\"y\",\"t\",\"h\",\"o\",\"n\"]\n",
        "una_lista[0] = una_lista[0].upper()\n",
        "print(una_lista)"
      ],
      "execution_count": 48,
      "outputs": [
        {
          "output_type": "stream",
          "text": [
            "['P', 'y', 't', 'h', 'o', 'n']\n"
          ],
          "name": "stdout"
        }
      ]
    },
    {
      "cell_type": "code",
      "metadata": {
        "id": "oPNUwjl-Qf6k",
        "colab_type": "code",
        "outputId": "35f20c51-1e04-4d06-dfe8-5798aeade784",
        "colab": {
          "base_uri": "https://localhost:8080/",
          "height": 35
        }
      },
      "source": [
        "\"\"\"\n",
        "Esto no es posible con una cadena de caracteres\n",
        "\"\"\"\n",
        "una_cadena = \"python\"\n",
        "try:\n",
        "  una_cadena[0] = una_cadena[0].upper()\n",
        "except:\n",
        "  print(\"Lo dicho! No podemos modificar una cadena\")"
      ],
      "execution_count": 49,
      "outputs": [
        {
          "output_type": "stream",
          "text": [
            "Lo dicho! No podemos modificar una cadena\n"
          ],
          "name": "stdout"
        }
      ]
    },
    {
      "cell_type": "markdown",
      "metadata": {
        "id": "C2paSszcS45K",
        "colab_type": "text"
      },
      "source": [
        "### Operaciones iteradas\n",
        "\n",
        "Quizá una de las mejores aplicaciones para ciclos for es poder realizar operaciones númericas repetitivas, de manera automática. Vamos a ilustrar este principio con algunos ejemplos. "
      ]
    },
    {
      "cell_type": "code",
      "metadata": {
        "id": "x3NgdTM-QyrR",
        "colab_type": "code",
        "outputId": "eb45b189-40dc-4dfb-8f3b-19886c011d56",
        "colab": {
          "base_uri": "https://localhost:8080/",
          "height": 35
        }
      },
      "source": [
        "\"\"\"\n",
        "Encontrar la suma de los números enteros del 1 al 100\n",
        "\"\"\"\n",
        "suma = 0 #iniciamos nuestra suma en cero\n",
        "\n",
        "for n in range(1,100+1): #iteramos el número n entre 1 y 100\n",
        "  #el símbolo += significa agregar a...\n",
        "  suma += n #sumamos el número n a nuestra suma\n",
        "\n",
        "print(suma) #mostramos el resultado"
      ],
      "execution_count": 50,
      "outputs": [
        {
          "output_type": "stream",
          "text": [
            "5050\n"
          ],
          "name": "stdout"
        }
      ]
    },
    {
      "cell_type": "code",
      "metadata": {
        "id": "v0j3_TF-TxE5",
        "colab_type": "code",
        "outputId": "2e655eed-f913-48f6-c671-ded8083f7cb4",
        "colab": {
          "base_uri": "https://localhost:8080/",
          "height": 191
        }
      },
      "source": [
        "\"\"\"\n",
        "Encontrar la suma de los primeros 10 número pares, comenzado de cero. Pero ahora\n",
        "imprime las sumas parciales, es decir, la suma resultante en cada paso.\n",
        "\"\"\"\n",
        "suma = 0\n",
        "\n",
        "for n in range(10):\n",
        "  suma += 2*n\n",
        "  print(suma)"
      ],
      "execution_count": 51,
      "outputs": [
        {
          "output_type": "stream",
          "text": [
            "0\n",
            "2\n",
            "6\n",
            "12\n",
            "20\n",
            "30\n",
            "42\n",
            "56\n",
            "72\n",
            "90\n"
          ],
          "name": "stdout"
        }
      ]
    },
    {
      "cell_type": "code",
      "metadata": {
        "id": "6xDyBgg6jKv6",
        "colab_type": "code",
        "outputId": "ac84edb9-4c8e-44a4-a3d2-cc993a6de6bc",
        "colab": {
          "base_uri": "https://localhost:8080/",
          "height": 191
        }
      },
      "source": [
        "\"\"\"\n",
        "1. Definir una función que multiplique los primeros n números enteros positivos. \n",
        "Esta función recibe un nombre especial, n! o n factorial.\n",
        "2. Imprime el resultado para los primero 10 números enteros positivos.\n",
        "\"\"\"\n",
        "\n",
        "def factorial(n):\n",
        "  factorial = 1\n",
        "  for i in range(1,n+1):\n",
        "    factorial *= i\n",
        "  return factorial\n",
        "\n",
        "for n in range(1,10+1):\n",
        "  print(factorial(n))"
      ],
      "execution_count": 52,
      "outputs": [
        {
          "output_type": "stream",
          "text": [
            "1\n",
            "2\n",
            "6\n",
            "24\n",
            "120\n",
            "720\n",
            "5040\n",
            "40320\n",
            "362880\n",
            "3628800\n"
          ],
          "name": "stdout"
        }
      ]
    },
    {
      "cell_type": "markdown",
      "metadata": {
        "id": "1KHuebKImQpo",
        "colab_type": "text"
      },
      "source": [
        "Usando índices podemos acceder a dos listas de la misma longitud y realizar operaciones entrada por entrada. \n",
        "\n",
        "En le siguiente ejemplo, tenemos una lista de `precios` de  y otra lista de `unidades`. La misión es encontrar el total de la compra. El primer precio, corresponde al primer producto en las unidades y así sucesivamente. "
      ]
    },
    {
      "cell_type": "code",
      "metadata": {
        "id": "Q-HnLXtQnjmQ",
        "colab_type": "code",
        "outputId": "7391108d-97ee-4e2c-ef24-1ec82d09b98d",
        "colab": {
          "base_uri": "https://localhost:8080/",
          "height": 35
        }
      },
      "source": [
        "\"\"\"\n",
        "Encontrar el costo total de la compra\n",
        "\"\"\"\n",
        "\n",
        "precios = [9.90, 1.99, 2.54, 112.35]\n",
        "unidades = [5,9,10,1]\n",
        "\n",
        "assert len(precios)==len(unidades)\n",
        "\n",
        "total = 0\n",
        "\n",
        "for i in range(len(precios)):\n",
        "  total += precios[i]*unidades[i]\n",
        "\n",
        "print(total)"
      ],
      "execution_count": 53,
      "outputs": [
        {
          "output_type": "stream",
          "text": [
            "205.16\n"
          ],
          "name": "stdout"
        }
      ]
    },
    {
      "cell_type": "markdown",
      "metadata": {
        "id": "FowuzoLKkn93",
        "colab_type": "text"
      },
      "source": [
        "### Ciclos dobles\n",
        "Vamos a ver una última aplicación de los ciclos `for`, que es recorrer dos listas, aplicando una operación sobre dos listas diferentes. "
      ]
    },
    {
      "cell_type": "code",
      "metadata": {
        "id": "e2J4iG26j_VF",
        "colab_type": "code",
        "outputId": "fdfbefc8-c7f3-4f6d-d73b-7fabd528db7a",
        "colab": {
          "base_uri": "https://localhost:8080/",
          "height": 1000
        }
      },
      "source": [
        "\"\"\"\n",
        "Ejercicio. Imprime las tablas de multiplicar.\n",
        "\"\"\"\n",
        "\n",
        "for n in range(1,10):\n",
        "  for m in range(1,10):\n",
        "    print(n,\"x\",m,\"=\",n*m)"
      ],
      "execution_count": 54,
      "outputs": [
        {
          "output_type": "stream",
          "text": [
            "1 x 1 = 1\n",
            "1 x 2 = 2\n",
            "1 x 3 = 3\n",
            "1 x 4 = 4\n",
            "1 x 5 = 5\n",
            "1 x 6 = 6\n",
            "1 x 7 = 7\n",
            "1 x 8 = 8\n",
            "1 x 9 = 9\n",
            "2 x 1 = 2\n",
            "2 x 2 = 4\n",
            "2 x 3 = 6\n",
            "2 x 4 = 8\n",
            "2 x 5 = 10\n",
            "2 x 6 = 12\n",
            "2 x 7 = 14\n",
            "2 x 8 = 16\n",
            "2 x 9 = 18\n",
            "3 x 1 = 3\n",
            "3 x 2 = 6\n",
            "3 x 3 = 9\n",
            "3 x 4 = 12\n",
            "3 x 5 = 15\n",
            "3 x 6 = 18\n",
            "3 x 7 = 21\n",
            "3 x 8 = 24\n",
            "3 x 9 = 27\n",
            "4 x 1 = 4\n",
            "4 x 2 = 8\n",
            "4 x 3 = 12\n",
            "4 x 4 = 16\n",
            "4 x 5 = 20\n",
            "4 x 6 = 24\n",
            "4 x 7 = 28\n",
            "4 x 8 = 32\n",
            "4 x 9 = 36\n",
            "5 x 1 = 5\n",
            "5 x 2 = 10\n",
            "5 x 3 = 15\n",
            "5 x 4 = 20\n",
            "5 x 5 = 25\n",
            "5 x 6 = 30\n",
            "5 x 7 = 35\n",
            "5 x 8 = 40\n",
            "5 x 9 = 45\n",
            "6 x 1 = 6\n",
            "6 x 2 = 12\n",
            "6 x 3 = 18\n",
            "6 x 4 = 24\n",
            "6 x 5 = 30\n",
            "6 x 6 = 36\n",
            "6 x 7 = 42\n",
            "6 x 8 = 48\n",
            "6 x 9 = 54\n",
            "7 x 1 = 7\n",
            "7 x 2 = 14\n",
            "7 x 3 = 21\n",
            "7 x 4 = 28\n",
            "7 x 5 = 35\n",
            "7 x 6 = 42\n",
            "7 x 7 = 49\n",
            "7 x 8 = 56\n",
            "7 x 9 = 63\n",
            "8 x 1 = 8\n",
            "8 x 2 = 16\n",
            "8 x 3 = 24\n",
            "8 x 4 = 32\n",
            "8 x 5 = 40\n",
            "8 x 6 = 48\n",
            "8 x 7 = 56\n",
            "8 x 8 = 64\n",
            "8 x 9 = 72\n",
            "9 x 1 = 9\n",
            "9 x 2 = 18\n",
            "9 x 3 = 27\n",
            "9 x 4 = 36\n",
            "9 x 5 = 45\n",
            "9 x 6 = 54\n",
            "9 x 7 = 63\n",
            "9 x 8 = 72\n",
            "9 x 9 = 81\n"
          ],
          "name": "stdout"
        }
      ]
    },
    {
      "cell_type": "code",
      "metadata": {
        "id": "uaycVwjnl_Qn",
        "colab_type": "code",
        "colab": {}
      },
      "source": [
        ""
      ],
      "execution_count": 0,
      "outputs": []
    }
  ]
}