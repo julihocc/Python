{
 "cells": [
  {
   "cell_type": "markdown",
   "metadata": {
    "colab_type": "text",
    "id": "iIeffy_uLwOy"
   },
   "source": [
    "#Python 101\n",
    "## #4 Ciclos `for`\n",
    "\n",
    "Los bucles for, también conocidos como bucles de conteo, permiten repetir un bloque de código hasta que se cumpla un cierto número de repeticiones. \n",
    "\n",
    "Los pasos que se ejecutan son los siguientes:\n",
    "1. Inicializamos un índice `i` en algún número dado, por ejemplo cero o uno.\n",
    "2. Verificamos si se ha cumplido el número mínimo de pasos. Si ese es el caso, damos por terminada la repetición.\n",
    "3. En otro caso, ejecutamos el código del bloque, incrementamos el índice y regresamos al paso 2. \n",
    "\n",
    "Una manera más general de escribir un ciclo `for` es crear una lista y ejecutar el bloque de código para cada elemento en la lista. Este es el enfoque que adoptaremos en el curso.\n"
   ]
  },
  {
   "cell_type": "code",
   "execution_count": 16,
   "metadata": {
    "colab": {
     "base_uri": "https://localhost:8080/",
     "height": 125
    },
    "colab_type": "code",
    "id": "OeGJwMfcYu3j",
    "outputId": "48d4b9ac-f987-4ae0-8bde-cc56e5cfccb9"
   },
   "outputs": [
    {
     "name": "stdout",
     "output_type": "stream",
     "text": [
      "Hola\n",
      "Mundo!\n",
      "1234\n",
      "3.14159\n",
      "True\n",
      "False\n"
     ]
    }
   ],
   "source": [
    "\"\"\"\n",
    "Ejemplo. Imprimir los elementos de una lista.\n",
    "\n",
    "Crear una lista en Python es sencillo: Ponemos toda clase de objetos entre \n",
    "corchete `[]`, separados por una coma.\n",
    "\"\"\"\n",
    "mi_lista = [\"Hola\", \"Mundo!\", 1234, 3.14159, True, False]\n",
    "\n",
    "for elemento in mi_lista: \n",
    "  print(elemento)"
   ]
  },
  {
   "cell_type": "markdown",
   "metadata": {
    "colab_type": "text",
    "id": "Zd6AddSmT8NV"
   },
   "source": [
    "**Observa que la línea `for...in...:` termina con dos puntos `:` y que inmediatamente después, comenzamos con una identación.**\n",
    "\n",
    "Todo los bloque que esten indentados después del `for...` se repetirán. Cuando omitamos la identación, el ciclo se terminará. "
   ]
  },
  {
   "cell_type": "markdown",
   "metadata": {
    "colab_type": "text",
    "id": "xBDQLfrhaFkS"
   },
   "source": [
    "Sin embargo, es más común que necesitemos correr un ciclo `for` sobre una lista de índices. "
   ]
  },
  {
   "cell_type": "code",
   "execution_count": 17,
   "metadata": {
    "colab": {
     "base_uri": "https://localhost:8080/",
     "height": 107
    },
    "colab_type": "code",
    "id": "Ikdticz0aXcS",
    "outputId": "978b3d13-8ff4-4a81-a8d0-37f43fe28bff"
   },
   "outputs": [
    {
     "name": "stdout",
     "output_type": "stream",
     "text": [
      "1\n",
      "2\n",
      "3\n",
      "4\n",
      "5\n"
     ]
    }
   ],
   "source": [
    "\"\"\"\n",
    "Ejemplo. Imprimir los números del 1 al 5\n",
    "\"\"\"\n",
    "for i in [1,2,3,4,5]:\n",
    "  print(i)"
   ]
  },
  {
   "cell_type": "markdown",
   "metadata": {
    "colab_type": "text",
    "id": "YcVXA0rqadLA"
   },
   "source": [
    "Cuando tenemos unos pocos índices, es fácil crear la lista manualmente, ¿pero que hay si necesitaramos una lista de cientos o miles de índices? En Python, podemos usar el *iterable* `range`, que nos sirve para generar una lista. \n",
    "\n",
    "`range(n,m)` generará una lista de números enteros entre (e incluidos) `n` y `m-1`. *Observa que `range(n,m)` no es en sí misma una lista* "
   ]
  },
  {
   "cell_type": "code",
   "execution_count": 18,
   "metadata": {
    "colab": {
     "base_uri": "https://localhost:8080/",
     "height": 53
    },
    "colab_type": "code",
    "id": "mRuB3OVHbwQp",
    "outputId": "a81149f0-bd46-4f04-8cbf-d845ae332886"
   },
   "outputs": [
    {
     "name": "stdout",
     "output_type": "stream",
     "text": [
      "range(1, 10)\n",
      "[1, 2, 3, 4, 5, 6, 7, 8, 9]\n"
     ]
    }
   ],
   "source": [
    "\"\"\"\n",
    "Imprimir los índices del  1 al 9\n",
    "\"\"\"\n",
    "\n",
    "algunos_indices = range(1,10) # recueda que la lista llega a 10-1=9\n",
    "print(algunos_indices) #no se imprime lista alguna\n",
    "#utilizamos la función list() para convertir el iterable en una lista\n",
    "print(list(algunos_indices)) "
   ]
  },
  {
   "cell_type": "markdown",
   "metadata": {
    "colab_type": "text",
    "id": "fIkkfqn0cdqV"
   },
   "source": [
    "Ahora bien, en el ciclo `for`, podemos usar iterables en lugar de listas. Debajo\n",
    "de la capa, esta implementación es mucho más eficiente."
   ]
  },
  {
   "cell_type": "code",
   "execution_count": 19,
   "metadata": {
    "colab": {
     "base_uri": "https://localhost:8080/",
     "height": 136
    },
    "colab_type": "code",
    "id": "2MFeDEU-LC6e",
    "outputId": "0d60f1a2-1bd7-4bf5-8f4c-0df38025caf0"
   },
   "outputs": [
    {
     "ename": "SyntaxError",
     "evalue": "ignored",
     "output_type": "error",
     "traceback": [
      "\u001b[0;36m  File \u001b[0;32m\"<ipython-input-19-fdaeeb56c179>\"\u001b[0;36m, line \u001b[0;32m1\u001b[0m\n\u001b[0;31m    ]\"\"\"\u001b[0m\n\u001b[0m    ^\u001b[0m\n\u001b[0;31mSyntaxError\u001b[0m\u001b[0;31m:\u001b[0m invalid syntax\n"
     ]
    }
   ],
   "source": [
    "]\"\"\"\n",
    "Ejemplo. Imprimir los números del 1 al 5\n",
    "\"\"\"\n",
    "#este iterable genera la lista de enteros desde 1 hasta 6-1=10\n",
    "mis_indices = range(1,6) \n",
    "\n",
    "for i in mis_indices: #para cada índice i en nuestra lista...\n",
    "  print(i) #...imprime i"
   ]
  },
  {
   "cell_type": "code",
   "execution_count": 0,
   "metadata": {
    "colab": {},
    "colab_type": "code",
    "id": "NXiWQLb3Ta2d"
   },
   "outputs": [],
   "source": [
    "\"\"\"\n",
    "Ejemplo. Dos líneas identadas\n",
    "\"\"\"\n",
    "for i in range(3): #range(n) es equivalente a range(0,n)\n",
    "  print(\"Imprimimos la línea con identación\")\n",
    "  print(\"Imprimimos otra línea con identación\")"
   ]
  },
  {
   "cell_type": "code",
   "execution_count": 0,
   "metadata": {
    "colab": {},
    "colab_type": "code",
    "id": "Kz6xouKGU3SU"
   },
   "outputs": [],
   "source": [
    "\"\"\"\n",
    "Ahora, omitimos la identación en la segunda\n",
    "\"\"\"\n",
    "for i in range(3): \n",
    "  print(\"Imprimimos la línea con identación\")\n",
    "#la siguiente línea no está identada\n",
    "print(\"Imprimimos otra línea sin identación\")"
   ]
  },
  {
   "cell_type": "markdown",
   "metadata": {
    "colab_type": "text",
    "id": "IUJByiBtVs6B"
   },
   "source": [
    "Los incrementos no necesariamente tienen que ser de uno en uno: Podemos hacer incrementos mayores o incluso negativos."
   ]
  },
  {
   "cell_type": "code",
   "execution_count": 0,
   "metadata": {
    "colab": {},
    "colab_type": "code",
    "id": "SVTxKwnKVCus"
   },
   "outputs": [],
   "source": [
    "\"\"\"\n",
    "Ejemplo. Imprimir los número impares desde 1 hasta 9\n",
    "\"\"\"\n",
    "for impar in range(1,10,2):\n",
    "  print(impar)"
   ]
  },
  {
   "cell_type": "code",
   "execution_count": 0,
   "metadata": {
    "colab": {},
    "colab_type": "code",
    "id": "XzLwi_nAWBt-"
   },
   "outputs": [],
   "source": [
    "\"\"\"\n",
    "Imprimir la cuenta regresiva `10,9,...,1,0`\n",
    "\n",
    "Observa que así como en los conteos hacia adeltante, tenemos que sumar uno más \n",
    "al número final, en los conteos hacia atras debemos restarlo.\n",
    "\"\"\"\n",
    "for t in range(10,-1,-1):\n",
    "  print(t)"
   ]
  }
 ],
 "metadata": {
  "colab": {
   "name": "Python 101-4 FOR LOOP.ipynb",
   "provenance": []
  },
  "kernelspec": {
   "display_name": "Python 3",
   "language": "python",
   "name": "python3"
  },
  "language_info": {
   "codemirror_mode": {
    "name": "ipython",
    "version": 3
   },
   "file_extension": ".py",
   "mimetype": "text/x-python",
   "name": "python",
   "nbconvert_exporter": "python",
   "pygments_lexer": "ipython3",
   "version": "3.7.4"
  }
 },
 "nbformat": 4,
 "nbformat_minor": 1
}
