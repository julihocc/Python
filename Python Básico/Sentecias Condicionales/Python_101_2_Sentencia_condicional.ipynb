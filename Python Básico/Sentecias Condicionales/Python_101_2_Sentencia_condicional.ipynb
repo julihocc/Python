{
 "cells": [
  {
   "cell_type": "markdown",
   "metadata": {
    "colab_type": "text",
    "id": "tY63dSeWBqtB"
   },
   "source": [
    "# Python 101\n",
    "## Sentencias condicionales\n",
    "\n",
    "Las funciones son más útiles cuando podemos elegir que regresen diferentes valores, dependiendo de ciertas condiciones. "
   ]
  },
  {
   "cell_type": "code",
   "execution_count": 0,
   "metadata": {
    "colab": {
     "base_uri": "https://localhost:8080/",
     "height": 53
    },
    "colab_type": "code",
    "id": "3h2MGkJaIXCt",
    "outputId": "1f025f66-7ef5-47d7-8348-eadfe24bbf6a"
   },
   "outputs": [
    {
     "name": "stdout",
     "output_type": "stream",
     "text": [
      "True\n",
      "False\n"
     ]
    }
   ],
   "source": [
    "\"\"\"\n",
    "Por ejemplo, vamos a crear una función que nos indique si un número es pa\n",
    "\"\"\"\n",
    "def es_par(n):\n",
    "  if n%2==0: # si n tiene residuo cero al dividirlo entre 2\n",
    "    return True # regresará un valor True (cierto)\n",
    "  else: # si no tiene residuo cero, \n",
    "    return False #regresará un valor False\n",
    "  \n",
    "# Ejemplos\n",
    "print(es_par(1234))\n",
    "print(es_par(123))"
   ]
  },
  {
   "cell_type": "markdown",
   "metadata": {
    "colab_type": "text",
    "id": "Be5RTjFrB63-"
   },
   "source": [
    "Como puedes observar, en Python son muy importantes las *identaciones*, es decir, los espacios entre el margen izquierdo y el inicio de la línea de código. Estas identaciones corresponden a un **tab**. \n",
    "\n",
    "**Un bloque de código estará subordinado a otro, si tiene una identación mayor.**"
   ]
  },
  {
   "cell_type": "markdown",
   "metadata": {
    "colab_type": "text",
    "id": "_iVKbwYfEP_4"
   },
   "source": [
    "### Operadores de comparación\n",
    "Para comparar dos objetos, utilizaremos **operadores de comparación**, tal como lo hicimos en el ejemplo."
   ]
  },
  {
   "cell_type": "code",
   "execution_count": 0,
   "metadata": {
    "colab": {
     "base_uri": "https://localhost:8080/",
     "height": 89
    },
    "colab_type": "code",
    "id": "Pgu_WiITBclJ",
    "outputId": "38bd84fc-6582-4340-86a8-07bbad9df031"
   },
   "outputs": [
    {
     "name": "stdout",
     "output_type": "stream",
     "text": [
      "True\n",
      "False\n",
      "True\n",
      "False\n"
     ]
    }
   ],
   "source": [
    "\"\"\"\n",
    "Operadores de comparación\n",
    "\"\"\"\n",
    "# == igual a...\n",
    "print(3==2+1)\n",
    "print(3==1+1)\n",
    "print(3==3.0)\n",
    "print(\"a\"==\"b\")"
   ]
  },
  {
   "cell_type": "code",
   "execution_count": 0,
   "metadata": {
    "colab": {
     "base_uri": "https://localhost:8080/",
     "height": 89
    },
    "colab_type": "code",
    "id": "0k9-KbvUCyQj",
    "outputId": "3343021d-3fc3-48b7-f859-a60108367a3c"
   },
   "outputs": [
    {
     "name": "stdout",
     "output_type": "stream",
     "text": [
      "False\n",
      "True\n",
      "False\n",
      "True\n"
     ]
    }
   ],
   "source": [
    "# != diferente de...\n",
    "print(3!=2+1)\n",
    "print(3!=1+1)\n",
    "print(3!=3.0)\n",
    "print(\"a\"!=\"b\")"
   ]
  },
  {
   "cell_type": "code",
   "execution_count": 0,
   "metadata": {
    "colab": {
     "base_uri": "https://localhost:8080/",
     "height": 89
    },
    "colab_type": "code",
    "id": "83KrwGkZDHN0",
    "outputId": "b4cdb745-1b2b-4b46-ed7e-ff0956c69cfc"
   },
   "outputs": [
    {
     "name": "stdout",
     "output_type": "stream",
     "text": [
      "False\n",
      "True\n",
      "False\n",
      "False\n"
     ]
    }
   ],
   "source": [
    "# > mayor que...\n",
    "print(3 > 2+1)\n",
    "print(3 > 1+1)\n",
    "print(3 > 3.0)\n",
    "print(\"a\" > \"b\")"
   ]
  },
  {
   "cell_type": "code",
   "execution_count": 0,
   "metadata": {
    "colab": {
     "base_uri": "https://localhost:8080/",
     "height": 89
    },
    "colab_type": "code",
    "id": "xrSyYvZjDzJs",
    "outputId": "a5a48258-3bb5-40b2-eb32-48203243e5f2"
   },
   "outputs": [
    {
     "name": "stdout",
     "output_type": "stream",
     "text": [
      "False\n",
      "False\n",
      "False\n",
      "True\n"
     ]
    }
   ],
   "source": [
    "# < menor que...\n",
    "print(3 < 2+1)\n",
    "print(3 < 1+1)\n",
    "print(3 < 3.0)\n",
    "print(\"a\" < \"b\")"
   ]
  },
  {
   "cell_type": "code",
   "execution_count": 0,
   "metadata": {
    "colab": {
     "base_uri": "https://localhost:8080/",
     "height": 89
    },
    "colab_type": "code",
    "id": "qNla5kAkD6UN",
    "outputId": "c946b69f-f1e8-48b2-9360-e4a75a84fe56"
   },
   "outputs": [
    {
     "name": "stdout",
     "output_type": "stream",
     "text": [
      "True\n",
      "True\n",
      "True\n",
      "False\n"
     ]
    }
   ],
   "source": [
    "# > mayor o igual que...\n",
    "print(3 >= 2+1)\n",
    "print(3 >= 1+1)\n",
    "print(3 >= 3.0)\n",
    "print(\"a\" >= \"b\")"
   ]
  },
  {
   "cell_type": "code",
   "execution_count": 0,
   "metadata": {
    "colab": {
     "base_uri": "https://localhost:8080/",
     "height": 89
    },
    "colab_type": "code",
    "id": "B7qt-Gx6EEjd",
    "outputId": "3756b1f2-7f23-43ed-ba9e-907a93563daa"
   },
   "outputs": [
    {
     "name": "stdout",
     "output_type": "stream",
     "text": [
      "True\n",
      "False\n",
      "True\n",
      "True\n"
     ]
    }
   ],
   "source": [
    "# < menor o igual que...\n",
    "print(3 <= 2+1)\n",
    "print(3 <= 1+1)\n",
    "print(3 <= 3.0)\n",
    "print(\"a\" <= \"b\")"
   ]
  },
  {
   "cell_type": "markdown",
   "metadata": {
    "colab_type": "text",
    "id": "fULnA0OvEi3q"
   },
   "source": [
    "### Operadores lógicos\n",
    "\n",
    "Además, podemos evaluar una sentencia lógica compuesta, es decir, que su valor de verdad depende de sentecias más simples. "
   ]
  },
  {
   "cell_type": "code",
   "execution_count": 0,
   "metadata": {
    "colab": {
     "base_uri": "https://localhost:8080/",
     "height": 89
    },
    "colab_type": "code",
    "id": "IgrUqs8TEKmB",
    "outputId": "336824b8-f40c-489d-d90f-5d3be741c341"
   },
   "outputs": [
    {
     "name": "stdout",
     "output_type": "stream",
     "text": [
      "False\n",
      "False\n",
      "False\n",
      "True\n"
     ]
    }
   ],
   "source": [
    "# conjunción \"and\"\n",
    "print(False and False)\n",
    "print(False and True)\n",
    "print(True and False)\n",
    "print(True and True)"
   ]
  },
  {
   "cell_type": "code",
   "execution_count": 0,
   "metadata": {
    "colab": {
     "base_uri": "https://localhost:8080/",
     "height": 89
    },
    "colab_type": "code",
    "id": "dnQaV0IYEhMr",
    "outputId": "83fdb9bb-9cf4-4195-9123-6c2e5c5cfa4f"
   },
   "outputs": [
    {
     "name": "stdout",
     "output_type": "stream",
     "text": [
      "False\n",
      "True\n",
      "True\n",
      "True\n"
     ]
    }
   ],
   "source": [
    "# disjunción \"or\"\n",
    "print(False or False)\n",
    "print(False or True)\n",
    "print(True or False)\n",
    "print(True or True)"
   ]
  },
  {
   "cell_type": "code",
   "execution_count": 0,
   "metadata": {
    "colab": {
     "base_uri": "https://localhost:8080/",
     "height": 89
    },
    "colab_type": "code",
    "id": "ZQDVNGwMFu0p",
    "outputId": "d5340ab4-3517-4e5f-c815-a7e71f3c4a7d"
   },
   "outputs": [
    {
     "name": "stdout",
     "output_type": "stream",
     "text": [
      "False\n",
      "True\n",
      "True\n",
      "False\n"
     ]
    }
   ],
   "source": [
    "# disjunción exclusiva \"^\"\n",
    "print(False ^ False)\n",
    "print(False ^ True)\n",
    "print(True ^ False)\n",
    "print(True ^ True)"
   ]
  },
  {
   "cell_type": "code",
   "execution_count": 0,
   "metadata": {
    "colab": {
     "base_uri": "https://localhost:8080/",
     "height": 89
    },
    "colab_type": "code",
    "id": "D75BpudnF06g",
    "outputId": "bdb83d98-ad8d-4dff-c4db-82018613c5c1"
   },
   "outputs": [
    {
     "name": "stdout",
     "output_type": "stream",
     "text": [
      "True\n",
      "False\n",
      "True\n",
      "False\n"
     ]
    }
   ],
   "source": [
    "### Ejemplos \n",
    "print(3>2 and 2>1)\n",
    "print(3>2 and 2>4)\n",
    "print(3>2 or 2>4)\n",
    "print(3>2 ^ 2>1)"
   ]
  },
  {
   "cell_type": "markdown",
   "metadata": {
    "colab_type": "text",
    "id": "A5sL688WHykV"
   },
   "source": [
    "### Sentencias condicionales\n",
    "\n",
    "Una sentencia condicional es aquella que ejecuta un bloque de código siempre se cumpla una condición. Para esto, utilizaremos la palabra clave \"if\" con la siguiente estructura:\n",
    "\n",
    "```\n",
    "if condición:\n",
    "  bloque que se ejecutará si se cumple la condición\n",
    "```\n",
    "\n",
    "En caso de que no se cumpla la condición, podemos pedir que se ejecutre un bloque alternativo, con la plabra clave \"else\":\n",
    "\n",
    "\n",
    "```\n",
    "if condición:\n",
    "  bloque que se ejecutará si se cumple la condición\n",
    "else:\n",
    "  bloque que se ejecutará si no se cumple la condición\n",
    "```\n",
    "\n",
    "Finalmente, podemos verificar una secuencia de condiciones antes de ejecutar un bloque alternativo (o simplemente no ejecutar sentencia alguna). Esto lo haremos con la palabra clave \"elif\" La forma más general será:\n",
    "\n",
    "\n",
    "```\n",
    "if condición 1:\n",
    "  bloque...\n",
    "elif condición 2:\n",
    "  bloque...\n",
    "elif condición 3:\n",
    "  bloque...\n",
    "...\n",
    "...\n",
    "else: \n",
    "  bloque...\n",
    "```"
   ]
  },
  {
   "cell_type": "code",
   "execution_count": 0,
   "metadata": {
    "colab": {
     "base_uri": "https://localhost:8080/",
     "height": 71
    },
    "colab_type": "code",
    "id": "rp4INSR0GHag",
    "outputId": "26e7e2b0-9f82-4800-f2da-af78267f5d3b"
   },
   "outputs": [
    {
     "name": "stdout",
     "output_type": "stream",
     "text": [
      "11 es mayor a 10.\n",
      "10 no es mayor a 10.\n",
      "10 no es mayor a 10.\n"
     ]
    }
   ],
   "source": [
    "\"\"\"\n",
    "Defina una función que indique si un número es mayor que 10\n",
    "\"\"\"\n",
    "def mayor_que_10(n):\n",
    "  if n>10:\n",
    "    return str(n)+\" es mayor a 10.\" \n",
    "    # str(n) convierte el entero n a una cadena (string) de caractéres\n",
    "  else:\n",
    "    return str(n)+\" no es mayor a 10.\"\n",
    "\n",
    "print(mayor_que_10(11))\n",
    "print(mayor_que_10(10))\n",
    "print(mayor_que_10(10))"
   ]
  },
  {
   "cell_type": "code",
   "execution_count": 0,
   "metadata": {
    "colab": {
     "base_uri": "https://localhost:8080/",
     "height": 71
    },
    "colab_type": "code",
    "id": "-SMobSD_HLEe",
    "outputId": "75a8153e-f84a-4768-979d-38cd6e79a5d0"
   },
   "outputs": [
    {
     "name": "stdout",
     "output_type": "stream",
     "text": [
      "1 es positivo.\n",
      "0 es igual a cero.\n",
      "-0.5 es negativo.\n"
     ]
    }
   ],
   "source": [
    "\"\"\"\n",
    "Defina una función que indique si un número es positivo, cero o negativo\n",
    "\"\"\"\n",
    "def signo(n):\n",
    "  if n>0:\n",
    "    return str(n)+\" es positivo.\"\n",
    "  elif n==0:\n",
    "    return str(n)+\" es igual a cero.\"\n",
    "  else:\n",
    "    return str(n)+\" es negativo.\"\n",
    "\n",
    "print(signo(--1))\n",
    "print(signo(3-3))\n",
    "print(signo(-1/2))"
   ]
  },
  {
   "cell_type": "code",
   "execution_count": 0,
   "metadata": {
    "colab": {
     "base_uri": "https://localhost:8080/",
     "height": 71
    },
    "colab_type": "code",
    "id": "M6QCAzzNJ_2o",
    "outputId": "41abf59d-4c19-4740-85dd-62d90b4ae97d"
   },
   "outputs": [
    {
     "name": "stdout",
     "output_type": "stream",
     "text": [
      "False\n",
      "True\n",
      "None\n"
     ]
    }
   ],
   "source": [
    "\"\"\"\n",
    "Defina una función que decida si un número x tiene valor absoluto menor a 1\n",
    "\"\"\"\n",
    "\n",
    "def valor_absoluto_menor_a_1(x):\n",
    "  if x>-1:\n",
    "    if x<1:\n",
    "      return True\n",
    "  else:\n",
    "    return False\n",
    "\n",
    "print(valor_absoluto_menor_a_1(-1.5))\n",
    "print(valor_absoluto_menor_a_1(-0.5))\n",
    "print(valor_absoluto_menor_a_1(1.5))"
   ]
  },
  {
   "cell_type": "code",
   "execution_count": 0,
   "metadata": {
    "colab": {
     "base_uri": "https://localhost:8080/",
     "height": 71
    },
    "colab_type": "code",
    "id": "lRqQ0fRJKUUe",
    "outputId": "8e3224b3-0bc9-4442-e108-19d357a66ab8"
   },
   "outputs": [
    {
     "name": "stdout",
     "output_type": "stream",
     "text": [
      "False\n",
      "True\n",
      "False\n"
     ]
    }
   ],
   "source": [
    "\"\"\"\n",
    "De manera alternativa\n",
    "\"\"\"\n",
    "def valor_absoluto_menor_a_1(x):\n",
    "  if x>-1 and x<1:\n",
    "    return True\n",
    "  else:\n",
    "    return False\n",
    "\n",
    "print(valor_absoluto_menor_a_1(-1.5))\n",
    "print(valor_absoluto_menor_a_1(-0.5))\n",
    "print(valor_absoluto_menor_a_1(1.5))"
   ]
  },
  {
   "cell_type": "markdown",
   "metadata": {
    "colab_type": "text",
    "id": "pfED0AiELspA"
   },
   "source": [
    "Una aplicación de las sentencias condicionales es garantizar que los datos que obtenemos del usuario sean del tipo que requerimos para nuestro problema. Los tipos de datos que estaremos manejando en el curso son\n",
    "\n",
    "\n",
    "\n",
    "*   Enteros `int`\n",
    "*   Real `float`\n",
    "*   Cadenas de caractéres `str`\n",
    "*   Booleanos `bool`\n",
    "\n",
    "Para conocer el tipo de un objeto, podemos usar la función `type()`\n",
    "\n"
   ]
  },
  {
   "cell_type": "code",
   "execution_count": 0,
   "metadata": {
    "colab": {
     "base_uri": "https://localhost:8080/",
     "height": 89
    },
    "colab_type": "code",
    "id": "vIGi5j1_LSA5",
    "outputId": "55086e07-4427-407f-b2bb-7418ba2f826a"
   },
   "outputs": [
    {
     "name": "stdout",
     "output_type": "stream",
     "text": [
      "<class 'int'>\n",
      "<class 'float'>\n",
      "<class 'str'>\n",
      "<class 'bool'>\n"
     ]
    }
   ],
   "source": [
    "print(type(1))\n",
    "print(type(1.0))\n",
    "print(type(\"1\"))\n",
    "print(type(True))"
   ]
  },
  {
   "cell_type": "code",
   "execution_count": 0,
   "metadata": {
    "colab": {
     "base_uri": "https://localhost:8080/",
     "height": 89
    },
    "colab_type": "code",
    "id": "lRpkPpI4MVSo",
    "outputId": "0702e8eb-1617-4086-8946-38e82e7f2092"
   },
   "outputs": [
    {
     "name": "stdout",
     "output_type": "stream",
     "text": [
      "True\n",
      "False\n",
      "False\n",
      "False\n"
     ]
    }
   ],
   "source": [
    "\"\"\"\n",
    "Ejemplo. Define una función que indique si el argumento n es entero o no.\n",
    "\"\"\"\n",
    "\n",
    "def es_entero(x):\n",
    "  if type(x)==int:\n",
    "    return True\n",
    "  else:\n",
    "    return False\n",
    "\n",
    "print(es_entero(1))\n",
    "print(es_entero(1.0))\n",
    "print(es_entero(\"1\"))\n",
    "print(es_entero(True))"
   ]
  },
  {
   "cell_type": "code",
   "execution_count": 0,
   "metadata": {
    "colab": {
     "base_uri": "https://localhost:8080/",
     "height": 89
    },
    "colab_type": "code",
    "id": "y61W6I0QNE8M",
    "outputId": "577ca5d4-6f55-4549-a462-4059bdf71c98"
   },
   "outputs": [
    {
     "name": "stdout",
     "output_type": "stream",
     "text": [
      "True\n",
      "False\n",
      "El argumento no es un número real\n",
      "El argumento no es un número real\n"
     ]
    }
   ],
   "source": [
    "\"\"\"\n",
    "Ejemplo. Define una función que indique si un número real está en el \n",
    "intervalo [-1,1]\n",
    "\"\"\"\n",
    "def f(x):\n",
    "  if type(x)==float:\n",
    "    if x>=-1 and x<=1:\n",
    "      return True\n",
    "    else:\n",
    "      return False\n",
    "  else:\n",
    "    return \"El argumento no es un número real\"\n",
    "\n",
    "print(f(0.5))\n",
    "print(f(-1.5))\n",
    "print(f(1))\n",
    "print(f(\"0.5\"))"
   ]
  },
  {
   "cell_type": "markdown",
   "metadata": {
    "colab_type": "text",
    "id": "Kc7t5SU4OK2C"
   },
   "source": [
    "Observa que en el penúltimo renglón, la función indica que 1 no es un número real. Si bien, los enteros son un subconjunto de los números reales, en Python los tipos son diferentes. Pero podemos corregir este problema, convirtiendo entre tipos.\n"
   ]
  },
  {
   "cell_type": "markdown",
   "metadata": {
    "colab_type": "text",
    "id": "coljGxWNVUYY"
   },
   "source": [
    "Sin embargo, en muchas operaciones, los enteros son convertidos en reales de manera automática si es que dicha operación tiene sentido. "
   ]
  },
  {
   "cell_type": "code",
   "execution_count": 0,
   "metadata": {
    "colab": {
     "base_uri": "https://localhost:8080/",
     "height": 89
    },
    "colab_type": "code",
    "id": "HV5y9bK6VShk",
    "outputId": "3d1dec79-847e-4a1d-e03f-3844e2df4b63"
   },
   "outputs": [
    {
     "name": "stdout",
     "output_type": "stream",
     "text": [
      "True\n",
      "False\n",
      "True\n",
      "True\n"
     ]
    }
   ],
   "source": [
    "def f(x):\n",
    "  x = float(x)\n",
    "  if type(x)==float:\n",
    "    if x>=-1 and x<=1:\n",
    "      return True\n",
    "    else:\n",
    "      return False\n",
    "  else:\n",
    "    return \"El argumento no es un número real\"\n",
    "\n",
    "print(f(0.5))\n",
    "print(f(-1.5))\n",
    "print(f(1))\n",
    "print(f(\"0.5\"))"
   ]
  },
  {
   "cell_type": "code",
   "execution_count": 0,
   "metadata": {
    "colab": {
     "base_uri": "https://localhost:8080/",
     "height": 71
    },
    "colab_type": "code",
    "id": "RkxKMeCYN4L_",
    "outputId": "e78504eb-778b-47e2-beb6-affad003c5b6"
   },
   "outputs": [
    {
     "name": "stdout",
     "output_type": "stream",
     "text": [
      "1 <class 'int'>\n",
      "1.0 <class 'float'>\n",
      "2.0 <class 'float'>\n"
     ]
    }
   ],
   "source": [
    "x = 1\n",
    "print(x, type(x))\n",
    "y = 1.0\n",
    "print(y, type(y))\n",
    "z = x+y\n",
    "print(z, type(z))"
   ]
  },
  {
   "cell_type": "markdown",
   "metadata": {
    "colab_type": "text",
    "id": "-HyfTAIuSkC7"
   },
   "source": [
    "En ocasiones, deseamos que una función que acepta una cadena de caractéres no sea sensible a las mayusculas, es decir, que no distinga entre \"Azul\", \"AZUL\" o \"azul. Para eso podemos convertir todo a minúsculas con el método `.lower()`"
   ]
  },
  {
   "cell_type": "code",
   "execution_count": 0,
   "metadata": {
    "colab": {
     "base_uri": "https://localhost:8080/",
     "height": 35
    },
    "colab_type": "code",
    "id": "y-GP8GTPSwHv",
    "outputId": "08198e80-39e7-4444-87a5-b1fb5b148045"
   },
   "outputs": [
    {
     "name": "stdout",
     "output_type": "stream",
     "text": [
      "azul\n"
     ]
    }
   ],
   "source": [
    "color =\"AzUl\"\n",
    "print(color.lower())"
   ]
  },
  {
   "cell_type": "markdown",
   "metadata": {
    "colab_type": "text",
    "id": "b_mPpKQuWLc1"
   },
   "source": [
    "Por último, podemos pedir al usuario que ingrese los datos de manera interactiva. En el siguiente ejemplo, aparecerá una barra en la te pedimos que ingreses tu número favorito."
   ]
  },
  {
   "cell_type": "code",
   "execution_count": 0,
   "metadata": {
    "colab": {
     "base_uri": "https://localhost:8080/",
     "height": 71
    },
    "colab_type": "code",
    "id": "0PvJlnrjS0yN",
    "outputId": "9da288f0-2862-40b2-bab4-69e287e87091"
   },
   "outputs": [
    {
     "name": "stdout",
     "output_type": "stream",
     "text": [
      "Por favor, ingresa el número que más te guste:\n",
      "1234\n",
      "Tu número no es múltiplo de 3\n"
     ]
    }
   ],
   "source": [
    "print(\"Por favor, ingresa el número que más te guste:\")\n",
    "n = input()\n",
    "n = int(n) #convertimos tu respuesta en un entero\n",
    "if n%3==0:\n",
    "  print(\"Tu número es múltiplo de 3\")\n",
    "else:\n",
    "  print(\"Tu número no es múltiplo de 3\")"
   ]
  },
  {
   "cell_type": "code",
   "execution_count": 0,
   "metadata": {
    "colab": {},
    "colab_type": "code",
    "id": "Y-VGh1thWeW7"
   },
   "outputs": [],
   "source": []
  }
 ],
 "metadata": {
  "colab": {
   "name": "Python 101-2 Sentencia condicional.ipynb",
   "provenance": [],
   "version": "0.3.2"
  },
  "kernelspec": {
   "display_name": "Python 3",
   "language": "python",
   "name": "python3"
  },
  "language_info": {
   "codemirror_mode": {
    "name": "ipython",
    "version": 3
   },
   "file_extension": ".py",
   "mimetype": "text/x-python",
   "name": "python",
   "nbconvert_exporter": "python",
   "pygments_lexer": "ipython3",
   "version": "3.8.8"
  }
 },
 "nbformat": 4,
 "nbformat_minor": 1
}
