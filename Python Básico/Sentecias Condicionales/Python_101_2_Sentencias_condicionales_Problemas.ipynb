{
  "nbformat": 4,
  "nbformat_minor": 0,
  "metadata": {
    "colab": {
      "name": "Python 101-2 Sentencias condicionales Problemas.ipynb",
      "version": "0.3.2",
      "provenance": []
    },
    "kernelspec": {
      "name": "python3",
      "display_name": "Python 3"
    }
  },
  "cells": [
    {
      "cell_type": "code",
      "metadata": {
        "id": "NGKgqBSAP9Ic",
        "colab_type": "code",
        "outputId": "257207b7-cdd5-47b2-9b2d-ef5f36328170",
        "colab": {
          "base_uri": "https://localhost:8080/",
          "height": 35
        }
      },
      "source": [
        "\"\"\"\n",
        "Problema 102.1\n",
        "Defina una función `ordenados` que acepte dos números y los regrese ordenados, \n",
        "de menor a mayor. \n",
        "\n",
        "Ejemplo\n",
        ">> print(ordenados(1/3, 0.333))\n",
        "(0.333, 0.3333333333333333)\n",
        "\"\"\""
      ],
      "execution_count": 0,
      "outputs": [
        {
          "output_type": "execute_result",
          "data": {
            "text/plain": [
              "'\\nProblema 102.1\\nDefina una función `ordenados` que acepte dos números y los regrese ordenados, \\nde menor a mayor. \\n\\nEjemplo\\n>> print(ordenados(1/3, 0.333))\\n(0.333, 0.3333333333333333)\\n'"
            ]
          },
          "metadata": {
            "tags": []
          },
          "execution_count": 1
        }
      ]
    },
    {
      "cell_type": "code",
      "metadata": {
        "id": "9ifizl1MQr9W",
        "colab_type": "code",
        "outputId": "e24fee44-e2b8-4457-926d-c55b24e223db",
        "colab": {
          "base_uri": "https://localhost:8080/",
          "height": 55
        }
      },
      "source": [
        "\"\"\"\n",
        "Problema 102.2\n",
        "Defina una función `entero_menor_que` que indique si un número entero es menor a\n",
        "100. Si el número no es entero, debe regresar una indicación sobre el error.\n",
        "\n",
        "Ejemplo\n",
        ">> print(entero_menor_que_100(50))\n",
        "True\n",
        ">> print(entero_menor_que_100(150))\n",
        "False\n",
        ">> print(entero_menor_que_100(50.0))\n",
        "El argumento no es un entero\n",
        "\"\"\""
      ],
      "execution_count": 0,
      "outputs": [
        {
          "output_type": "execute_result",
          "data": {
            "text/plain": [
              "'\\nProblema 102.2\\nDefina una función `entero_menor_que` que indique si un número entero es menor a\\n100. Si el número no es entero, debe regresar una indicación sobre el error.\\n\\nEjemplo\\n>> print(entero_menor_que_100(50))\\nTrue\\n>> print(entero_menor_que_100(150))\\nFalse\\n>> print(entero_menor_que_100(50.0))\\nEl argumento no es un entero\\n'"
            ]
          },
          "metadata": {
            "tags": []
          },
          "execution_count": 2
        }
      ]
    },
    {
      "cell_type": "code",
      "metadata": {
        "id": "jAxj5jJtRjPd",
        "colab_type": "code",
        "outputId": "8bd69f7d-697a-4a6e-d676-002d81d8e704",
        "colab": {
          "base_uri": "https://localhost:8080/",
          "height": 55
        }
      },
      "source": [
        "\"\"\"\n",
        "Problema 102.3\n",
        "Define una función `me_gusta_el_color()` que acepte como argumento un color \n",
        "(tipo cadena de caractéres), y en caso de ser \"rojo\", regrese el mensaje \n",
        "    \"A mí también me gusta el rojo\". \n",
        "En otro caso, que regrese el mensaje \n",
        "\"El color ___ no me gusta\", \n",
        "con el color indicado por el usuario. \n",
        "\n",
        "La función no debe ser sensible a las mayusculas.\n",
        "\n",
        "Ejemplo\n",
        ">> print(me_gusta_el_color(\"Rojo\"))\n",
        "A mí también me gusta el color rojo.\n",
        ">> print(me_gusta_el_color(\"aZul\"))\n",
        "El color azul no me gusta.\n",
        "\"\"\""
      ],
      "execution_count": 0,
      "outputs": [
        {
          "output_type": "execute_result",
          "data": {
            "text/plain": [
              "'\\nProblema 102.3\\nDefine una función `me_gusta_el_color()` que acepte como argumento un color \\n(tipo cadena de caractéres), y en caso de ser \"rojo\", regrese el mensaje \\n    \"A mí también me gusta el rojo\". \\nEn otro caso, que regrese el mensaje \\n\"El color ___ no me gusta\", \\ncon el color indicado por el usuario. \\n\\nLa función no debe ser sensible a las mayusculas.\\n\\nEjemplo\\n>> print(me_gusta_el_color(\"Rojo\"))\\nA mí también me gusta el color rojo.\\n>> print(me_gusta_el_color(\"aZul\"))\\nEl color azul no me gusta.\\n'"
            ]
          },
          "metadata": {
            "tags": []
          },
          "execution_count": 3
        }
      ]
    },
    {
      "cell_type": "code",
      "metadata": {
        "id": "Hz6uQ4KgT4pI",
        "colab_type": "code",
        "outputId": "7458c29d-e520-41bb-cd02-8cb7ebfeeaee",
        "colab": {
          "base_uri": "https://localhost:8080/",
          "height": 35
        }
      },
      "source": [
        "\"\"\"\n",
        "Problema 102.4\n",
        "Define una función `mayor_de_edad` que pida al usuario su edad e indique si \n",
        "es mayor de edad.\n",
        "\n",
        "Ejemplo\n",
        ">> print(mayor_de_edad())\n",
        "<< 21\n",
        "Eres mayor de edad\n",
        "\"\"\""
      ],
      "execution_count": 0,
      "outputs": [
        {
          "output_type": "execute_result",
          "data": {
            "text/plain": [
              "'\\nProblema 102.4\\nDefine una función `mayor_de_edad` que pida al usuario su edad e indique si \\nes mayor de edad.\\n\\nEjemplo\\n>> print(mayor_de_edad())\\n<< 21\\nEres mayor de edad\\n'"
            ]
          },
          "metadata": {
            "tags": []
          },
          "execution_count": 4
        }
      ]
    },
    {
      "cell_type": "code",
      "metadata": {
        "id": "i21Bp6aWX8kQ",
        "colab_type": "code",
        "outputId": "56a01498-3acb-47f5-d0a0-1084459bee41",
        "colab": {
          "base_uri": "https://localhost:8080/",
          "height": 35
        }
      },
      "source": [
        "\"\"\"\n",
        "Problema 102.5\n",
        "Define una función `ordenar_tripleta` que acepte 3 número y los ordene de menor \n",
        "a mayor.\n",
        "\n",
        "Ejemplo.\n",
        ">> print(ordenar_tripleta(2,1,3))\n",
        "(1,2,3)\n",
        "\"\"\""
      ],
      "execution_count": 0,
      "outputs": [
        {
          "output_type": "execute_result",
          "data": {
            "text/plain": [
              "'\\nProblema 102.5\\nDefine una función `ordenar_tripleta` que acepte 3 número y los ordene de menor \\na mayor.\\n\\nEjemplo.\\n>> print(ordenar_tripleta(2,1,3))\\n(1,2,3)\\n'"
            ]
          },
          "metadata": {
            "tags": []
          },
          "execution_count": 5
        }
      ]
    }
  ]
}