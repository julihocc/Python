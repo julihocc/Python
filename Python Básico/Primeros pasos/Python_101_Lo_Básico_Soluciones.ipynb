{
 "nbformat": 4,
 "nbformat_minor": 0,
 "metadata": {
  "colab": {
   "name": "Python 101 Lo Básico Soluciones.ipynb",
   "version": "0.3.2",
   "provenance": []
  },
  "kernelspec": {
   "name": "pycharm-3bf7dc1",
   "language": "python",
   "display_name": "PyCharm (Investigación de Operaciones I)"
  }
 },
 "cells": [
  {
   "cell_type": "code",
   "metadata": {
    "id": "Nxv44CXSAl12",
    "colab_type": "code",
    "outputId": "2c02e69e-1f98-47a4-935b-746aa0747ae4",
    "colab": {
     "base_uri": "https://localhost:8080/",
     "height": 35
    }
   },
   "source": [
    "\"\"\"\n",
    "Problema 1. Define una función `saludoBond` que acepte dos cadenas `nombre` y \n",
    "`apellido` y regrese un saludos al estilo 007...\n",
    "\n",
    "Ej.)\n",
    ">>> print(saludoBond(\"Fulanito\", \"Pérez\"))\n",
    "\"Mi nombre es Pérez, Fulanito Pérez.\"\n",
    "\"\"\"\n",
    "\n",
    "def saludoBond(nombre, apellido):\n",
    "  return \"Mi nombre es \"+apellido+\", \"+nombre+\" \"+apellido+\".\"\n",
    "\n",
    "print(saludoBond(\"Fulanito\", \"Pérez\"))"
   ],
   "execution_count": 1,
   "outputs": [
    {
     "name": "stdout",
     "output_type": "stream",
     "text": [
      "Mi nombre es Pérez, Fulanito Pérez.\n"
     ]
    }
   ]
  },
  {
   "cell_type": "code",
   "metadata": {
    "id": "qyc8JZ__BanW",
    "colab_type": "code",
    "outputId": "5535a1a3-9132-4886-cc28-f81201e8dec1",
    "colab": {
     "base_uri": "https://localhost:8080/",
     "height": 35
    }
   },
   "source": [
    "\"\"\"\n",
    "Problema 2. Define una función `conPropina` que calcule la cuenta con propina,\n",
    "dado el monto y un porcentaje (en formato decimal).\n",
    "\n",
    "Ej.)\n",
    ">>> print(conPropina(200, 0.15))\n",
    "230\n",
    "\"\"\"\n",
    "\n",
    "def conPropina(monto, porcentaje):\n",
    "  return monto*(1+porcentaje)\n",
    "\n",
    "print(conPropina(200,0.15))"
   ],
   "execution_count": 2,
   "outputs": [
    {
     "name": "stdout",
     "output_type": "stream",
     "text": [
      "229.99999999999997\n"
     ]
    }
   ]
  },
  {
   "cell_type": "code",
   "metadata": {
    "id": "r_GKmvVhCFjH",
    "colab_type": "code",
    "outputId": "897ad10d-de24-4043-bd9c-e1f153e3fdf6",
    "colab": {
     "base_uri": "https://localhost:8080/",
     "height": 35
    }
   },
   "source": [
    "\"\"\"\n",
    "Problema 3. Define una función `antesDeIVA` que calcule el costo de un bien\n",
    "antes de aplicarle un porcentar de IVA. Los argumentos son el costo final y \n",
    "dicho porcentaje.\n",
    "\n",
    "Ej.)\n",
    ">>> print(antesDeIVA(116,0.16))\n",
    "100\n",
    "\"\"\"\n",
    "\n",
    "def antesDeIVA(monto_final, IVA):\n",
    "  return monto_final/(1+IVA)\n",
    "\n",
    "print(antesDeIVA(116,0.16))"
   ],
   "execution_count": 3,
   "outputs": [
    {
     "name": "stdout",
     "output_type": "stream",
     "text": [
      "100.0\n"
     ]
    }
   ]
  },
  {
   "cell_type": "code",
   "metadata": {
    "id": "iBn8iFEpDbbe",
    "colab_type": "code",
    "outputId": "18133238-eb3d-4c05-fca9-889991d0b49e",
    "colab": {
     "base_uri": "https://localhost:8080/",
     "height": 35
    }
   },
   "source": [
    "\"\"\"\n",
    "Problema 4. Define una función `C2F` que convierta grados Celsius a grados\n",
    "Fahrenheit. \n",
    "\n",
    "Ej.)\n",
    ">>> print(C2F(5))\n",
    "41\n",
    "\"\"\"\n",
    "\n",
    "def C2F(T):\n",
    "  return (T*9/5)+32\n",
    "\n",
    "print(C2F(5))"
   ],
   "execution_count": 4,
   "outputs": [
    {
     "name": "stdout",
     "output_type": "stream",
     "text": [
      "41.0\n"
     ]
    }
   ]
  },
  {
   "cell_type": "code",
   "metadata": {
    "id": "bXArF8uSEjuf",
    "colab_type": "code",
    "colab": {
     "base_uri": "https://localhost:8080/",
     "height": 53
    },
    "outputId": "fe724217-992f-4b88-bf47-07a8988902fe",
    "pycharm": {
     "name": "#%%\n"
    }
   },
   "source": [
    "\"\"\"\n",
    "Problema 5. Defina una función `paridad` que indique sí un número es par, con un \n",
    "False para un número impar y True para uno par. \n",
    "\n",
    "Sugerencia: Convierta 0/1 en False/True\n",
    "\n",
    "Ej.)\n",
    ">>> print(paridad(6))\n",
    "True\n",
    ">>> print(paridad(7))\n",
    "False\n",
    "\"\"\"\n",
    "\n",
    "def paridad(numero):\n",
    "  return bool(numero%2)\n",
    "\n",
    "print(paridad(6))\n",
    "print(paridad(7))\n",
    "\n"
   ],
   "execution_count": 5,
   "outputs": [
    {
     "name": "stdout",
     "output_type": "stream",
     "text": [
      "False\n",
      "True\n"
     ]
    }
   ]
  }
 ]
}