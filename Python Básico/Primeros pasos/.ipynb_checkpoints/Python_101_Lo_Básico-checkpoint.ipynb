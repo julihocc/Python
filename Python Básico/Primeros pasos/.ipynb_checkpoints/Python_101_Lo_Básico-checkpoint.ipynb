{
 "cells": [
  {
   "cell_type": "markdown",
   "metadata": {
    "colab_type": "text",
    "id": "nBB82ankMTNg"
   },
   "source": [
    "# Python con ejemplos\n",
    "# Lo básico"
   ]
  },
  {
   "cell_type": "code",
   "execution_count": 1,
   "metadata": {
    "colab": {
     "base_uri": "https://localhost:8080/",
     "height": 35
    },
    "colab_type": "code",
    "id": "e_eFFoiqyqXz",
    "outputId": "7ac187af-cab5-4f59-d6a1-3eedae3affca"
   },
   "outputs": [
    {
     "data": {
      "text/plain": [
       "'\\nBienvenidos al curso de Python con Ejemplos\\n'"
      ]
     },
     "execution_count": 1,
     "metadata": {},
     "output_type": "execute_result"
    }
   ],
   "source": [
    "\"\"\"\n",
    "Bienvenidos al curso de Python con Ejemplos\n",
    "\"\"\""
   ]
  },
  {
   "cell_type": "code",
   "execution_count": 2,
   "metadata": {
    "colab": {
     "base_uri": "https://localhost:8080/",
     "height": 35
    },
    "colab_type": "code",
    "id": "3sp99-4s05mw",
    "outputId": "679f6c58-b27b-432a-fbe9-0d0ba150cdd2"
   },
   "outputs": [
    {
     "name": "stdout",
     "output_type": "stream",
     "text": [
      "Hola mundo!\n"
     ]
    }
   ],
   "source": [
    "\"\"\"\n",
    "Para continuar con la gloriosa tradición de un curso introductorio, escribiremos\n",
    "como nuestro primer programa, el ya famoso `Hola Mundo!`, es decir, instruiremos \n",
    "a la computadora a que imprima esta leyenda en la pantalla.\n",
    "\"\"\"\n",
    "print(\"Hola mundo!\")"
   ]
  },
  {
   "cell_type": "code",
   "execution_count": 3,
   "metadata": {
    "colab": {
     "base_uri": "https://localhost:8080/",
     "height": 55
    },
    "colab_type": "code",
    "id": "AferGFkJ1L46",
    "outputId": "7de89b37-351f-49d0-e06c-21e2cd6fe3f2"
   },
   "outputs": [
    {
     "data": {
      "text/plain": [
       "'\\nCOmo observas, todo el texto que este escrito en este mismo formato es IGNORADO\\npor la computadora. Esto le llamamos un *comentario*, que es útil para que \\nnuestros colaboradores entiendan que estamos tratando de hacer.\\n'"
      ]
     },
     "execution_count": 3,
     "metadata": {},
     "output_type": "execute_result"
    }
   ],
   "source": [
    "\"\"\"\n",
    "COmo observas, todo el texto que este escrito en este mismo formato es IGNORADO\n",
    "por la computadora. Esto le llamamos un *comentario*, que es útil para que \n",
    "nuestros colaboradores entiendan que estamos tratando de hacer.\n",
    "\"\"\"\n",
    "# Otra opción para comentar es poner el texto después de un hashtag\n",
    "# Pero esto sólo fuciona para una línea\n",
    "# Por lo que si quisieras hacer un comentario muy largo\n",
    "# Como el que estoy escribiendo, tendrías que usar un hashtag\n",
    "# Por cada renglón que escribas y la verdad es muy \n",
    "# Cansado y tedioso. \n",
    "# Ocupa este formato sólo para comentarios cortos!"
   ]
  },
  {
   "cell_type": "code",
   "execution_count": 4,
   "metadata": {
    "colab": {
     "base_uri": "https://localhost:8080/",
     "height": 89
    },
    "colab_type": "code",
    "id": "kwyiGy4Fy-zt",
    "outputId": "87abb3c5-b9ad-4af5-d66e-727aec6f4dde"
   },
   "outputs": [
    {
     "name": "stdout",
     "output_type": "stream",
     "text": [
      "3.14159\n",
      "Hola\n",
      "2019\n",
      "True\n"
     ]
    }
   ],
   "source": [
    "\"\"\"\n",
    "Lo primero que debemos saber es como declarar variables, que puede  ser decimales,\n",
    "cadenas (de caracteres), enteros o booleanos (falso/verdaderas)\n",
    "En Python es muy fácil! Sólo tienes que darles un nombre y asignarles un valor.\n",
    "\n",
    "Además, podemos imprimir su valor para verlo en pantalla.\n",
    "\"\"\"\n",
    "algun_decimal = 3.14159\n",
    "print(algun_decimal)\n",
    "\n",
    "alguna_literal = \"Hola\"\n",
    "print(alguna_literal)\n",
    "\n",
    "algun_entero = 2019\n",
    "print(algun_entero)\n",
    "\n",
    "algun_booleano = True # El otro valor booleano es False \n",
    "print(algun_booleano)\n"
   ]
  },
  {
   "cell_type": "code",
   "execution_count": 5,
   "metadata": {
    "colab": {
     "base_uri": "https://localhost:8080/",
     "height": 89
    },
    "colab_type": "code",
    "id": "XG47yZXGzqsN",
    "outputId": "43979d61-bee8-4e65-9339-82080fd40a7d"
   },
   "outputs": [
    {
     "name": "stdout",
     "output_type": "stream",
     "text": [
      "3.9\n",
      "-0.8999999999999999\n",
      "3.5999999999999996\n",
      "0.625\n"
     ]
    }
   ],
   "source": [
    "\"\"\"\n",
    "Podemos realizar operaciones entre variables del mismo tipo. Intentemos primero\n",
    "con números decimales.\n",
    "\"\"\"\n",
    "x = 1.5\n",
    "y = 2.4\n",
    "print(x+y)\n",
    "print(x-y)\n",
    "print(x*y)\n",
    "print(x/y)"
   ]
  },
  {
   "cell_type": "code",
   "execution_count": 6,
   "metadata": {
    "colab": {
     "base_uri": "https://localhost:8080/",
     "height": 89
    },
    "colab_type": "code",
    "id": "TRQ0HSQB0bJD",
    "outputId": "8aeded5b-bfbe-4f37-93da-fce816c690c6"
   },
   "outputs": [
    {
     "name": "stdout",
     "output_type": "stream",
     "text": [
      "5\n",
      "1\n",
      "6\n",
      "1.5\n"
     ]
    }
   ],
   "source": [
    "\"\"\"\n",
    "¿Qué pasa si intentamos los mismo con número enteros?\n",
    "\"\"\"\n",
    "x = 3\n",
    "y = 2\n",
    "print(x+y)\n",
    "print(x-y)\n",
    "print(x*y)\n",
    "print(x/y)"
   ]
  },
  {
   "cell_type": "code",
   "execution_count": 7,
   "metadata": {
    "colab": {
     "base_uri": "https://localhost:8080/",
     "height": 53
    },
    "colab_type": "code",
    "id": "L6kHbVDV0oRc",
    "outputId": "cdb1cb09-c4d2-4079-9a16-a6af8ffad761"
   },
   "outputs": [
    {
     "name": "stdout",
     "output_type": "stream",
     "text": [
      "2\n",
      "1\n"
     ]
    }
   ],
   "source": [
    "\"\"\"\n",
    "Como puedes observar, la división entre dos enteros no necesariamente es entera.\n",
    "Sin embargo, a veces necesitamos calcular el cociente y el residuo de tales\n",
    "divisiones. Para esto tenemos dos operaciones especiales.\n",
    "\"\"\"\n",
    "x = 7\n",
    "y = 3\n",
    "print(x//y) #cociente\n",
    "print(x%y) #residuo"
   ]
  },
  {
   "cell_type": "code",
   "execution_count": 8,
   "metadata": {
    "colab": {
     "base_uri": "https://localhost:8080/",
     "height": 35
    },
    "colab_type": "code",
    "id": "5nNIiCK02A0q",
    "outputId": "83230689-5892-496a-cc97-b065904dfadd"
   },
   "outputs": [
    {
     "name": "stdout",
     "output_type": "stream",
     "text": [
      "Hola (Escribe aquí tu nombre)!\n"
     ]
    }
   ],
   "source": [
    "\"\"\"\n",
    "Algunas operaciones en Python están sobre cargadas. Por ejemplo, podemos sumar\n",
    "cadenas\n",
    "\"\"\"\n",
    "saludo = \"Hola \"\n",
    "nombre = \"(Escribe aquí tu nombre)!\"\n",
    "print(saludo+nombre)"
   ]
  },
  {
   "cell_type": "code",
   "execution_count": 9,
   "metadata": {
    "colab": {
     "base_uri": "https://localhost:8080/",
     "height": 35
    },
    "colab_type": "code",
    "id": "c9w2rKnuKWf_",
    "outputId": "062d6673-2f92-4c08-ad9f-74a80988f1a7"
   },
   "outputs": [
    {
     "name": "stdout",
     "output_type": "stream",
     "text": [
      "No puedo restar cadenas de caracteres\n"
     ]
    }
   ],
   "source": [
    "\"\"\"\n",
    "Sin embargo, no es así con todas las operaciones\n",
    "\"\"\"\n",
    "saludo = \"Hola \"\n",
    "nombre = \"Fulanito!\"\n",
    "try: #Intentaremos...\n",
    "  print(saludos-nombre) #Restar dos cadenas de caracteres\n",
    "except: #Si no funciona...\n",
    "  print(\"No puedo restar cadenas de caracteres\") #Imprimimos un error\n"
   ]
  },
  {
   "cell_type": "markdown",
   "metadata": {
    "colab_type": "text",
    "id": "zHFN4DMJMme9"
   },
   "source": [
    "### Funciones\n",
    "Ahora, aprenderemos a crear funciones. Estas nos permitirán reutilizar el código, optimizando nuestro tiempo de desarrollo y haciendo más entendible nuestro procedimiento."
   ]
  },
  {
   "cell_type": "code",
   "execution_count": 10,
   "metadata": {
    "colab": {
     "base_uri": "https://localhost:8080/",
     "height": 35
    },
    "colab_type": "code",
    "id": "Eq2a5oeJMz1c",
    "outputId": "a3b1dbe4-1b3f-4464-b609-627c650db047"
   },
   "outputs": [
    {
     "name": "stdout",
     "output_type": "stream",
     "text": [
      "Hola Fulanito!\n"
     ]
    }
   ],
   "source": [
    "\"\"\"\n",
    "Vamos a *def*inir una función que acepte un nombre (cadena de caracteres) y \n",
    "regrese un saludo cordial\n",
    "\"\"\"\n",
    "def saluda_a(nombre):\n",
    "  return \"Hola \"+nombre+\"!\"\n",
    "\n",
    "# ahora vamos a ingresar un nombre, guardar el resultado e imprimirlo en pantalla\n",
    "resultado = saluda_a(\"Fulanito\")\n",
    "print(resultado)\n",
    "\n",
    "# Intenta ahora ingresando tu nombre e imprimiendo tu resultado en pantalla"
   ]
  },
  {
   "cell_type": "code",
   "execution_count": 11,
   "metadata": {
    "colab": {
     "base_uri": "https://localhost:8080/",
     "height": 35
    },
    "colab_type": "code",
    "id": "CWwDfz0HNWl5",
    "outputId": "20031d4b-41f5-47d5-9a17-5b058907a212"
   },
   "outputs": [
    {
     "name": "stdout",
     "output_type": "stream",
     "text": [
      "2\n"
     ]
    }
   ],
   "source": [
    "\"\"\"\n",
    "Definamos ahora una función que nos regrese el cociente de una división de enteros\n",
    "\"\"\"\n",
    "def cociente(p,q):\n",
    "  return p//q\n",
    "\n",
    "# probemos con un par de números\n",
    "print(cociente(7,3))\n",
    "\n",
    "#ahora intenta algo similar para el residuo"
   ]
  },
  {
   "cell_type": "markdown",
   "metadata": {
    "colab_type": "text",
    "id": "-np4ARHYF3yp"
   },
   "source": [
    "**¡Excelente!** Hemos terminado con los conceptos más básicos para comenzar a \n",
    "programar en Python. Pero antes, vamos a practicar con una lista de ejercicios.\n",
    "\n",
    "Al final, vamos dejarte las respuestas, pero recuerda, *¡la práctica hace al \n",
    "maestro!*"
   ]
  }
 ],
 "metadata": {
  "colab": {
   "name": "Python 101 Lo Básico.ipynb",
   "provenance": [],
   "version": "0.3.2"
  },
  "kernelspec": {
   "display_name": "Python 3",
   "language": "python",
   "name": "python3"
  },
  "language_info": {
   "codemirror_mode": {
    "name": "ipython",
    "version": 3
   },
   "file_extension": ".py",
   "mimetype": "text/x-python",
   "name": "python",
   "nbconvert_exporter": "python",
   "pygments_lexer": "ipython3",
   "version": "3.7.4"
  }
 },
 "nbformat": 4,
 "nbformat_minor": 1
}
