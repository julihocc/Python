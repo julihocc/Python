{
  "nbformat": 4,
  "nbformat_minor": 0,
  "metadata": {
    "colab": {
      "name": "Python 101 Lo Básico Problemario.ipynb",
      "version": "0.3.2",
      "provenance": [],
      "collapsed_sections": []
    },
    "kernelspec": {
      "name": "python3",
      "display_name": "Python 3"
    }
  },
  "cells": [
    {
      "cell_type": "code",
      "metadata": {
        "id": "Nxv44CXSAl12",
        "colab_type": "code",
        "outputId": "51e87f97-750b-4685-d104-a7eb0f2175db",
        "colab": {
          "base_uri": "https://localhost:8080/",
          "height": 55
        }
      },
      "source": [
        "\"\"\"\n",
        "Problema 1. Define una función `saludoBond` que acepte dos cadenas `nombre` y \n",
        "`apellido` y regrese un saludos al estilo 007...\n",
        "\n",
        "Ej.)\n",
        ">>> print(saludoBond(\"Fulanito\", \"Pérez\"))\n",
        "\"Mi nombre es Pérez, Fulanito Pérez.\"\n",
        "\"\"\""
      ],
      "execution_count": 0,
      "outputs": [
        {
          "output_type": "execute_result",
          "data": {
            "text/plain": [
              "'\\nProblema 1. Define una función `saludoBond` que acepte dos cadenas `nombre` y `apellido y \\nregrese un saludos al estilo 007...\\n\\nEj.)\\n>>> print(saludoBond(\"Fulanito\", \"Pérez\"))\\n\"Mi nombre es Pérez, Fulanito Pérez\"\\n'"
            ]
          },
          "metadata": {
            "tags": []
          },
          "execution_count": 1
        }
      ]
    },
    {
      "cell_type": "code",
      "metadata": {
        "id": "qyc8JZ__BanW",
        "colab_type": "code",
        "outputId": "84578473-d108-4600-8a89-04d10972c5ee",
        "colab": {
          "base_uri": "https://localhost:8080/",
          "height": 35
        }
      },
      "source": [
        "\"\"\"\n",
        "Problema 2. Define una función `conPropina` que calcule la cuenta con propina,\n",
        "dado el monto y un porcentaje (en formato decimal).\n",
        "\n",
        "Ej.)\n",
        ">>> print(conPropina(200, 0.15))\n",
        "230\n",
        "\"\"\""
      ],
      "execution_count": 0,
      "outputs": [
        {
          "output_type": "execute_result",
          "data": {
            "text/plain": [
              "'\\nProblema 2. Define una función `conPropina` que calcule la cuenta con propina.\\n\\nEj.)\\n>>> print(conPropina(200, 0.15))\\n230\\n'"
            ]
          },
          "metadata": {
            "tags": []
          },
          "execution_count": 2
        }
      ]
    },
    {
      "cell_type": "code",
      "metadata": {
        "id": "r_GKmvVhCFjH",
        "colab_type": "code",
        "outputId": "caf4f735-5ee1-48d6-8d93-0440ffbdaf96",
        "colab": {
          "base_uri": "https://localhost:8080/",
          "height": 55
        }
      },
      "source": [
        "\"\"\"\n",
        "Problema 3. Define una función `antesDeIVA` que calcule el costo de un bien\n",
        "antes de aplicarle un porcentar de IVA. Los argumentos son el costo final y \n",
        "dicho porcentaje.\n",
        "\n",
        "Ej.)\n",
        ">>> print(antesDeIVA(116,0.16))\n",
        "100\n",
        "\"\"\""
      ],
      "execution_count": 0,
      "outputs": [
        {
          "output_type": "execute_result",
          "data": {
            "text/plain": [
              "'\\nProblema 3. Define una función `antesDeIVA` que calcule el costo de un bien\\nantes de aplicarle un porcentar de IVA. Los argumentos son el costo final y \\ndicho porcentaje.\\n\\nEj.)\\n>>> print(antesDeIVA(116,0.16))\\n100\\n'"
            ]
          },
          "metadata": {
            "tags": []
          },
          "execution_count": 4
        }
      ]
    },
    {
      "cell_type": "code",
      "metadata": {
        "id": "iBn8iFEpDbbe",
        "colab_type": "code",
        "outputId": "5389f1eb-0381-47a6-9f2e-1b69d4c7780d",
        "colab": {
          "base_uri": "https://localhost:8080/",
          "height": 35
        }
      },
      "source": [
        "\"\"\"\n",
        "Problema 4. Define una función `C2F` que convierta grados Celsius a grados\n",
        "Fahrenheit. \n",
        "\n",
        "Ej.)\n",
        ">>> print(C2F(5))\n",
        "41\n",
        "\"\"\""
      ],
      "execution_count": 0,
      "outputs": [
        {
          "output_type": "execute_result",
          "data": {
            "text/plain": [
              "'\\nProblema 4. Define una función `C2F` que convierta grados Celsius a grados\\nFahrenheit. \\n\\nEj.)\\n>>> print(C2F(5))\\n41\\n'"
            ]
          },
          "metadata": {
            "tags": []
          },
          "execution_count": 5
        }
      ]
    },
    {
      "cell_type": "code",
      "metadata": {
        "id": "bXArF8uSEjuf",
        "colab_type": "code",
        "colab": {}
      },
      "source": [
        "\"\"\"\n",
        "Problema 5. Defina una función `paridad` que indique sí un número es par, con un \n",
        "1 para un número impar y 0 para uno par. \n",
        "\n",
        "Ej.)\n",
        ">>> print(paridad(6))\n",
        "0\n",
        ">>> print(paridad(7))\n",
        "1"
      ],
      "execution_count": 0,
      "outputs": []
    }
  ]
}