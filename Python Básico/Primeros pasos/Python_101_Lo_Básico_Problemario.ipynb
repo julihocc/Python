{
 "cells": [
  {
   "cell_type": "code",
   "execution_count": 1,
   "metadata": {
    "colab": {
     "base_uri": "https://localhost:8080/",
     "height": 55
    },
    "colab_type": "code",
    "id": "Nxv44CXSAl12",
    "outputId": "51e87f97-750b-4685-d104-a7eb0f2175db"
   },
   "outputs": [
    {
     "data": {
      "text/plain": [
       "'\\nProblema 1. Define una función `saludoBond` que acepte dos cadenas `nombre` y \\n`apellido` y regrese un saludos al estilo 007...\\n\\nEj.)\\n>>> print(saludoBond(\"Fulanito\", \"Pérez\"))\\n\"Mi nombre es Pérez, Fulanito Pérez.\"\\n'"
      ]
     },
     "execution_count": 1,
     "metadata": {},
     "output_type": "execute_result"
    }
   ],
   "source": [
    "\"\"\"\n",
    "Problema 1. Define una función `saludoBond` que acepte dos cadenas `nombre` y \n",
    "`apellido` y regrese un saludos al estilo 007...\n",
    "\n",
    "Ej.)\n",
    ">>> print(saludoBond(\"Fulanito\", \"Pérez\"))\n",
    "\"Mi nombre es Pérez, Fulanito Pérez.\"\n",
    "\"\"\""
   ]
  },
  {
   "cell_type": "code",
   "execution_count": 2,
   "metadata": {
    "colab": {
     "base_uri": "https://localhost:8080/",
     "height": 35
    },
    "colab_type": "code",
    "id": "qyc8JZ__BanW",
    "outputId": "84578473-d108-4600-8a89-04d10972c5ee"
   },
   "outputs": [
    {
     "data": {
      "text/plain": [
       "'\\nProblema 2. Define una función `conPropina` que calcule la cuenta con propina,\\ndado el monto y un porcentaje (en formato decimal).\\n\\nEj.)\\n>>> print(conPropina(200, 0.15))\\n230\\n'"
      ]
     },
     "execution_count": 2,
     "metadata": {},
     "output_type": "execute_result"
    }
   ],
   "source": [
    "\"\"\"\n",
    "Problema 2. Define una función `conPropina` que calcule la cuenta con propina,\n",
    "dado el monto y un porcentaje (en formato decimal).\n",
    "\n",
    "Ej.)\n",
    ">>> print(conPropina(200, 0.15))\n",
    "230\n",
    "\"\"\""
   ]
  },
  {
   "cell_type": "code",
   "execution_count": 3,
   "metadata": {
    "colab": {
     "base_uri": "https://localhost:8080/",
     "height": 55
    },
    "colab_type": "code",
    "id": "r_GKmvVhCFjH",
    "outputId": "caf4f735-5ee1-48d6-8d93-0440ffbdaf96"
   },
   "outputs": [
    {
     "data": {
      "text/plain": [
       "'\\nProblema 3. Define una función `antesDeIVA` que calcule el costo de un bien\\nantes de aplicarle un porcentar de IVA. Los argumentos son el costo final y \\ndicho porcentaje.\\n\\nEj.)\\n>>> print(antesDeIVA(116,0.16))\\n100\\n'"
      ]
     },
     "execution_count": 3,
     "metadata": {},
     "output_type": "execute_result"
    }
   ],
   "source": [
    "\"\"\"\n",
    "Problema 3. Define una función `antesDeIVA` que calcule el costo de un bien\n",
    "antes de aplicarle un porcentar de IVA. Los argumentos son el costo final y \n",
    "dicho porcentaje.\n",
    "\n",
    "Ej.)\n",
    ">>> print(antesDeIVA(116,0.16))\n",
    "100\n",
    "\"\"\""
   ]
  },
  {
   "cell_type": "code",
   "execution_count": 4,
   "metadata": {
    "colab": {
     "base_uri": "https://localhost:8080/",
     "height": 35
    },
    "colab_type": "code",
    "id": "iBn8iFEpDbbe",
    "outputId": "5389f1eb-0381-47a6-9f2e-1b69d4c7780d"
   },
   "outputs": [
    {
     "data": {
      "text/plain": [
       "'\\nProblema 4. Define una función `C2F` que convierta grados Celsius a grados\\nFahrenheit. \\n\\nEj.)\\n>>> print(C2F(5))\\n41\\n'"
      ]
     },
     "execution_count": 4,
     "metadata": {},
     "output_type": "execute_result"
    }
   ],
   "source": [
    "\"\"\"\n",
    "Problema 4. Define una función `C2F` que convierta grados Celsius a grados\n",
    "Fahrenheit. \n",
    "\n",
    "Ej.)\n",
    ">>> print(C2F(5))\n",
    "41\n",
    "\"\"\""
   ]
  },
  {
   "cell_type": "code",
   "execution_count": 5,
   "metadata": {
    "colab": {},
    "colab_type": "code",
    "id": "bXArF8uSEjuf"
   },
   "outputs": [
    {
     "data": {
      "text/plain": [
       "'\\nProblema 5. Defina una función `paridad` que indique sí un número es par, con un \\n1 para un número impar y 0 para uno par. \\n\\nEj.)\\n>>> print(paridad(6))\\n0\\n>>> print(paridad(7))\\n1\\n'"
      ]
     },
     "execution_count": 5,
     "metadata": {},
     "output_type": "execute_result"
    }
   ],
   "source": [
    "\"\"\"\n",
    "Problema 5. Defina una función `paridad` que indique sí un número es par, con un \n",
    "1 para un número impar y 0 para uno par. \n",
    "\n",
    "Ej.)\n",
    ">>> print(paridad(6))\n",
    "0\n",
    ">>> print(paridad(7))\n",
    "1\n",
    "\"\"\""
   ]
  }
 ],
 "metadata": {
  "colab": {
   "collapsed_sections": [],
   "name": "Python 101 Lo Básico Problemario.ipynb",
   "provenance": [],
   "version": "0.3.2"
  },
  "kernelspec": {
   "display_name": "Python 3",
   "language": "python",
   "name": "python3"
  },
  "language_info": {
   "codemirror_mode": {
    "name": "ipython",
    "version": 3
   },
   "file_extension": ".py",
   "mimetype": "text/x-python",
   "name": "python",
   "nbconvert_exporter": "python",
   "pygments_lexer": "ipython3",
   "version": "3.8.8"
  }
 },
 "nbformat": 4,
 "nbformat_minor": 4
}
