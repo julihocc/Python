{
 "cells": [
  {
   "cell_type": "code",
   "execution_count": 6,
   "metadata": {
    "collapsed": true,
    "ExecuteTime": {
     "end_time": "2023-10-04T23:27:19.524476900Z",
     "start_time": "2023-10-04T23:27:19.520078400Z"
    }
   },
   "outputs": [
    {
     "name": "stdout",
     "output_type": "stream",
     "text": [
      "Hola, Ana\n"
     ]
    }
   ],
   "source": [
    "def saludo(nombre):\n",
    "    print(\"Hola, \" + nombre)\n",
    "\n",
    "saludo(\"Ana\")  # Salida: Hola, Ana"
   ]
  },
  {
   "cell_type": "code",
   "execution_count": 7,
   "outputs": [
    {
     "data": {
      "text/plain": "7"
     },
     "execution_count": 7,
     "metadata": {},
     "output_type": "execute_result"
    }
   ],
   "source": [
    "def suma(a, b):\n",
    "    return a + b\n",
    "\n",
    "resultado = suma(3, 4)  # resultado es 7\n",
    "resultado"
   ],
   "metadata": {
    "collapsed": false,
    "ExecuteTime": {
     "end_time": "2023-10-04T23:27:19.540191800Z",
     "start_time": "2023-10-04T23:27:19.525473100Z"
    }
   }
  },
  {
   "cell_type": "code",
   "execution_count": 8,
   "outputs": [
    {
     "data": {
      "text/plain": "15"
     },
     "execution_count": 8,
     "metadata": {},
     "output_type": "execute_result"
    }
   ],
   "source": [
    "multiplica = lambda x, y: x * y\n",
    "multiplica(5, 3)  # Salida: 15\n"
   ],
   "metadata": {
    "collapsed": false,
    "ExecuteTime": {
     "end_time": "2023-10-04T23:27:44.088676Z",
     "start_time": "2023-10-04T23:27:44.081673900Z"
    }
   }
  },
  {
   "cell_type": "code",
   "execution_count": 9,
   "outputs": [
    {
     "name": "stdout",
     "output_type": "stream",
     "text": [
      "Help on function suma in module __main__:\n",
      "\n",
      "suma(a, b)\n",
      "    Esta función suma dos números y devuelve el resultado.\n",
      "\n"
     ]
    }
   ],
   "source": [
    "def suma(a, b):\n",
    "    \"\"\"\n",
    "    Esta función suma dos números y devuelve el resultado.\n",
    "    \"\"\"\n",
    "    return a + b\n",
    "\n",
    "help(suma)\n"
   ],
   "metadata": {
    "collapsed": false,
    "ExecuteTime": {
     "end_time": "2023-10-04T23:27:57.270880Z",
     "start_time": "2023-10-04T23:27:57.265879100Z"
    }
   }
  },
  {
   "cell_type": "code",
   "execution_count": null,
   "outputs": [],
   "source": [],
   "metadata": {
    "collapsed": false
   }
  }
 ],
 "metadata": {
  "kernelspec": {
   "display_name": "Python 3",
   "language": "python",
   "name": "python3"
  },
  "language_info": {
   "codemirror_mode": {
    "name": "ipython",
    "version": 2
   },
   "file_extension": ".py",
   "mimetype": "text/x-python",
   "name": "python",
   "nbconvert_exporter": "python",
   "pygments_lexer": "ipython2",
   "version": "2.7.6"
  }
 },
 "nbformat": 4,
 "nbformat_minor": 0
}
