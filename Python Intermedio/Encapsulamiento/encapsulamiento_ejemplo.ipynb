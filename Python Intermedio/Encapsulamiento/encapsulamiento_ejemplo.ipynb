{
 "cells": [
  {
   "cell_type": "code",
   "execution_count": 37,
   "metadata": {
    "collapsed": true,
    "ExecuteTime": {
     "end_time": "2023-09-29T00:34:11.394048Z",
     "start_time": "2023-09-29T00:34:11.388014400Z"
    }
   },
   "outputs": [
    {
     "name": "stdout",
     "output_type": "stream",
     "text": [
      "Juan\n",
      "Juan\n"
     ]
    }
   ],
   "source": [
    "class Persona:\n",
    "    def __init__(self, nombre):\n",
    "        self._nombre = nombre\n",
    "\n",
    "    def get_nombre(self):\n",
    "        return self._nombre\n",
    "\n",
    "juan = Persona(\"Juan\")\n",
    "print(juan._nombre)\n",
    "print(juan.get_nombre())\n"
   ]
  },
  {
   "cell_type": "code",
   "execution_count": 38,
   "outputs": [],
   "source": [
    "class Persona:\n",
    "    def __init__(self, nombre):\n",
    "        self.__nombre = nombre\n",
    "    def get_nombre(self):\n",
    "        return self.__nombre\n",
    "\n",
    "juan = Persona(\"Juan\")"
   ],
   "metadata": {
    "collapsed": false,
    "ExecuteTime": {
     "end_time": "2023-09-29T00:34:11.401853900Z",
     "start_time": "2023-09-29T00:34:11.393041900Z"
    }
   }
  },
  {
   "cell_type": "code",
   "execution_count": 39,
   "outputs": [
    {
     "name": "stdout",
     "output_type": "stream",
     "text": [
      "'Persona' object has no attribute '__nombre'\n"
     ]
    }
   ],
   "source": [
    "try:\n",
    "    print(juan.__nombre)\n",
    "except AttributeError as e:\n",
    "    print(e)\n"
   ],
   "metadata": {
    "collapsed": false,
    "ExecuteTime": {
     "end_time": "2023-09-29T00:34:11.471464300Z",
     "start_time": "2023-09-29T00:34:11.402358300Z"
    }
   }
  },
  {
   "cell_type": "code",
   "execution_count": 40,
   "outputs": [
    {
     "data": {
      "text/plain": "'Juan'"
     },
     "execution_count": 40,
     "metadata": {},
     "output_type": "execute_result"
    }
   ],
   "source": [
    "juan.get_nombre()"
   ],
   "metadata": {
    "collapsed": false,
    "ExecuteTime": {
     "end_time": "2023-09-29T00:34:11.471464300Z",
     "start_time": "2023-09-29T00:34:11.417432700Z"
    }
   }
  },
  {
   "cell_type": "code",
   "execution_count": 41,
   "outputs": [
    {
     "data": {
      "text/plain": "'Juan'"
     },
     "execution_count": 41,
     "metadata": {},
     "output_type": "execute_result"
    }
   ],
   "source": [
    "class Persona:\n",
    "    def __init__(self, nombre):\n",
    "        self.__nombre = nombre\n",
    "\n",
    "    @property\n",
    "    def nombre(self):\n",
    "        return self.__nombre\n",
    "\n",
    "juan = Persona(\"Juan\")\n",
    "juan.nombre"
   ],
   "metadata": {
    "collapsed": false,
    "ExecuteTime": {
     "end_time": "2023-09-29T00:34:11.472469900Z",
     "start_time": "2023-09-29T00:34:11.437110100Z"
    }
   }
  },
  {
   "cell_type": "code",
   "execution_count": 42,
   "outputs": [
    {
     "name": "stdout",
     "output_type": "stream",
     "text": [
      "property 'nombre' of 'Persona' object has no setter\n"
     ]
    }
   ],
   "source": [
    "try:\n",
    "    juan.nombre = \"José\"\n",
    "except AttributeError as e:\n",
    "    print(e)\n"
   ],
   "metadata": {
    "collapsed": false,
    "ExecuteTime": {
     "end_time": "2023-09-29T00:34:11.472469900Z",
     "start_time": "2023-09-29T00:34:11.448115600Z"
    }
   }
  },
  {
   "cell_type": "code",
   "execution_count": 43,
   "outputs": [
    {
     "data": {
      "text/plain": "20"
     },
     "execution_count": 43,
     "metadata": {},
     "output_type": "execute_result"
    }
   ],
   "source": [
    "class Persona:\n",
    "    def __init__(self, nombre, edad):\n",
    "        self.__nombre = nombre\n",
    "        self.__edad = edad\n",
    "\n",
    "    @property\n",
    "    def nombre(self):\n",
    "        return self.__nombre\n",
    "\n",
    "    @property\n",
    "    def edad(self):\n",
    "        return self.__edad\n",
    "\n",
    "    @edad.setter\n",
    "    def edad(self, edad):\n",
    "        if edad < 0:\n",
    "            raise ValueError(\"La edad debe ser mayor o igual a 0\")\n",
    "        self.__edad = edad\n",
    "\n",
    "juan = Persona(\"Juan\", 20)\n",
    "juan.edad"
   ],
   "metadata": {
    "collapsed": false,
    "ExecuteTime": {
     "end_time": "2023-09-29T00:34:11.473471400Z",
     "start_time": "2023-09-29T00:34:11.460386500Z"
    }
   }
  },
  {
   "cell_type": "code",
   "execution_count": 44,
   "outputs": [
    {
     "name": "stdout",
     "output_type": "stream",
     "text": [
      "La edad debe ser mayor o igual a 0\n"
     ]
    }
   ],
   "source": [
    "try:\n",
    "    juan.edad = -1\n",
    "except ValueError as e:\n",
    "    print(e)\n"
   ],
   "metadata": {
    "collapsed": false,
    "ExecuteTime": {
     "end_time": "2023-09-29T00:34:11.481780300Z",
     "start_time": "2023-09-29T00:34:11.469958300Z"
    }
   }
  },
  {
   "cell_type": "code",
   "execution_count": 45,
   "outputs": [
    {
     "data": {
      "text/plain": "['_Persona__nombre',\n '_Persona__edad',\n '__module__',\n '__init__',\n 'nombre',\n 'edad',\n '__dict__',\n '__weakref__',\n '__doc__',\n '__new__',\n '__repr__',\n '__hash__',\n '__str__',\n '__getattribute__',\n '__setattr__',\n '__delattr__',\n '__lt__',\n '__le__',\n '__eq__',\n '__ne__',\n '__gt__',\n '__ge__',\n '__reduce_ex__',\n '__reduce__',\n '__getstate__',\n '__subclasshook__',\n '__init_subclass__',\n '__format__',\n '__sizeof__',\n '__dir__',\n '__class__']"
     },
     "execution_count": 45,
     "metadata": {},
     "output_type": "execute_result"
    }
   ],
   "source": [
    "juan.__dir__()\n"
   ],
   "metadata": {
    "collapsed": false,
    "ExecuteTime": {
     "end_time": "2023-09-29T00:34:11.722656800Z",
     "start_time": "2023-09-29T00:34:11.481780300Z"
    }
   }
  },
  {
   "cell_type": "code",
   "execution_count": 46,
   "outputs": [
    {
     "data": {
      "text/plain": "'Juan'"
     },
     "execution_count": 46,
     "metadata": {},
     "output_type": "execute_result"
    }
   ],
   "source": [
    "juan._Persona__nombre\n"
   ],
   "metadata": {
    "collapsed": false,
    "ExecuteTime": {
     "end_time": "2023-09-29T00:34:11.724659400Z",
     "start_time": "2023-09-29T00:34:11.497026700Z"
    }
   }
  },
  {
   "cell_type": "code",
   "execution_count": 47,
   "outputs": [
    {
     "data": {
      "text/plain": "20"
     },
     "execution_count": 47,
     "metadata": {},
     "output_type": "execute_result"
    }
   ],
   "source": [
    "juan._Persona__edad\n"
   ],
   "metadata": {
    "collapsed": false,
    "ExecuteTime": {
     "end_time": "2023-09-29T00:34:11.725666300Z",
     "start_time": "2023-09-29T00:34:11.514990700Z"
    }
   }
  },
  {
   "cell_type": "code",
   "execution_count": 47,
   "outputs": [],
   "source": [],
   "metadata": {
    "collapsed": false,
    "ExecuteTime": {
     "end_time": "2023-09-29T00:34:11.736958100Z",
     "start_time": "2023-09-29T00:34:11.533325Z"
    }
   }
  }
 ],
 "metadata": {
  "kernelspec": {
   "display_name": "Python 3",
   "language": "python",
   "name": "python3"
  },
  "language_info": {
   "codemirror_mode": {
    "name": "ipython",
    "version": 2
   },
   "file_extension": ".py",
   "mimetype": "text/x-python",
   "name": "python",
   "nbconvert_exporter": "python",
   "pygments_lexer": "ipython2",
   "version": "2.7.6"
  }
 },
 "nbformat": 4,
 "nbformat_minor": 0
}
