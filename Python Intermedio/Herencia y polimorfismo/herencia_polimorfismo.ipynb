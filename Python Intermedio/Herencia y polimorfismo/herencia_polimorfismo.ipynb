{
 "cells": [
  {
   "cell_type": "code",
   "execution_count": 4,
   "metadata": {
    "collapsed": true,
    "ExecuteTime": {
     "end_time": "2023-09-19T00:34:35.006446200Z",
     "start_time": "2023-09-19T00:34:34.995209500Z"
    }
   },
   "outputs": [
    {
     "name": "stdout",
     "output_type": "stream",
     "text": [
      "Hola, soy Juan y tengo 20 años\n"
     ]
    }
   ],
   "source": [
    "class Persona:\n",
    "    def __init__(self, nombre, edad):\n",
    "        self.nombre = nombre\n",
    "        self.edad = edad\n",
    "\n",
    "    def saludar(self):\n",
    "        print(\"Hola, soy {} y tengo {} años\".format(self.nombre, self.edad))\n",
    "\n",
    "persona = Persona(\"Juan\", 20)\n",
    "\n",
    "persona.saludar()"
   ]
  },
  {
   "cell_type": "code",
   "execution_count": 5,
   "outputs": [
    {
     "name": "stdout",
     "output_type": "stream",
     "text": [
      "Hola, soy Juan y tengo 20 años\n",
      "Estoy estudiando\n"
     ]
    }
   ],
   "source": [
    "class Estudiante(Persona):\n",
    "    def __init__(self, nombre, edad, matricula):\n",
    "        super().__init__(nombre, edad)\n",
    "        self.matricula = matricula\n",
    "\n",
    "    def estudiar(self):\n",
    "        print(\"Estoy estudiando\")\n",
    "\n",
    "estudiante = Estudiante(\"Juan\", 20, \"123456789\")\n",
    "\n",
    "estudiante.saludar()\n",
    "estudiante.estudiar()\n"
   ],
   "metadata": {
    "collapsed": false,
    "ExecuteTime": {
     "end_time": "2023-09-19T00:34:35.062648200Z",
     "start_time": "2023-09-19T00:34:35.000731800Z"
    }
   }
  },
  {
   "cell_type": "code",
   "execution_count": 6,
   "outputs": [
    {
     "name": "stdout",
     "output_type": "stream",
     "text": [
      "Hola, soy Juan y soy maestro\n"
     ]
    }
   ],
   "source": [
    "class Maestro(Persona):\n",
    "    def saludar(self):\n",
    "        print(\"Hola, soy {} y soy maestro\".format(self.nombre))\n",
    "\n",
    "maestro = Maestro(\"Juan\", 20)\n",
    "\n",
    "maestro.saludar()\n"
   ],
   "metadata": {
    "collapsed": false,
    "ExecuteTime": {
     "end_time": "2023-09-19T00:34:53.803273500Z",
     "start_time": "2023-09-19T00:34:53.799267800Z"
    }
   }
  },
  {
   "cell_type": "code",
   "execution_count": null,
   "outputs": [],
   "source": [],
   "metadata": {
    "collapsed": false
   }
  }
 ],
 "metadata": {
  "kernelspec": {
   "display_name": "Python 3",
   "language": "python",
   "name": "python3"
  },
  "language_info": {
   "codemirror_mode": {
    "name": "ipython",
    "version": 2
   },
   "file_extension": ".py",
   "mimetype": "text/x-python",
   "name": "python",
   "nbconvert_exporter": "python",
   "pygments_lexer": "ipython2",
   "version": "2.7.6"
  }
 },
 "nbformat": 4,
 "nbformat_minor": 0
}
