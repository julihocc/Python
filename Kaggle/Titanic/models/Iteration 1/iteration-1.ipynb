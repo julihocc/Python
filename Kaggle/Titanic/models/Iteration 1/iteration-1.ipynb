{
 "cells": [
  {
   "cell_type": "markdown",
   "source": [
    "### 1. Exploración de Datos:\n",
    "\n",
    "**a. Cargar los datos:**\n",
    "Para cargar los datos, generalmente utilizamos la biblioteca `pandas` en Python. Aquí hay un ejemplo de cómo cargar los datos de entrenamiento y prueba:\n",
    "\n",
    "```python\n",
    "import pandas as pd\n",
    "\n",
    "# Cargar los datos\n",
    "train_data = pd.read_csv('data/train.csv')\n",
    "test_data = pd.read_csv('data/test.csv')\n",
    "\n",
    "# Ver las primeras filas del conjunto de entrenamiento\n",
    "print(train_data.head())\n",
    "```"
   ],
   "metadata": {
    "collapsed": false
   }
  },
  {
   "cell_type": "code",
   "execution_count": 1,
   "outputs": [
    {
     "data": {
      "text/plain": "   PassengerId  Survived  Pclass  \\\n0            1         0       3   \n1            2         1       1   \n2            3         1       3   \n3            4         1       1   \n4            5         0       3   \n\n                                                Name     Sex   Age  SibSp  \\\n0                            Braund, Mr. Owen Harris    male  22.0      1   \n1  Cumings, Mrs. John Bradley (Florence Briggs Th...  female  38.0      1   \n2                             Heikkinen, Miss. Laina  female  26.0      0   \n3       Futrelle, Mrs. Jacques Heath (Lily May Peel)  female  35.0      1   \n4                           Allen, Mr. William Henry    male  35.0      0   \n\n   Parch            Ticket     Fare Cabin Embarked  \n0      0         A/5 21171   7.2500   NaN        S  \n1      0          PC 17599  71.2833   C85        C  \n2      0  STON/O2. 3101282   7.9250   NaN        S  \n3      0            113803  53.1000  C123        S  \n4      0            373450   8.0500   NaN        S  ",
      "text/html": "<div>\n<style scoped>\n    .dataframe tbody tr th:only-of-type {\n        vertical-align: middle;\n    }\n\n    .dataframe tbody tr th {\n        vertical-align: top;\n    }\n\n    .dataframe thead th {\n        text-align: right;\n    }\n</style>\n<table border=\"1\" class=\"dataframe\">\n  <thead>\n    <tr style=\"text-align: right;\">\n      <th></th>\n      <th>PassengerId</th>\n      <th>Survived</th>\n      <th>Pclass</th>\n      <th>Name</th>\n      <th>Sex</th>\n      <th>Age</th>\n      <th>SibSp</th>\n      <th>Parch</th>\n      <th>Ticket</th>\n      <th>Fare</th>\n      <th>Cabin</th>\n      <th>Embarked</th>\n    </tr>\n  </thead>\n  <tbody>\n    <tr>\n      <th>0</th>\n      <td>1</td>\n      <td>0</td>\n      <td>3</td>\n      <td>Braund, Mr. Owen Harris</td>\n      <td>male</td>\n      <td>22.0</td>\n      <td>1</td>\n      <td>0</td>\n      <td>A/5 21171</td>\n      <td>7.2500</td>\n      <td>NaN</td>\n      <td>S</td>\n    </tr>\n    <tr>\n      <th>1</th>\n      <td>2</td>\n      <td>1</td>\n      <td>1</td>\n      <td>Cumings, Mrs. John Bradley (Florence Briggs Th...</td>\n      <td>female</td>\n      <td>38.0</td>\n      <td>1</td>\n      <td>0</td>\n      <td>PC 17599</td>\n      <td>71.2833</td>\n      <td>C85</td>\n      <td>C</td>\n    </tr>\n    <tr>\n      <th>2</th>\n      <td>3</td>\n      <td>1</td>\n      <td>3</td>\n      <td>Heikkinen, Miss. Laina</td>\n      <td>female</td>\n      <td>26.0</td>\n      <td>0</td>\n      <td>0</td>\n      <td>STON/O2. 3101282</td>\n      <td>7.9250</td>\n      <td>NaN</td>\n      <td>S</td>\n    </tr>\n    <tr>\n      <th>3</th>\n      <td>4</td>\n      <td>1</td>\n      <td>1</td>\n      <td>Futrelle, Mrs. Jacques Heath (Lily May Peel)</td>\n      <td>female</td>\n      <td>35.0</td>\n      <td>1</td>\n      <td>0</td>\n      <td>113803</td>\n      <td>53.1000</td>\n      <td>C123</td>\n      <td>S</td>\n    </tr>\n    <tr>\n      <th>4</th>\n      <td>5</td>\n      <td>0</td>\n      <td>3</td>\n      <td>Allen, Mr. William Henry</td>\n      <td>male</td>\n      <td>35.0</td>\n      <td>0</td>\n      <td>0</td>\n      <td>373450</td>\n      <td>8.0500</td>\n      <td>NaN</td>\n      <td>S</td>\n    </tr>\n  </tbody>\n</table>\n</div>"
     },
     "execution_count": 1,
     "metadata": {},
     "output_type": "execute_result"
    }
   ],
   "source": [
    "import pandas as pd\n",
    "\n",
    "# Cargar los datos\n",
    "train_data = pd.read_csv('../../data/train.csv')\n",
    "test_data = pd.read_csv('../../data/test.csv')\n",
    "\n",
    "# Ver las primeras filas del conjunto de entrenamiento\n",
    "train_data.head()"
   ],
   "metadata": {
    "collapsed": false,
    "ExecuteTime": {
     "end_time": "2023-10-26T01:18:16.733346300Z",
     "start_time": "2023-10-26T01:18:16.594403Z"
    }
   }
  },
  {
   "cell_type": "markdown",
   "source": [
    "\n",
    "**b. Análisis exploratorio:**\n",
    "Una vez que hayas cargado los datos, es útil obtener una visión general de ellos:\n",
    "\n",
    "```python\n",
    "# Información general sobre el conjunto de entrenamiento\n",
    "print(train_data.info())\n",
    "\n",
    "# Estadísticas descriptivas\n",
    "print(train_data.describe())\n",
    "```"
   ],
   "metadata": {
    "collapsed": false
   }
  },
  {
   "cell_type": "code",
   "execution_count": 2,
   "outputs": [
    {
     "name": "stdout",
     "output_type": "stream",
     "text": [
      "<class 'pandas.core.frame.DataFrame'>\n",
      "RangeIndex: 891 entries, 0 to 890\n",
      "Data columns (total 12 columns):\n",
      " #   Column       Non-Null Count  Dtype  \n",
      "---  ------       --------------  -----  \n",
      " 0   PassengerId  891 non-null    int64  \n",
      " 1   Survived     891 non-null    int64  \n",
      " 2   Pclass       891 non-null    int64  \n",
      " 3   Name         891 non-null    object \n",
      " 4   Sex          891 non-null    object \n",
      " 5   Age          714 non-null    float64\n",
      " 6   SibSp        891 non-null    int64  \n",
      " 7   Parch        891 non-null    int64  \n",
      " 8   Ticket       891 non-null    object \n",
      " 9   Fare         891 non-null    float64\n",
      " 10  Cabin        204 non-null    object \n",
      " 11  Embarked     889 non-null    object \n",
      "dtypes: float64(2), int64(5), object(5)\n",
      "memory usage: 83.7+ KB\n"
     ]
    }
   ],
   "source": [
    "# Información general sobre el conjunto de entrenamiento\n",
    "train_data.info()"
   ],
   "metadata": {
    "collapsed": false,
    "ExecuteTime": {
     "end_time": "2023-10-26T01:18:16.851481800Z",
     "start_time": "2023-10-26T01:18:16.727333400Z"
    }
   }
  },
  {
   "cell_type": "code",
   "execution_count": 3,
   "outputs": [
    {
     "data": {
      "text/plain": "       PassengerId    Survived      Pclass         Age       SibSp  \\\ncount   891.000000  891.000000  891.000000  714.000000  891.000000   \nmean    446.000000    0.383838    2.308642   29.699118    0.523008   \nstd     257.353842    0.486592    0.836071   14.526497    1.102743   \nmin       1.000000    0.000000    1.000000    0.420000    0.000000   \n25%     223.500000    0.000000    2.000000   20.125000    0.000000   \n50%     446.000000    0.000000    3.000000   28.000000    0.000000   \n75%     668.500000    1.000000    3.000000   38.000000    1.000000   \nmax     891.000000    1.000000    3.000000   80.000000    8.000000   \n\n            Parch        Fare  \ncount  891.000000  891.000000  \nmean     0.381594   32.204208  \nstd      0.806057   49.693429  \nmin      0.000000    0.000000  \n25%      0.000000    7.910400  \n50%      0.000000   14.454200  \n75%      0.000000   31.000000  \nmax      6.000000  512.329200  ",
      "text/html": "<div>\n<style scoped>\n    .dataframe tbody tr th:only-of-type {\n        vertical-align: middle;\n    }\n\n    .dataframe tbody tr th {\n        vertical-align: top;\n    }\n\n    .dataframe thead th {\n        text-align: right;\n    }\n</style>\n<table border=\"1\" class=\"dataframe\">\n  <thead>\n    <tr style=\"text-align: right;\">\n      <th></th>\n      <th>PassengerId</th>\n      <th>Survived</th>\n      <th>Pclass</th>\n      <th>Age</th>\n      <th>SibSp</th>\n      <th>Parch</th>\n      <th>Fare</th>\n    </tr>\n  </thead>\n  <tbody>\n    <tr>\n      <th>count</th>\n      <td>891.000000</td>\n      <td>891.000000</td>\n      <td>891.000000</td>\n      <td>714.000000</td>\n      <td>891.000000</td>\n      <td>891.000000</td>\n      <td>891.000000</td>\n    </tr>\n    <tr>\n      <th>mean</th>\n      <td>446.000000</td>\n      <td>0.383838</td>\n      <td>2.308642</td>\n      <td>29.699118</td>\n      <td>0.523008</td>\n      <td>0.381594</td>\n      <td>32.204208</td>\n    </tr>\n    <tr>\n      <th>std</th>\n      <td>257.353842</td>\n      <td>0.486592</td>\n      <td>0.836071</td>\n      <td>14.526497</td>\n      <td>1.102743</td>\n      <td>0.806057</td>\n      <td>49.693429</td>\n    </tr>\n    <tr>\n      <th>min</th>\n      <td>1.000000</td>\n      <td>0.000000</td>\n      <td>1.000000</td>\n      <td>0.420000</td>\n      <td>0.000000</td>\n      <td>0.000000</td>\n      <td>0.000000</td>\n    </tr>\n    <tr>\n      <th>25%</th>\n      <td>223.500000</td>\n      <td>0.000000</td>\n      <td>2.000000</td>\n      <td>20.125000</td>\n      <td>0.000000</td>\n      <td>0.000000</td>\n      <td>7.910400</td>\n    </tr>\n    <tr>\n      <th>50%</th>\n      <td>446.000000</td>\n      <td>0.000000</td>\n      <td>3.000000</td>\n      <td>28.000000</td>\n      <td>0.000000</td>\n      <td>0.000000</td>\n      <td>14.454200</td>\n    </tr>\n    <tr>\n      <th>75%</th>\n      <td>668.500000</td>\n      <td>1.000000</td>\n      <td>3.000000</td>\n      <td>38.000000</td>\n      <td>1.000000</td>\n      <td>0.000000</td>\n      <td>31.000000</td>\n    </tr>\n    <tr>\n      <th>max</th>\n      <td>891.000000</td>\n      <td>1.000000</td>\n      <td>3.000000</td>\n      <td>80.000000</td>\n      <td>8.000000</td>\n      <td>6.000000</td>\n      <td>512.329200</td>\n    </tr>\n  </tbody>\n</table>\n</div>"
     },
     "execution_count": 3,
     "metadata": {},
     "output_type": "execute_result"
    }
   ],
   "source": [
    "# Estadísticas descriptivas\n",
    "train_data.describe()"
   ],
   "metadata": {
    "collapsed": false,
    "ExecuteTime": {
     "end_time": "2023-10-26T01:18:17.140153900Z",
     "start_time": "2023-10-26T01:18:16.781129Z"
    }
   }
  },
  {
   "cell_type": "markdown",
   "source": [
    "\n",
    "Esto te dará una idea de las características disponibles, la cantidad de valores faltantes y algunas estadísticas básicas para las características numéricas.\n",
    "\n",
    "**c. Visualización de datos:**\n",
    "La visualización es una herramienta poderosa para entender los datos. Puedes usar la biblioteca `matplotlib` o `seaborn` para visualizar la distribución de las características y la relación entre ellas. Por ejemplo, para visualizar la tasa de supervivencia según el género:\n",
    "\n",
    "```python\n",
    "import seaborn as sns\n",
    "import matplotlib.pyplot as plt\n",
    "\n",
    "sns.countplot(x='Sex', hue='Survived', data=train_data)\n",
    "plt.title('Tasa de supervivencia según el género')\n",
    "plt.show()\n",
    "```"
   ],
   "metadata": {
    "collapsed": false
   }
  },
  {
   "cell_type": "code",
   "execution_count": 4,
   "outputs": [
    {
     "data": {
      "text/plain": "<Figure size 640x480 with 1 Axes>",
      "image/png": "[encoded data removed]"
     },
     "metadata": {},
     "output_type": "display_data"
    }
   ],
   "source": [
    "import seaborn as sns\n",
    "import matplotlib.pyplot as plt\n",
    "\n",
    "sns.countplot(x='Sex', hue='Survived', data=train_data)\n",
    "plt.title('Tasa de supervivencia según el género')\n",
    "plt.show()"
   ],
   "metadata": {
    "collapsed": false,
    "ExecuteTime": {
     "end_time": "2023-10-26T01:18:18.366668400Z",
     "start_time": "2023-10-26T01:18:16.882761400Z"
    }
   }
  },
  {
   "cell_type": "markdown",
   "source": [
    "\n",
    "Estos son solo algunos pasos básicos para comenzar con la exploración de datos. A medida que profundices en el análisis, podrías descubrir patrones interesantes o relaciones que podrían ser útiles para la construcción del modelo.\n"
   ],
   "metadata": {
    "collapsed": false
   }
  },
  {
   "cell_type": "markdown",
   "source": [
    "¡Genial! Prosigamos con el **Preprocesamiento de Datos**.\n",
    "\n",
    "### 2. Preprocesamiento de Datos:\n",
    "\n",
    "**a. Manejo de valores faltantes:**\n",
    "Es común encontrar valores faltantes en conjuntos de datos. Es esencial manejarlos adecuadamente para evitar errores en el modelo.\n",
    "\n",
    "```python\n",
    "# Verificar valores faltantes\n",
    "print(train_data.isnull().sum())\n",
    "\n",
    "# Una estrategia común es rellenar los valores faltantes de 'Age' con la mediana\n",
    "train_data['Age'].fillna(train_data['Age'].median(), inplace=True)\n",
    "\n",
    "# Para 'Embarked', podemos rellenar con el valor más común\n",
    "most_common_embarked = train_data['Embarked'].mode()[0]\n",
    "train_data['Embarked'].fillna(most_common_embarked, inplace=True)\n",
    "```"
   ],
   "metadata": {
    "collapsed": false
   }
  },
  {
   "cell_type": "code",
   "execution_count": 5,
   "outputs": [
    {
     "data": {
      "text/plain": "PassengerId      0\nSurvived         0\nPclass           0\nName             0\nSex              0\nAge            177\nSibSp            0\nParch            0\nTicket           0\nFare             0\nCabin          687\nEmbarked         2\ndtype: int64"
     },
     "execution_count": 5,
     "metadata": {},
     "output_type": "execute_result"
    }
   ],
   "source": [
    "# Verificar valores faltantes\n",
    "train_data.isnull().sum()"
   ],
   "metadata": {
    "collapsed": false,
    "ExecuteTime": {
     "end_time": "2023-10-26T01:18:18.387751800Z",
     "start_time": "2023-10-26T01:18:17.852269400Z"
    }
   }
  },
  {
   "cell_type": "code",
   "execution_count": 6,
   "outputs": [
    {
     "data": {
      "text/plain": "0"
     },
     "execution_count": 6,
     "metadata": {},
     "output_type": "execute_result"
    }
   ],
   "source": [
    "# Una estrategia común es rellenar los valores faltantes de 'Age' con la mediana\n",
    "train_data['Age'].fillna(train_data['Age'].median(), inplace=True)\n",
    "train_data[\"Age\"].isnull().sum()"
   ],
   "metadata": {
    "collapsed": false,
    "ExecuteTime": {
     "end_time": "2023-10-26T01:18:18.409989Z",
     "start_time": "2023-10-26T01:18:17.887370300Z"
    }
   }
  },
  {
   "cell_type": "code",
   "execution_count": 7,
   "outputs": [
    {
     "data": {
      "text/plain": "0"
     },
     "execution_count": 7,
     "metadata": {},
     "output_type": "execute_result"
    }
   ],
   "source": [
    "# Para 'Embarked', podemos rellenar con el valor más común\n",
    "most_common_embarked = train_data['Embarked'].mode()[0]\n",
    "train_data['Embarked'].fillna(most_common_embarked, inplace=True)\n",
    "train_data[\"Embarked\"].isnull().sum()"
   ],
   "metadata": {
    "collapsed": false,
    "ExecuteTime": {
     "end_time": "2023-10-26T01:18:18.456852100Z",
     "start_time": "2023-10-26T01:18:17.918316Z"
    }
   }
  },
  {
   "cell_type": "markdown",
   "source": [
    "**b. Codificación de variables categóricas:**\n",
    "Las máquinas entienden números, no texto. Por lo tanto, es necesario convertir las variables categóricas en formatos numéricos.\n",
    "\n",
    "```python\n",
    "# Convertir género a formato numérico: 0 para femenino y 1 para masculino\n",
    "train_data['Sex'] = train_data['Sex'].map({'female': 0, 'male': 1}).astype(int)\n",
    "\n",
    "# Codificar 'Embarked' usando codificación one-hot\n",
    "embarked_dummies = pd.get_dummies(train_data['Embarked'], prefix='Embarked')\n",
    "train_data = pd.concat([train_data, embarked_dummies], axis=1)\n",
    "train_data.drop('Embarked', axis=1, inplace=True)\n",
    "```"
   ],
   "metadata": {
    "collapsed": false
   }
  },
  {
   "cell_type": "code",
   "execution_count": 8,
   "outputs": [
    {
     "data": {
      "text/plain": "0      1\n1      0\n2      0\n3      0\n4      1\n      ..\n886    1\n887    0\n888    0\n889    1\n890    1\nName: Sex, Length: 891, dtype: int32"
     },
     "execution_count": 8,
     "metadata": {},
     "output_type": "execute_result"
    }
   ],
   "source": [
    "# Convertir género a formato numérico: 0 para femenino y 1 para masculino\n",
    "train_data['Sex'] = train_data['Sex'].map({'female': 0, 'male': 1}).astype(int)\n",
    "train_data['Sex']"
   ],
   "metadata": {
    "collapsed": false,
    "ExecuteTime": {
     "end_time": "2023-10-26T01:18:18.657602900Z",
     "start_time": "2023-10-26T01:18:17.942141Z"
    }
   }
  },
  {
   "cell_type": "code",
   "execution_count": 9,
   "outputs": [
    {
     "data": {
      "text/plain": "Index(['PassengerId', 'Survived', 'Pclass', 'Name', 'Sex', 'Age', 'SibSp',\n       'Parch', 'Ticket', 'Fare', 'Cabin', 'Embarked_C', 'Embarked_Q',\n       'Embarked_S'],\n      dtype='object')"
     },
     "execution_count": 9,
     "metadata": {},
     "output_type": "execute_result"
    }
   ],
   "source": [
    "# Codificar 'Embarked' usando codificación one-hot\n",
    "embarked_dummies = pd.get_dummies(train_data['Embarked'], prefix='Embarked')\n",
    "train_data = pd.concat([train_data, embarked_dummies], axis=1)\n",
    "train_data.drop('Embarked', axis=1, inplace=True)\n",
    "train_data.columns"
   ],
   "metadata": {
    "collapsed": false,
    "ExecuteTime": {
     "end_time": "2023-10-26T01:18:18.661600Z",
     "start_time": "2023-10-26T01:18:17.981883Z"
    }
   }
  },
  {
   "cell_type": "markdown",
   "source": [
    "\n",
    "**c. Creación de nuevas características:**\n",
    "A veces, combinar o derivar nuevas características puede mejorar el rendimiento del modelo.\n",
    "\n",
    "```python\n",
    "# Crear una nueva característica 'FamilySize' que combina 'SibSp' y 'Parch'\n",
    "train_data['FamilySize'] = train_data['SibSp'] + train_data['Parch'] + 1\n",
    "```"
   ],
   "metadata": {
    "collapsed": false
   }
  },
  {
   "cell_type": "code",
   "execution_count": 10,
   "outputs": [
    {
     "data": {
      "text/plain": "0      2\n1      2\n2      1\n3      2\n4      1\n      ..\n886    1\n887    1\n888    4\n889    1\n890    1\nName: FamilySize, Length: 891, dtype: int64"
     },
     "execution_count": 10,
     "metadata": {},
     "output_type": "execute_result"
    }
   ],
   "source": [
    "# Crear una nueva característica 'FamilySize' que combina 'SibSp' y 'Parch'\n",
    "train_data['FamilySize'] = train_data['SibSp'] + train_data['Parch'] + 1\n",
    "train_data['FamilySize']"
   ],
   "metadata": {
    "collapsed": false,
    "ExecuteTime": {
     "end_time": "2023-10-26T01:18:18.665600200Z",
     "start_time": "2023-10-26T01:18:18.036862500Z"
    }
   }
  },
  {
   "cell_type": "markdown",
   "source": [
    "\n",
    "**d. Normalización o escala de características:**\n",
    "Algunos modelos funcionan mejor cuando las características tienen una escala similar.\n",
    "\n",
    "```python\n",
    "from sklearn.preprocessing import StandardScaler\n",
    "\n",
    "scaler = StandardScaler()\n",
    "train_data[['Age', 'Fare']] = scaler.fit_transform(train_data[['Age', 'Fare']])\n",
    "```"
   ],
   "metadata": {
    "collapsed": false
   }
  },
  {
   "cell_type": "code",
   "execution_count": 11,
   "outputs": [
    {
     "data": {
      "text/plain": "StandardScaler()",
      "text/html": "<style>#sk-container-id-1 {color: black;background-color: white;}#sk-container-id-1 pre{padding: 0;}#sk-container-id-1 div.sk-toggleable {background-color: white;}#sk-container-id-1 label.sk-toggleable__label {cursor: pointer;display: block;width: 100%;margin-bottom: 0;padding: 0.3em;box-sizing: border-box;text-align: center;}#sk-container-id-1 label.sk-toggleable__label-arrow:before {content: \"▸\";float: left;margin-right: 0.25em;color: #696969;}#sk-container-id-1 label.sk-toggleable__label-arrow:hover:before {color: black;}#sk-container-id-1 div.sk-estimator:hover label.sk-toggleable__label-arrow:before {color: black;}#sk-container-id-1 div.sk-toggleable__content {max-height: 0;max-width: 0;overflow: hidden;text-align: left;background-color: #f0f8ff;}#sk-container-id-1 div.sk-toggleable__content pre {margin: 0.2em;color: black;border-radius: 0.25em;background-color: #f0f8ff;}#sk-container-id-1 input.sk-toggleable__control:checked~div.sk-toggleable__content {max-height: 200px;max-width: 100%;overflow: auto;}#sk-container-id-1 input.sk-toggleable__control:checked~label.sk-toggleable__label-arrow:before {content: \"▾\";}#sk-container-id-1 div.sk-estimator input.sk-toggleable__control:checked~label.sk-toggleable__label {background-color: #d4ebff;}#sk-container-id-1 div.sk-label input.sk-toggleable__control:checked~label.sk-toggleable__label {background-color: #d4ebff;}#sk-container-id-1 input.sk-hidden--visually {border: 0;clip: rect(1px 1px 1px 1px);clip: rect(1px, 1px, 1px, 1px);height: 1px;margin: -1px;overflow: hidden;padding: 0;position: absolute;width: 1px;}#sk-container-id-1 div.sk-estimator {font-family: monospace;background-color: #f0f8ff;border: 1px dotted black;border-radius: 0.25em;box-sizing: border-box;margin-bottom: 0.5em;}#sk-container-id-1 div.sk-estimator:hover {background-color: #d4ebff;}#sk-container-id-1 div.sk-parallel-item::after {content: \"\";width: 100%;border-bottom: 1px solid gray;flex-grow: 1;}#sk-container-id-1 div.sk-label:hover label.sk-toggleable__label {background-color: #d4ebff;}#sk-container-id-1 div.sk-serial::before {content: \"\";position: absolute;border-left: 1px solid gray;box-sizing: border-box;top: 0;bottom: 0;left: 50%;z-index: 0;}#sk-container-id-1 div.sk-serial {display: flex;flex-direction: column;align-items: center;background-color: white;padding-right: 0.2em;padding-left: 0.2em;position: relative;}#sk-container-id-1 div.sk-item {position: relative;z-index: 1;}#sk-container-id-1 div.sk-parallel {display: flex;align-items: stretch;justify-content: center;background-color: white;position: relative;}#sk-container-id-1 div.sk-item::before, #sk-container-id-1 div.sk-parallel-item::before {content: \"\";position: absolute;border-left: 1px solid gray;box-sizing: border-box;top: 0;bottom: 0;left: 50%;z-index: -1;}#sk-container-id-1 div.sk-parallel-item {display: flex;flex-direction: column;z-index: 1;position: relative;background-color: white;}#sk-container-id-1 div.sk-parallel-item:first-child::after {align-self: flex-end;width: 50%;}#sk-container-id-1 div.sk-parallel-item:last-child::after {align-self: flex-start;width: 50%;}#sk-container-id-1 div.sk-parallel-item:only-child::after {width: 0;}#sk-container-id-1 div.sk-dashed-wrapped {border: 1px dashed gray;margin: 0 0.4em 0.5em 0.4em;box-sizing: border-box;padding-bottom: 0.4em;background-color: white;}#sk-container-id-1 div.sk-label label {font-family: monospace;font-weight: bold;display: inline-block;line-height: 1.2em;}#sk-container-id-1 div.sk-label-container {text-align: center;}#sk-container-id-1 div.sk-container {/* jupyter's `normalize.less` sets `[hidden] { display: none; }` but bootstrap.min.css set `[hidden] { display: none !important; }` so we also need the `!important` here to be able to override the default hidden behavior on the sphinx rendered scikit-learn.org. See: https://github.com/scikit-learn/scikit-learn/issues/21755 */display: inline-block !important;position: relative;}#sk-container-id-1 div.sk-text-repr-fallback {display: none;}</style><div id=\"sk-container-id-1\" class=\"sk-top-container\"><div class=\"sk-text-repr-fallback\"><pre>StandardScaler()</pre><b>In a Jupyter environment, please rerun this cell to show the HTML representation or trust the notebook. <br />On GitHub, the HTML representation is unable to render, please try loading this page with nbviewer.org.</b></div><div class=\"sk-container\" hidden><div class=\"sk-item\"><div class=\"sk-estimator sk-toggleable\"><input class=\"sk-toggleable__control sk-hidden--visually\" id=\"sk-estimator-id-1\" type=\"checkbox\" checked><label for=\"sk-estimator-id-1\" class=\"sk-toggleable__label sk-toggleable__label-arrow\">StandardScaler</label><div class=\"sk-toggleable__content\"><pre>StandardScaler()</pre></div></div></div></div></div>"
     },
     "execution_count": 11,
     "metadata": {},
     "output_type": "execute_result"
    }
   ],
   "source": [
    "from sklearn.preprocessing import StandardScaler\n",
    "\n",
    "scaler = StandardScaler()\n",
    "scaler.fit(train_data[['Age', 'Fare']])"
   ],
   "metadata": {
    "collapsed": false,
    "ExecuteTime": {
     "end_time": "2023-10-26T01:18:19.875787800Z",
     "start_time": "2023-10-26T01:18:18.070331400Z"
    }
   }
  },
  {
   "cell_type": "code",
   "execution_count": 12,
   "outputs": [],
   "source": [
    "train_data[['Age', 'Fare']] = scaler.transform(train_data[['Age', 'Fare']])"
   ],
   "metadata": {
    "collapsed": false,
    "ExecuteTime": {
     "end_time": "2023-10-26T01:18:19.887043100Z",
     "start_time": "2023-10-26T01:18:19.689667800Z"
    }
   }
  },
  {
   "cell_type": "code",
   "execution_count": 13,
   "outputs": [
    {
     "data": {
      "text/plain": "                Age          Fare\ncount  8.910000e+02  8.910000e+02\nmean   2.272780e-16  3.987333e-18\nstd    1.000562e+00  1.000562e+00\nmin   -2.224156e+00 -6.484217e-01\n25%   -5.657365e-01 -4.891482e-01\n50%   -1.046374e-01 -3.573909e-01\n75%    4.333115e-01 -2.424635e-02\nmax    3.891554e+00  9.667167e+00",
      "text/html": "<div>\n<style scoped>\n    .dataframe tbody tr th:only-of-type {\n        vertical-align: middle;\n    }\n\n    .dataframe tbody tr th {\n        vertical-align: top;\n    }\n\n    .dataframe thead th {\n        text-align: right;\n    }\n</style>\n<table border=\"1\" class=\"dataframe\">\n  <thead>\n    <tr style=\"text-align: right;\">\n      <th></th>\n      <th>Age</th>\n      <th>Fare</th>\n    </tr>\n  </thead>\n  <tbody>\n    <tr>\n      <th>count</th>\n      <td>8.910000e+02</td>\n      <td>8.910000e+02</td>\n    </tr>\n    <tr>\n      <th>mean</th>\n      <td>2.272780e-16</td>\n      <td>3.987333e-18</td>\n    </tr>\n    <tr>\n      <th>std</th>\n      <td>1.000562e+00</td>\n      <td>1.000562e+00</td>\n    </tr>\n    <tr>\n      <th>min</th>\n      <td>-2.224156e+00</td>\n      <td>-6.484217e-01</td>\n    </tr>\n    <tr>\n      <th>25%</th>\n      <td>-5.657365e-01</td>\n      <td>-4.891482e-01</td>\n    </tr>\n    <tr>\n      <th>50%</th>\n      <td>-1.046374e-01</td>\n      <td>-3.573909e-01</td>\n    </tr>\n    <tr>\n      <th>75%</th>\n      <td>4.333115e-01</td>\n      <td>-2.424635e-02</td>\n    </tr>\n    <tr>\n      <th>max</th>\n      <td>3.891554e+00</td>\n      <td>9.667167e+00</td>\n    </tr>\n  </tbody>\n</table>\n</div>"
     },
     "execution_count": 13,
     "metadata": {},
     "output_type": "execute_result"
    }
   ],
   "source": [
    "train_data[['Age', 'Fare']].describe()"
   ],
   "metadata": {
    "collapsed": false,
    "ExecuteTime": {
     "end_time": "2023-10-26T01:18:19.891893800Z",
     "start_time": "2023-10-26T01:18:19.712770300Z"
    }
   }
  },
  {
   "cell_type": "markdown",
   "source": [
    "\n",
    "Estos son solo algunos pasos básicos para el preprocesamiento de datos. Dependiendo de la naturaleza de los datos y el modelo que elijas, es posible que necesites realizar más transformaciones.\n"
   ],
   "metadata": {
    "collapsed": false
   }
  },
  {
   "cell_type": "markdown",
   "source": [
    "### 3. Construcción del Modelo:\n",
    "\n",
    "**a. Dividir el conjunto de entrenamiento:**\n",
    "Antes de entrenar el modelo, es una buena práctica dividir el conjunto de entrenamiento en subconjuntos de entrenamiento y validación. Esto nos permite evaluar el rendimiento del modelo antes de hacer predicciones en el conjunto de prueba.\n",
    "\n",
    "```python\n",
    "from sklearn.model_selection import train_test_split\n",
    "\n",
    "# Definir las características y la variable objetivo\n",
    "X = train_data.drop(['Survived', 'PassengerId', 'Name', 'Ticket', 'Cabin'], axis=1)\n",
    "y = train_data['Survived']\n",
    "\n",
    "# Dividir los datos\n",
    "X_train, X_val, y_train, y_val = train_test_split(X, y, test_size=0.2, random_state=42)\n",
    "```"
   ],
   "metadata": {
    "collapsed": false
   }
  },
  {
   "cell_type": "code",
   "execution_count": 14,
   "outputs": [],
   "source": [
    "from sklearn.model_selection import train_test_split\n",
    "\n",
    "# Definir las características y la variable objetivo\n",
    "X = train_data.drop(['Survived', 'PassengerId', 'Name', 'Ticket', 'Cabin'], axis=1)\n",
    "y = train_data['Survived']\n",
    "\n",
    "# Dividir los datos\n",
    "X_train, X_val, y_train, y_val = train_test_split(X, y, test_size=0.2, random_state=42)"
   ],
   "metadata": {
    "collapsed": false,
    "ExecuteTime": {
     "end_time": "2023-10-26T01:18:20.823088300Z",
     "start_time": "2023-10-26T01:18:19.782971900Z"
    }
   }
  },
  {
   "cell_type": "markdown",
   "source": [
    "\n",
    "**b. Seleccionar y entrenar un modelo inicial:**\n",
    "Como punto de partida, podemos usar la Regresión Logística, que es un modelo simple pero efectivo para problemas de clasificación binaria. Comenzaremos desarrollando un modelos lineal y ajustando los resultados en el intervalo adecuado. "
   ],
   "metadata": {
    "collapsed": false
   }
  },
  {
   "cell_type": "code",
   "execution_count": 15,
   "outputs": [
    {
     "name": "stdout",
     "output_type": "stream",
     "text": [
      "0.2851455248860693\n",
      "0.135074012314622\n",
      "0.44299788564056586\n"
     ]
    }
   ],
   "source": [
    "from sklearn.linear_model import LinearRegression\n",
    "from sklearn.metrics import mean_absolute_error, mean_squared_error, r2_score\n",
    "\n",
    "# Inicializar y entrenar el modelo\n",
    "model = LinearRegression()\n",
    "model.fit(X_train, y_train)\n",
    "\n",
    "# Hacer predicciones en el conjunto de validación\n",
    "y_pred = model.predict(X_val)\n",
    "\n",
    "# Evaluar el rendimiento\n",
    "print(mean_absolute_error(y_val, y_pred))\n",
    "print(mean_squared_error(y_val, y_pred))\n",
    "print(r2_score(y_val, y_pred))"
   ],
   "metadata": {
    "collapsed": false,
    "ExecuteTime": {
     "end_time": "2023-10-26T01:18:21.059229Z",
     "start_time": "2023-10-26T01:18:20.271682700Z"
    }
   }
  },
  {
   "cell_type": "markdown",
   "source": [
    "\n",
    "```python\n",
    "from sklearn.linear_model import LogisticRegression\n",
    "from sklearn.metrics import accuracy_score\n",
    "\n",
    "# Inicializar y entrenar el modelo\n",
    "model = LogisticRegression()\n",
    "model.fit(X_train, y_train)\n",
    "\n",
    "# Hacer predicciones en el conjunto de validación\n",
    "y_pred = model.predict(X_val)\n",
    "\n",
    "# Evaluar el rendimiento\n",
    "accuracy = accuracy_score(y_val, y_pred)\n",
    "print(f\"Accuracy: {accuracy:.4f}\")\n",
    "```"
   ],
   "metadata": {
    "collapsed": false
   }
  },
  {
   "cell_type": "code",
   "execution_count": 16,
   "outputs": [
    {
     "name": "stdout",
     "output_type": "stream",
     "text": [
      "Accuracy: 0.8101\n"
     ]
    }
   ],
   "source": [
    "from sklearn.linear_model import LogisticRegression\n",
    "from sklearn.metrics import accuracy_score\n",
    "\n",
    "# Inicializar y entrenar el modelo\n",
    "model = LogisticRegression()\n",
    "model.fit(X_train, y_train)\n",
    "\n",
    "# Hacer predicciones en el conjunto de validación\n",
    "y_pred = model.predict(X_val)\n",
    "\n",
    "# Evaluar el rendimiento\n",
    "accuracy = accuracy_score(y_val, y_pred)\n",
    "print(f\"Accuracy: {accuracy:.4f}\")"
   ],
   "metadata": {
    "collapsed": false,
    "ExecuteTime": {
     "end_time": "2023-10-26T01:18:21.265600100Z",
     "start_time": "2023-10-26T01:18:20.798371100Z"
    }
   }
  },
  {
   "cell_type": "markdown",
   "source": [
    "\n",
    "**c. Evaluar el rendimiento del modelo:**\n",
    "Es esencial evaluar cómo se desempeña el modelo en datos no vistos. Además de la precisión, hay otras métricas que pueden ser relevantes, como el recall, la precisión y el AUC-ROC.\n",
    "\n",
    "```python\n",
    "from sklearn.metrics import classification_report\n",
    "\n",
    "print(classification_report(y_val, y_pred))\n",
    "```"
   ],
   "metadata": {
    "collapsed": false
   }
  },
  {
   "cell_type": "markdown",
   "source": [
    "El `classification_report` de `sklearn.metrics` proporciona las principales métricas de clasificación para evaluar el rendimiento de un clasificador. Estas métricas incluyen:\n",
    "\n",
    "1. **Precision (Precisión):** Esta métrica nos dice cuántos de los elementos identificados como positivos fueron realmente positivos. Es el cociente entre los verdaderos positivos y la suma de los verdaderos positivos y falsos positivos.\n",
    "   \n",
    "   $ \\text{Precisión} = \\frac{\\text{Verdaderos Positivos}}{\\text{Verdaderos Positivos} + \\text{Falsos Positivos}} $\n",
    "\n",
    "2. **Recall (Sensibilidad o Tasa Verdadera Positiva):** Esta métrica nos dice cuántos de los elementos que realmente eran positivos fueron identificados como tales. Es el cociente entre los verdaderos positivos y la suma de los verdaderos positivos y falsos negativos.\n",
    "   \n",
    "   $ \\text{Recall} = \\frac{\\text{Verdaderos Positivos}}{\\text{Verdaderos Positivos} + \\text{Falsos Negativos}} $\n",
    "\n",
    "3. **F1-score (Puntaje F1):** Es una métrica que combina la precisión y el recall en una única cifra. Es útil cuando se quiere tener un balance entre la precisión y el recall. El F1-score es la media armónica de la precisión y el recall.\n",
    "   \n",
    "    \\text{F1-score} = 2 \\times \\frac{\\text{Precisión} \\times \\text{Recall}}{\\text{Precisión} + \\text{Recall}} $\n",
    "\n",
    "4. **Support (Soporte):** Indica la cantidad de observaciones reales para cada clase en el conjunto de datos de prueba.\n",
    "\n",
    "El reporte también proporciona estas métricas para cada clase individualmente y promedios (macro, ponderado) para problemas de clasificación multiclase.\n",
    "\n",
    "Un ejemplo de cómo se vería este reporte es:\n",
    "\n",
    "```\n",
    "              precision    recall  f1-score   support\n",
    "\n",
    "      Clase1       0.89      0.85      0.87       100\n",
    "      Clase2       0.80      0.84      0.82        80\n",
    "\n",
    "   micro avg       0.85      0.85      0.85       180\n",
    "   macro avg       0.84      0.85      0.84       180\n",
    "weighted avg       0.85      0.85      0.85       180\n",
    "```\n",
    "\n",
    "Donde:\n",
    "\n",
    "- **micro avg**: Calcula las métricas globalmente contando el total de verdaderos positivos, falsos negativos y falsos positivos.\n",
    "- **macro avg**: Calcula las métricas para cada etiqueta y encuentra su media no ponderada (sin tener en cuenta el soporte).\n",
    "- **weighted avg**: Calcula las métricas para cada etiqueta y encuentra su media ponderada por soporte.\n",
    "\n",
    "Este reporte te permite obtener rápidamente una visión general del rendimiento de tu clasificador, y entender mejor cómo se comporta en diferentes clases y en general."
   ],
   "metadata": {
    "collapsed": false
   }
  },
  {
   "cell_type": "code",
   "execution_count": 17,
   "outputs": [
    {
     "name": "stdout",
     "output_type": "stream",
     "text": [
      "              precision    recall  f1-score   support\n",
      "\n",
      "           0       0.83      0.86      0.84       105\n",
      "           1       0.79      0.74      0.76        74\n",
      "\n",
      "    accuracy                           0.81       179\n",
      "   macro avg       0.81      0.80      0.80       179\n",
      "weighted avg       0.81      0.81      0.81       179\n",
      "\n"
     ]
    }
   ],
   "source": [
    "from sklearn.metrics import classification_report\n",
    "\n",
    "print(classification_report(y_val, y_pred))"
   ],
   "metadata": {
    "collapsed": false,
    "ExecuteTime": {
     "end_time": "2023-10-26T01:18:21.360693800Z",
     "start_time": "2023-10-26T01:18:20.924105900Z"
    }
   }
  },
  {
   "cell_type": "markdown",
   "source": [
    "\n",
    "Estos pasos te proporcionan un modelo inicial y una evaluación básica de su rendimiento. A partir de aquí, puedes experimentar con diferentes modelos, ajustar hiperparámetros y realizar ingeniería de características adicional para mejorar el rendimiento."
   ],
   "metadata": {
    "collapsed": false
   }
  },
  {
   "cell_type": "markdown",
   "source": [
    "\n",
    "### 4. Optimización:\n",
    "\n",
    "**a. Ajuste de hiperparámetros:**\n",
    "El ajuste de hiperparámetros puede mejorar significativamente el rendimiento de un modelo. Una técnica común es la búsqueda en cuadrícula.\n",
    "\n",
    "```python\n",
    "from sklearn.model_selection import GridSearchCV\n",
    "\n",
    "# Definir los hiperparámetros y sus posibles valores\n",
    "param_grid = {\n",
    "    'C': [0.001, 0.01, 0.1, 1, 10, 100],\n",
    "    'penalty': ['l1', 'l2']\n",
    "}\n",
    "\n",
    "# Inicializar la búsqueda en cuadrícula\n",
    "grid_search = GridSearchCV(LogisticRegression(), param_grid, cv=5, scoring='accuracy')\n",
    "\n",
    "# Ajustar el modelo con los datos de entrenamiento\n",
    "grid_search.fit(X_train, y_train)\n",
    "\n",
    "# Ver los mejores hiperparámetros\n",
    "print(\"Mejores hiperparámetros:\", grid_search.best_params_)\n",
    "\n",
    "# Evaluar el modelo con los mejores hiperparámetros en el conjunto de validación\n",
    "best_model = grid_search.best_estimator_\n",
    "y_pred = best_model.predict(X_val)\n",
    "accuracy = accuracy_score(y_val, y_pred)\n",
    "print(f\"Accuracy con los mejores hiperparámetros: {accuracy:.4f}\")\n",
    "```"
   ],
   "metadata": {
    "collapsed": false
   }
  },
  {
   "cell_type": "code",
   "execution_count": 18,
   "outputs": [
    {
     "name": "stdout",
     "output_type": "stream",
     "text": [
      "Mejores hiperparámetros: {'C': 0.1}\n"
     ]
    }
   ],
   "source": [
    "from sklearn.model_selection import GridSearchCV\n",
    "\n",
    "# Definir los hiperparámetros y sus posibles valores\n",
    "param_grid = {\n",
    "    'C': [0.001, 0.01, 0.1, 1, 10, 100]\n",
    "}\n",
    "\n",
    "# Inicializar la búsqueda en cuadrícula\n",
    "grid_search = GridSearchCV(LogisticRegression(), param_grid, cv=5, scoring='accuracy')\n",
    "\n",
    "# Ajustar el modelo con los datos de entrenamiento\n",
    "grid_search.fit(X_train, y_train)\n",
    "\n",
    "# Ver los mejores hiperparámetros\n",
    "print(\"Mejores hiperparámetros:\", grid_search.best_params_)"
   ],
   "metadata": {
    "collapsed": false,
    "ExecuteTime": {
     "end_time": "2023-10-26T01:18:22.747188400Z",
     "start_time": "2023-10-26T01:18:20.968649800Z"
    }
   }
  },
  {
   "cell_type": "code",
   "execution_count": 19,
   "outputs": [
    {
     "name": "stdout",
     "output_type": "stream",
     "text": [
      "Accuracy con los mejores hiperparámetros: 0.7989\n"
     ]
    }
   ],
   "source": [
    "\n",
    "# Evaluar el modelo con los mejores hiperparámetros en el conjunto de validación\n",
    "best_model = grid_search.best_estimator_\n",
    "y_pred = best_model.predict(X_val)\n",
    "accuracy = accuracy_score(y_val, y_pred)\n",
    "print(f\"Accuracy con los mejores hiperparámetros: {accuracy:.4f}\")"
   ],
   "metadata": {
    "collapsed": false,
    "ExecuteTime": {
     "end_time": "2023-10-26T01:18:23.116793100Z",
     "start_time": "2023-10-26T01:18:22.745681300Z"
    }
   }
  },
  {
   "cell_type": "markdown",
   "source": [
    "\n",
    "**b. Probar diferentes modelos:**\n",
    "No te limites a un solo modelo. Es posible que otros modelos, como los árboles de decisión, bosques aleatorios o máquinas de soporte vectorial, funcionen mejor para tu conjunto de datos.\n",
    "\n",
    "```python\n",
    "from sklearn.ensemble import RandomForestClassifier\n",
    "\n",
    "# Entrenar un modelo de bosque aleatorio\n",
    "rf_model = RandomForestClassifier(n_estimators=100, random_state=42)\n",
    "rf_model.fit(X_train, y_train)\n",
    "\n",
    "# Evaluar el rendimiento\n",
    "y_pred = rf_model.predict(X_val)\n",
    "accuracy = accuracy_score(y_val, y_pred)\n",
    "print(f\"Accuracy del bosque aleatorio: {accuracy:.4f}\")\n",
    "```"
   ],
   "metadata": {
    "collapsed": false
   }
  },
  {
   "cell_type": "code",
   "execution_count": 20,
   "outputs": [
    {
     "name": "stdout",
     "output_type": "stream",
     "text": [
      "Accuracy del bosque aleatorio: 0.8212\n"
     ]
    }
   ],
   "source": [
    "from sklearn.ensemble import RandomForestClassifier\n",
    "\n",
    "# Entrenar un modelo de bosque aleatorio\n",
    "rf_model = RandomForestClassifier(n_estimators=100, random_state=42)\n",
    "rf_model.fit(X_train, y_train)\n",
    "\n",
    "# Evaluar el rendimiento\n",
    "y_pred = rf_model.predict(X_val)\n",
    "accuracy = accuracy_score(y_val, y_pred)\n",
    "print(f\"Accuracy del bosque aleatorio: {accuracy:.4f}\")"
   ],
   "metadata": {
    "collapsed": false,
    "ExecuteTime": {
     "end_time": "2023-10-26T01:18:24.095745600Z",
     "start_time": "2023-10-26T01:18:22.791124700Z"
    }
   }
  },
  {
   "cell_type": "markdown",
   "source": [
    "\n",
    "**c. Ensamblar modelos:**\n",
    "A veces, combinar las predicciones de varios modelos (ensamblaje) puede mejorar el rendimiento general.\n",
    "\n",
    "```python\n",
    "# Hacer predicciones con ambos modelos\n",
    "y_pred_logistic = best_model.predict(X_val)\n",
    "y_pred_rf = rf_model.predict(X_val)\n",
    "\n",
    "# Combinar las predicciones (votación mayoritaria)\n",
    "y_pred_ensemble = (y_pred_logistic + y_pred_rf) > 1\n",
    "\n",
    "accuracy = accuracy_score(y_val, y_pred_ensemble)\n",
    "print(f\"Accuracy del ensamblaje: {accuracy:.4f}\")\n",
    "```"
   ],
   "metadata": {
    "collapsed": false
   }
  },
  {
   "cell_type": "code",
   "execution_count": 21,
   "outputs": [
    {
     "name": "stdout",
     "output_type": "stream",
     "text": [
      "Accuracy del ensamblaje: 0.8101\n"
     ]
    }
   ],
   "source": [
    "# Hacer predicciones con ambos modelos\n",
    "y_pred_logistic = best_model.predict(X_val)\n",
    "y_pred_rf = rf_model.predict(X_val)\n",
    "\n",
    "# Combinar las predicciones (votación mayoritaria)\n",
    "y_pred_ensemble = (y_pred_logistic + y_pred_rf) > 1\n",
    "\n",
    "accuracy = accuracy_score(y_val, y_pred_ensemble)\n",
    "print(f\"Accuracy del ensamblaje: {accuracy:.4f}\")"
   ],
   "metadata": {
    "collapsed": false,
    "ExecuteTime": {
     "end_time": "2023-10-26T01:18:24.262619800Z",
     "start_time": "2023-10-26T01:18:24.098974600Z"
    }
   }
  },
  {
   "cell_type": "markdown",
   "source": [
    "\n",
    "Estos pasos te ayudarán a optimizar tu modelo y potencialmente mejorar su rendimiento. Una vez que estés satisfecho con el rendimiento del modelo, puedes entrenarlo con todo el conjunto de entrenamiento y hacer predicciones en el conjunto de prueba.\n"
   ],
   "metadata": {
    "collapsed": false
   }
  },
  {
   "cell_type": "markdown",
   "source": [
    "Avancemos con la **Evaluación Final** y la preparación del archivo de envío para Kaggle.\n",
    "\n",
    "### 5. Evaluación Final:\n",
    "\n",
    "**a. Entrenar el modelo final:**\n",
    "Una vez que hayas seleccionado y optimizado tu modelo, es hora de entrenarlo con todo el conjunto de entrenamiento para aprovechar al máximo los datos disponibles.\n",
    "\n",
    "```python\n",
    "# Usando el modelo de bosque aleatorio como ejemplo\n",
    "final_model = RandomForestClassifier(n_estimators=100, random_state=42)\n",
    "final_model.fit(X, y)\n",
    "```"
   ],
   "metadata": {
    "collapsed": false
   }
  },
  {
   "cell_type": "code",
   "execution_count": 22,
   "outputs": [
    {
     "data": {
      "text/plain": "RandomForestClassifier(random_state=42)",
      "text/html": "<style>#sk-container-id-2 {color: black;background-color: white;}#sk-container-id-2 pre{padding: 0;}#sk-container-id-2 div.sk-toggleable {background-color: white;}#sk-container-id-2 label.sk-toggleable__label {cursor: pointer;display: block;width: 100%;margin-bottom: 0;padding: 0.3em;box-sizing: border-box;text-align: center;}#sk-container-id-2 label.sk-toggleable__label-arrow:before {content: \"▸\";float: left;margin-right: 0.25em;color: #696969;}#sk-container-id-2 label.sk-toggleable__label-arrow:hover:before {color: black;}#sk-container-id-2 div.sk-estimator:hover label.sk-toggleable__label-arrow:before {color: black;}#sk-container-id-2 div.sk-toggleable__content {max-height: 0;max-width: 0;overflow: hidden;text-align: left;background-color: #f0f8ff;}#sk-container-id-2 div.sk-toggleable__content pre {margin: 0.2em;color: black;border-radius: 0.25em;background-color: #f0f8ff;}#sk-container-id-2 input.sk-toggleable__control:checked~div.sk-toggleable__content {max-height: 200px;max-width: 100%;overflow: auto;}#sk-container-id-2 input.sk-toggleable__control:checked~label.sk-toggleable__label-arrow:before {content: \"▾\";}#sk-container-id-2 div.sk-estimator input.sk-toggleable__control:checked~label.sk-toggleable__label {background-color: #d4ebff;}#sk-container-id-2 div.sk-label input.sk-toggleable__control:checked~label.sk-toggleable__label {background-color: #d4ebff;}#sk-container-id-2 input.sk-hidden--visually {border: 0;clip: rect(1px 1px 1px 1px);clip: rect(1px, 1px, 1px, 1px);height: 1px;margin: -1px;overflow: hidden;padding: 0;position: absolute;width: 1px;}#sk-container-id-2 div.sk-estimator {font-family: monospace;background-color: #f0f8ff;border: 1px dotted black;border-radius: 0.25em;box-sizing: border-box;margin-bottom: 0.5em;}#sk-container-id-2 div.sk-estimator:hover {background-color: #d4ebff;}#sk-container-id-2 div.sk-parallel-item::after {content: \"\";width: 100%;border-bottom: 1px solid gray;flex-grow: 1;}#sk-container-id-2 div.sk-label:hover label.sk-toggleable__label {background-color: #d4ebff;}#sk-container-id-2 div.sk-serial::before {content: \"\";position: absolute;border-left: 1px solid gray;box-sizing: border-box;top: 0;bottom: 0;left: 50%;z-index: 0;}#sk-container-id-2 div.sk-serial {display: flex;flex-direction: column;align-items: center;background-color: white;padding-right: 0.2em;padding-left: 0.2em;position: relative;}#sk-container-id-2 div.sk-item {position: relative;z-index: 1;}#sk-container-id-2 div.sk-parallel {display: flex;align-items: stretch;justify-content: center;background-color: white;position: relative;}#sk-container-id-2 div.sk-item::before, #sk-container-id-2 div.sk-parallel-item::before {content: \"\";position: absolute;border-left: 1px solid gray;box-sizing: border-box;top: 0;bottom: 0;left: 50%;z-index: -1;}#sk-container-id-2 div.sk-parallel-item {display: flex;flex-direction: column;z-index: 1;position: relative;background-color: white;}#sk-container-id-2 div.sk-parallel-item:first-child::after {align-self: flex-end;width: 50%;}#sk-container-id-2 div.sk-parallel-item:last-child::after {align-self: flex-start;width: 50%;}#sk-container-id-2 div.sk-parallel-item:only-child::after {width: 0;}#sk-container-id-2 div.sk-dashed-wrapped {border: 1px dashed gray;margin: 0 0.4em 0.5em 0.4em;box-sizing: border-box;padding-bottom: 0.4em;background-color: white;}#sk-container-id-2 div.sk-label label {font-family: monospace;font-weight: bold;display: inline-block;line-height: 1.2em;}#sk-container-id-2 div.sk-label-container {text-align: center;}#sk-container-id-2 div.sk-container {/* jupyter's `normalize.less` sets `[hidden] { display: none; }` but bootstrap.min.css set `[hidden] { display: none !important; }` so we also need the `!important` here to be able to override the default hidden behavior on the sphinx rendered scikit-learn.org. See: https://github.com/scikit-learn/scikit-learn/issues/21755 */display: inline-block !important;position: relative;}#sk-container-id-2 div.sk-text-repr-fallback {display: none;}</style><div id=\"sk-container-id-2\" class=\"sk-top-container\"><div class=\"sk-text-repr-fallback\"><pre>RandomForestClassifier(random_state=42)</pre><b>In a Jupyter environment, please rerun this cell to show the HTML representation or trust the notebook. <br />On GitHub, the HTML representation is unable to render, please try loading this page with nbviewer.org.</b></div><div class=\"sk-container\" hidden><div class=\"sk-item\"><div class=\"sk-estimator sk-toggleable\"><input class=\"sk-toggleable__control sk-hidden--visually\" id=\"sk-estimator-id-2\" type=\"checkbox\" checked><label for=\"sk-estimator-id-2\" class=\"sk-toggleable__label sk-toggleable__label-arrow\">RandomForestClassifier</label><div class=\"sk-toggleable__content\"><pre>RandomForestClassifier(random_state=42)</pre></div></div></div></div></div>"
     },
     "execution_count": 22,
     "metadata": {},
     "output_type": "execute_result"
    }
   ],
   "source": [
    "# Usando el modelo de bosque aleatorio como ejemplo\n",
    "final_model = RandomForestClassifier(n_estimators=100, random_state=42)\n",
    "final_model.fit(X, y)"
   ],
   "metadata": {
    "collapsed": false,
    "ExecuteTime": {
     "end_time": "2023-10-26T01:18:24.787194400Z",
     "start_time": "2023-10-26T01:18:24.148452200Z"
    }
   }
  },
  {
   "cell_type": "markdown",
   "source": [
    "\n",
    "**b. Predecir las etiquetas para el conjunto de datos de prueba:**\n",
    "Antes de hacer predicciones, asegúrate de que el conjunto de datos de prueba haya pasado por el mismo preprocesamiento que el conjunto de entrenamiento.\n",
    "\n",
    "```python\n",
    "# Preprocesar el conjunto de datos de prueba (asegúrate de aplicar las mismas transformaciones)\n",
    "test_data['Age'].fillna(test_data['Age'].median(), inplace=True)\n",
    "test_data['Sex'] = test_data['Sex'].map({'female': 0, 'male': 1}).astype(int)\n",
    "test_data[['Age', 'Fare']] = scaler.transform(test_data[['Age', 'Fare']])\n",
    "\n",
    "# Hacer predicciones\n",
    "test_predictions = final_model.predict(test_data.drop(['PassengerId', 'Name', 'Ticket', 'Cabin'], axis=1))\n",
    "```"
   ],
   "metadata": {
    "collapsed": false
   }
  },
  {
   "cell_type": "code",
   "execution_count": 23,
   "outputs": [],
   "source": [
    "# Preprocesar el conjunto de datos de prueba\n",
    "passenger_ids = test_data['PassengerId']\n",
    "test_data.drop(['PassengerId', 'Name', 'Ticket', 'Cabin'], axis=1, inplace=True)\n",
    "# Rellenar valores faltantes\n",
    "test_data['Age'].fillna(test_data['Age'].median(), inplace=True)\n",
    "\n",
    "# Convertir género a formato numérico\n",
    "test_data['Sex'] = test_data['Sex'].map({'female': 0, 'male': 1}).astype(int)\n",
    "\n",
    "# Codificación One-Hot para 'Embarked'\n",
    "embarked_dummies_test = pd.get_dummies(test_data['Embarked'], prefix='Embarked')\n",
    "test_data = pd.concat([test_data, embarked_dummies_test], axis=1)\n",
    "test_data.drop('Embarked', axis=1, inplace=True)\n",
    "\n",
    "# Crear la característica 'FamilySize'\n",
    "test_data['FamilySize'] = test_data['SibSp'] + test_data['Parch'] + 1\n",
    "\n",
    "# Escalar características\n",
    "test_data[['Age', 'Fare']] = scaler.transform(test_data[['Age', 'Fare']])"
   ],
   "metadata": {
    "collapsed": false,
    "ExecuteTime": {
     "end_time": "2023-10-26T01:18:24.857841Z",
     "start_time": "2023-10-26T01:18:24.788208200Z"
    }
   }
  },
  {
   "cell_type": "code",
   "execution_count": 24,
   "outputs": [
    {
     "data": {
      "text/plain": "Pclass        0\nSex           0\nAge           0\nSibSp         0\nParch         0\nFare          1\nEmbarked_C    0\nEmbarked_Q    0\nEmbarked_S    0\nFamilySize    0\ndtype: int64"
     },
     "execution_count": 24,
     "metadata": {},
     "output_type": "execute_result"
    }
   ],
   "source": [
    "test_data.isnull().sum()"
   ],
   "metadata": {
    "collapsed": false,
    "ExecuteTime": {
     "end_time": "2023-10-26T01:18:24.989966500Z",
     "start_time": "2023-10-26T01:18:24.841630400Z"
    }
   }
  },
  {
   "cell_type": "code",
   "execution_count": 25,
   "outputs": [
    {
     "data": {
      "text/plain": "0"
     },
     "execution_count": 25,
     "metadata": {},
     "output_type": "execute_result"
    }
   ],
   "source": [
    "test_data['Fare'].fillna(test_data['Fare'].median(), inplace=True)\n",
    "test_data['Fare'].isnull().sum()"
   ],
   "metadata": {
    "collapsed": false,
    "ExecuteTime": {
     "end_time": "2023-10-26T01:18:25.223282800Z",
     "start_time": "2023-10-26T01:18:24.877618600Z"
    }
   }
  },
  {
   "cell_type": "code",
   "execution_count": 26,
   "outputs": [],
   "source": [
    "\n",
    "# Hacer predicciones\n",
    "test_predictions = final_model.predict(test_data)\n"
   ],
   "metadata": {
    "collapsed": false,
    "ExecuteTime": {
     "end_time": "2023-10-26T01:18:25.283528Z",
     "start_time": "2023-10-26T01:18:24.934455100Z"
    }
   }
  },
  {
   "cell_type": "markdown",
   "source": [
    "\n",
    "**c. Preparar un archivo de envío para Kaggle:**\n",
    "Kaggle generalmente requiere que envíes tus predicciones en un formato específico. Para la competencia del Titanic, necesitas un archivo CSV con dos columnas: `PassengerId` y `Survived`.\n",
    "\n",
    "```python\n",
    "# Crear un DataFrame para el envío\n",
    "submission = pd.DataFrame({\n",
    "    'PassengerId': test_data['PassengerId'],\n",
    "    'Survived': test_predictions\n",
    "})\n",
    "\n",
    "# Guardar el DataFrame como un archivo CSV\n",
    "submission.to_csv('submission.csv', index=False)\n",
    "```"
   ],
   "metadata": {
    "collapsed": false
   }
  },
  {
   "cell_type": "code",
   "execution_count": 27,
   "outputs": [
    {
     "data": {
      "text/plain": "   PassengerId  Survived\n0          892         0\n1          893         0\n2          894         0\n3          895         1\n4          896         0",
      "text/html": "<div>\n<style scoped>\n    .dataframe tbody tr th:only-of-type {\n        vertical-align: middle;\n    }\n\n    .dataframe tbody tr th {\n        vertical-align: top;\n    }\n\n    .dataframe thead th {\n        text-align: right;\n    }\n</style>\n<table border=\"1\" class=\"dataframe\">\n  <thead>\n    <tr style=\"text-align: right;\">\n      <th></th>\n      <th>PassengerId</th>\n      <th>Survived</th>\n    </tr>\n  </thead>\n  <tbody>\n    <tr>\n      <th>0</th>\n      <td>892</td>\n      <td>0</td>\n    </tr>\n    <tr>\n      <th>1</th>\n      <td>893</td>\n      <td>0</td>\n    </tr>\n    <tr>\n      <th>2</th>\n      <td>894</td>\n      <td>0</td>\n    </tr>\n    <tr>\n      <th>3</th>\n      <td>895</td>\n      <td>1</td>\n    </tr>\n    <tr>\n      <th>4</th>\n      <td>896</td>\n      <td>0</td>\n    </tr>\n  </tbody>\n</table>\n</div>"
     },
     "execution_count": 27,
     "metadata": {},
     "output_type": "execute_result"
    }
   ],
   "source": [
    "# Crear un DataFrame para el envío\n",
    "submission = pd.DataFrame({\n",
    "    'PassengerId': passenger_ids,\n",
    "    'Survived': test_predictions\n",
    "})\n",
    "\n",
    "submission.head()"
   ],
   "metadata": {
    "collapsed": false,
    "ExecuteTime": {
     "end_time": "2023-10-26T01:18:25.286528500Z",
     "start_time": "2023-10-26T01:18:24.994970700Z"
    }
   }
  },
  {
   "cell_type": "code",
   "execution_count": 28,
   "outputs": [],
   "source": [
    "# Guardar el DataFrame como un archivo CSV\n",
    "submission.to_csv('submission.csv', index=False)"
   ],
   "metadata": {
    "collapsed": false,
    "ExecuteTime": {
     "end_time": "2023-10-26T01:18:25.365569600Z",
     "start_time": "2023-10-26T01:18:25.042551300Z"
    }
   }
  },
  {
   "cell_type": "markdown",
   "source": [
    "\n",
    "¡Listo! Ahora tienes un archivo `submission.csv` que puedes enviar a Kaggle y ver cómo se desempeña tu modelo en el conjunto de datos de prueba.\n",
    "\n",
    "Es importante recordar que la competencia del Titanic en Kaggle es una excelente oportunidad para aprender y experimentar. No te desanimes si tu modelo no se encuentra en la parte superior de la tabla de clasificación. Lo más importante es el proceso de aprendizaje y la experiencia adquirida.\n"
   ],
   "metadata": {
    "collapsed": false
   }
  }
 ],
 "metadata": {
  "kernelspec": {
   "display_name": "Python 3",
   "language": "python",
   "name": "python3"
  },
  "language_info": {
   "codemirror_mode": {
    "name": "ipython",
    "version": 2
   },
   "file_extension": ".py",
   "mimetype": "text/x-python",
   "name": "python",
   "nbconvert_exporter": "python",
   "pygments_lexer": "ipython2",
   "version": "2.7.6"
  }
 },
 "nbformat": 4,
 "nbformat_minor": 0
}
