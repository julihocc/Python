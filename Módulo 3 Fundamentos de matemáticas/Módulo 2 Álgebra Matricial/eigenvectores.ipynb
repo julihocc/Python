{
 "cells": [
  {
   "cell_type": "markdown",
   "source": [
    "## Eigenvalores y eigenvectores "
   ],
   "metadata": {
    "collapsed": false
   }
  },
  {
   "cell_type": "code",
   "execution_count": 27,
   "outputs": [],
   "source": [
    "import numpy as np \n",
    "np.random.seed(123)"
   ],
   "metadata": {
    "collapsed": false,
    "ExecuteTime": {
     "end_time": "2023-11-04T17:05:57.394445500Z",
     "start_time": "2023-11-04T17:05:56.258612700Z"
    }
   }
  },
  {
   "cell_type": "code",
   "execution_count": 28,
   "outputs": [],
   "source": [
    "sol = np.array([2,0,-1]).reshape(3,1)"
   ],
   "metadata": {
    "collapsed": false,
    "ExecuteTime": {
     "end_time": "2023-11-04T17:05:57.399461800Z",
     "start_time": "2023-11-04T17:05:56.324260900Z"
    }
   }
  },
  {
   "cell_type": "code",
   "execution_count": 29,
   "outputs": [
    {
     "data": {
      "text/plain": "array([2, 2, 6])"
     },
     "execution_count": 29,
     "metadata": {},
     "output_type": "execute_result"
    }
   ],
   "source": [
    "r1 = np.random.randint(10,size=3)\n",
    "r1"
   ],
   "metadata": {
    "collapsed": false,
    "ExecuteTime": {
     "end_time": "2023-11-04T17:05:57.402453800Z",
     "start_time": "2023-11-04T17:05:56.346174300Z"
    }
   }
  },
  {
   "cell_type": "code",
   "execution_count": 30,
   "outputs": [
    {
     "data": {
      "text/plain": "array([1, 3, 9])"
     },
     "execution_count": 30,
     "metadata": {},
     "output_type": "execute_result"
    }
   ],
   "source": [
    "r2 = np.random.randint(10,size=3)\n",
    "r2"
   ],
   "metadata": {
    "collapsed": false,
    "ExecuteTime": {
     "end_time": "2023-11-04T17:05:57.403467100Z",
     "start_time": "2023-11-04T17:05:56.376544100Z"
    }
   }
  },
  {
   "cell_type": "code",
   "execution_count": 31,
   "outputs": [
    {
     "data": {
      "text/plain": "(6, 1, array([13, 15, 45]))"
     },
     "execution_count": 31,
     "metadata": {},
     "output_type": "execute_result"
    }
   ],
   "source": [
    "a, b = np.random.randint(10, size=2)\n",
    "r3 = a*r1+b*r2\n",
    "a,b,r3"
   ],
   "metadata": {
    "collapsed": false,
    "ExecuteTime": {
     "end_time": "2023-11-04T17:05:57.409509900Z",
     "start_time": "2023-11-04T17:05:56.408592300Z"
    }
   }
  },
  {
   "cell_type": "code",
   "execution_count": 32,
   "outputs": [
    {
     "data": {
      "text/plain": "array([[ 2,  2,  6],\n       [ 1,  3,  9],\n       [13, 15, 45]])"
     },
     "execution_count": 32,
     "metadata": {},
     "output_type": "execute_result"
    }
   ],
   "source": [
    "A = np.vstack((r1,r2,r3))\n",
    "A"
   ],
   "metadata": {
    "collapsed": false,
    "ExecuteTime": {
     "end_time": "2023-11-04T17:05:57.411528Z",
     "start_time": "2023-11-04T17:05:56.448038100Z"
    }
   }
  },
  {
   "cell_type": "code",
   "execution_count": 33,
   "outputs": [
    {
     "data": {
      "text/plain": "(3, 3)"
     },
     "execution_count": 33,
     "metadata": {},
     "output_type": "execute_result"
    }
   ],
   "source": [
    "A.shape"
   ],
   "metadata": {
    "collapsed": false,
    "ExecuteTime": {
     "end_time": "2023-11-04T17:05:57.415022Z",
     "start_time": "2023-11-04T17:05:56.466332Z"
    }
   }
  },
  {
   "cell_type": "code",
   "execution_count": 34,
   "outputs": [
    {
     "data": {
      "text/plain": "array([[ -2],\n       [ -7],\n       [-19]])"
     },
     "execution_count": 34,
     "metadata": {},
     "output_type": "execute_result"
    }
   ],
   "source": [
    "B = A@sol \n",
    "B"
   ],
   "metadata": {
    "collapsed": false,
    "ExecuteTime": {
     "end_time": "2023-11-04T17:05:57.416034100Z",
     "start_time": "2023-11-04T17:05:56.478871600Z"
    }
   }
  },
  {
   "cell_type": "code",
   "execution_count": 35,
   "outputs": [
    {
     "data": {
      "text/plain": "(3, 1)"
     },
     "execution_count": 35,
     "metadata": {},
     "output_type": "execute_result"
    }
   ],
   "source": [
    "B.shape"
   ],
   "metadata": {
    "collapsed": false,
    "ExecuteTime": {
     "end_time": "2023-11-04T17:05:57.420045900Z",
     "start_time": "2023-11-04T17:05:56.499485100Z"
    }
   }
  },
  {
   "cell_type": "code",
   "execution_count": 36,
   "outputs": [
    {
     "data": {
      "text/plain": "array([[  2,   2,   6,  -2],\n       [  1,   3,   9,  -7],\n       [ 13,  15,  45, -19]])"
     },
     "execution_count": 36,
     "metadata": {},
     "output_type": "execute_result"
    }
   ],
   "source": [
    "S = np.hstack((A,B))\n",
    "S"
   ],
   "metadata": {
    "collapsed": false,
    "ExecuteTime": {
     "end_time": "2023-11-04T17:05:57.427619700Z",
     "start_time": "2023-11-04T17:05:56.517812300Z"
    }
   }
  },
  {
   "cell_type": "code",
   "execution_count": 37,
   "outputs": [
    {
     "data": {
      "text/plain": "Matrix([\n[ 2,  2,  6,  -2],\n[ 1,  3,  9,  -7],\n[13, 15, 45, -19]])",
      "text/latex": "$\\displaystyle \\left[\\begin{matrix}2 & 2 & 6 & -2\\\\1 & 3 & 9 & -7\\\\13 & 15 & 45 & -19\\end{matrix}\\right]$"
     },
     "execution_count": 37,
     "metadata": {},
     "output_type": "execute_result"
    }
   ],
   "source": [
    "from sympy import Matrix\n",
    "\n",
    "M = Matrix(S)\n",
    "M"
   ],
   "metadata": {
    "collapsed": false,
    "ExecuteTime": {
     "end_time": "2023-11-04T17:05:57.435728900Z",
     "start_time": "2023-11-04T17:05:56.526340200Z"
    }
   }
  },
  {
   "cell_type": "code",
   "execution_count": 38,
   "outputs": [
    {
     "data": {
      "text/plain": "(Matrix([\n [1, 0, 0,  2],\n [0, 1, 3, -3],\n [0, 0, 0,  0]]),\n (0, 1))"
     },
     "execution_count": 38,
     "metadata": {},
     "output_type": "execute_result"
    }
   ],
   "source": [
    "M_rref = M.rref()\n",
    "M_rref"
   ],
   "metadata": {
    "collapsed": false,
    "ExecuteTime": {
     "end_time": "2023-11-04T17:05:57.441718300Z",
     "start_time": "2023-11-04T17:05:56.604538200Z"
    }
   }
  },
  {
   "cell_type": "code",
   "execution_count": 39,
   "outputs": [
    {
     "data": {
      "text/plain": "array([[ 2],\n       [ 0],\n       [-1]])"
     },
     "execution_count": 39,
     "metadata": {},
     "output_type": "execute_result"
    }
   ],
   "source": [
    "def gen_sol(t):\n",
    "    return np.array([2, -3-3*t, t]).reshape(3,1)\n",
    "\n",
    "s0 = gen_sol(-1)\n",
    "s0"
   ],
   "metadata": {
    "collapsed": false,
    "ExecuteTime": {
     "end_time": "2023-11-04T17:05:57.448285800Z",
     "start_time": "2023-11-04T17:05:56.645241Z"
    }
   }
  },
  {
   "cell_type": "code",
   "execution_count": 40,
   "outputs": [
    {
     "data": {
      "text/plain": "array([[ -2],\n       [ -7],\n       [-19]])"
     },
     "execution_count": 40,
     "metadata": {},
     "output_type": "execute_result"
    }
   ],
   "source": [
    "A@s0"
   ],
   "metadata": {
    "collapsed": false,
    "ExecuteTime": {
     "end_time": "2023-11-04T17:05:57.451278500Z",
     "start_time": "2023-11-04T17:05:56.686237500Z"
    }
   }
  },
  {
   "cell_type": "code",
   "execution_count": 41,
   "outputs": [
    {
     "data": {
      "text/plain": "[Matrix([\n [ 0],\n [-3],\n [ 1]])]"
     },
     "execution_count": 41,
     "metadata": {},
     "output_type": "execute_result"
    }
   ],
   "source": [
    "Matrix(A).nullspace()"
   ],
   "metadata": {
    "collapsed": false,
    "ExecuteTime": {
     "end_time": "2023-11-04T17:05:57.453273Z",
     "start_time": "2023-11-04T17:05:56.704218300Z"
    }
   }
  },
  {
   "cell_type": "code",
   "execution_count": 42,
   "outputs": [
    {
     "data": {
      "text/plain": "Matrix([\n[0],\n[0],\n[0]])",
      "text/latex": "$\\displaystyle \\left[\\begin{matrix}0\\\\0\\\\0\\end{matrix}\\right]$"
     },
     "execution_count": 42,
     "metadata": {},
     "output_type": "execute_result"
    }
   ],
   "source": [
    "Matrix(A)*Matrix(A).nullspace()[0]"
   ],
   "metadata": {
    "collapsed": false,
    "ExecuteTime": {
     "end_time": "2023-11-04T17:05:57.457857800Z",
     "start_time": "2023-11-04T17:05:56.742911Z"
    }
   }
  },
  {
   "cell_type": "markdown",
   "source": [
    "### Autovalores y autovectores"
   ],
   "metadata": {
    "collapsed": false
   }
  },
  {
   "cell_type": "code",
   "execution_count": 43,
   "outputs": [
    {
     "data": {
      "text/plain": "{25 - sqrt(609): 1, sqrt(609) + 25: 1, 0: 1}"
     },
     "execution_count": 43,
     "metadata": {},
     "output_type": "execute_result"
    }
   ],
   "source": [
    "Matrix(A).eigenvals()"
   ],
   "metadata": {
    "collapsed": false,
    "ExecuteTime": {
     "end_time": "2023-11-04T17:05:57.469452200Z",
     "start_time": "2023-11-04T17:05:56.795782900Z"
    }
   }
  },
  {
   "cell_type": "code",
   "execution_count": 44,
   "outputs": [
    {
     "data": {
      "text/plain": "[(0,\n  1,\n  [Matrix([\n   [ 0],\n   [-3],\n   [ 1]])]),\n (25 - sqrt(609),\n  1,\n  [Matrix([\n   [    sqrt(609)/77 + 5/11],\n   [-6*sqrt(609)/77 - 19/11],\n   [                      1]])]),\n (sqrt(609) + 25,\n  1,\n  [Matrix([\n   [    5/11 - sqrt(609)/77],\n   [-19/11 + 6*sqrt(609)/77],\n   [                      1]])])]"
     },
     "execution_count": 44,
     "metadata": {},
     "output_type": "execute_result"
    }
   ],
   "source": [
    "Matrix(A).eigenvects()"
   ],
   "metadata": {
    "collapsed": false,
    "ExecuteTime": {
     "end_time": "2023-11-04T17:05:57.478032Z",
     "start_time": "2023-11-04T17:05:56.992383Z"
    }
   }
  },
  {
   "cell_type": "code",
   "execution_count": 45,
   "outputs": [
    {
     "data": {
      "text/plain": "Matrix([\n[ 0],\n[-3],\n[ 1]])",
      "text/latex": "$\\displaystyle \\left[\\begin{matrix}0\\\\-3\\\\1\\end{matrix}\\right]$"
     },
     "execution_count": 45,
     "metadata": {},
     "output_type": "execute_result"
    }
   ],
   "source": [
    "Matrix(A).eigenvects()[0][2][0]"
   ],
   "metadata": {
    "collapsed": false,
    "ExecuteTime": {
     "end_time": "2023-11-04T17:05:57.484568300Z",
     "start_time": "2023-11-04T17:05:57.064748300Z"
    }
   }
  },
  {
   "cell_type": "code",
   "execution_count": 46,
   "outputs": [],
   "source": [
    "### Utilizando Numpy\n",
    "\n",
    "eigval, eigvec = np.linalg.eig(A)"
   ],
   "metadata": {
    "collapsed": false,
    "ExecuteTime": {
     "end_time": "2023-11-04T17:05:57.503131600Z",
     "start_time": "2023-11-04T17:05:57.085740900Z"
    }
   }
  },
  {
   "cell_type": "code",
   "execution_count": 47,
   "outputs": [
    {
     "data": {
      "text/plain": "array([ 4.96779254e+01,  3.22074641e-01, -4.66468557e-17])"
     },
     "execution_count": 47,
     "metadata": {},
     "output_type": "execute_result"
    }
   ],
   "source": [
    "eigval"
   ],
   "metadata": {
    "collapsed": false,
    "ExecuteTime": {
     "end_time": "2023-11-04T17:05:57.511688700Z",
     "start_time": "2023-11-04T17:05:57.108673100Z"
    }
   }
  },
  {
   "cell_type": "code",
   "execution_count": 48,
   "outputs": [
    {
     "data": {
      "text/plain": "array([[-1.30433900e-01, -2.00617139e-01,  6.85866393e-17],\n       [-1.90399668e-01,  9.44854701e-01, -9.48683298e-01],\n       [-9.73003065e-01, -2.58848136e-01,  3.16227766e-01]])"
     },
     "execution_count": 48,
     "metadata": {},
     "output_type": "execute_result"
    }
   ],
   "source": [
    "eigvec"
   ],
   "metadata": {
    "collapsed": false,
    "ExecuteTime": {
     "end_time": "2023-11-04T17:05:57.534823600Z",
     "start_time": "2023-11-04T17:05:57.136421900Z"
    }
   }
  },
  {
   "cell_type": "code",
   "execution_count": 49,
   "outputs": [
    {
     "data": {
      "text/plain": "array([ 6.85866393e-17, -9.48683298e-01,  3.16227766e-01])"
     },
     "execution_count": 49,
     "metadata": {},
     "output_type": "execute_result"
    }
   ],
   "source": [
    "eigvec[:,2]"
   ],
   "metadata": {
    "collapsed": false,
    "ExecuteTime": {
     "end_time": "2023-11-04T17:05:57.538840200Z",
     "start_time": "2023-11-04T17:05:57.173354Z"
    }
   }
  },
  {
   "cell_type": "code",
   "execution_count": 50,
   "outputs": [
    {
     "data": {
      "text/plain": "0.31622776601683783"
     },
     "execution_count": 50,
     "metadata": {},
     "output_type": "execute_result"
    }
   ],
   "source": [
    "c = eigvec[:,2][2]\n",
    "c"
   ],
   "metadata": {
    "collapsed": false,
    "ExecuteTime": {
     "end_time": "2023-11-04T17:05:57.540833500Z",
     "start_time": "2023-11-04T17:05:57.209763400Z"
    }
   }
  },
  {
   "cell_type": "code",
   "execution_count": 51,
   "outputs": [
    {
     "data": {
      "text/plain": "array([ 2.16889997e-16, -3.00000000e+00,  1.00000000e+00])"
     },
     "execution_count": 51,
     "metadata": {},
     "output_type": "execute_result"
    }
   ],
   "source": [
    "eigvec[:,2]/c"
   ],
   "metadata": {
    "collapsed": false,
    "ExecuteTime": {
     "end_time": "2023-11-04T17:05:57.541835600Z",
     "start_time": "2023-11-04T17:05:57.234398600Z"
    }
   }
  },
  {
   "cell_type": "code",
   "execution_count": 52,
   "outputs": [
    {
     "data": {
      "text/plain": "array([-6.66133815e-16, -1.33226763e-15, -5.32907052e-15])"
     },
     "execution_count": 52,
     "metadata": {},
     "output_type": "execute_result"
    }
   ],
   "source": [
    "A@eigvec[:,2]"
   ],
   "metadata": {
    "collapsed": false,
    "ExecuteTime": {
     "end_time": "2023-11-04T17:05:57.541835600Z",
     "start_time": "2023-11-04T17:05:57.248167700Z"
    }
   }
  },
  {
   "cell_type": "code",
   "execution_count": 52,
   "outputs": [],
   "source": [],
   "metadata": {
    "collapsed": false,
    "ExecuteTime": {
     "end_time": "2023-11-04T17:05:57.541835600Z",
     "start_time": "2023-11-04T17:05:57.264986900Z"
    }
   }
  }
 ],
 "metadata": {
  "kernelspec": {
   "display_name": "Python 3",
   "language": "python",
   "name": "python3"
  },
  "language_info": {
   "codemirror_mode": {
    "name": "ipython",
    "version": 3
   },
   "file_extension": ".py",
   "mimetype": "text/x-python",
   "name": "python",
   "nbconvert_exporter": "python",
   "pygments_lexer": "ipython3",
   "version": "3.11.5"
  }
 },
 "nbformat": 4,
 "nbformat_minor": 0
}
