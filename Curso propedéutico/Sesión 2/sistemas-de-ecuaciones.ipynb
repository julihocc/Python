{
 "cells": [
  {
   "cell_type": "code",
   "execution_count": 1,
   "metadata": {
    "collapsed": true,
    "ExecuteTime": {
     "end_time": "2023-11-04T01:55:11.767243600Z",
     "start_time": "2023-11-04T01:55:11.662239900Z"
    }
   },
   "outputs": [],
   "source": [
    "import numpy as np"
   ]
  },
  {
   "cell_type": "code",
   "execution_count": 2,
   "metadata": {
    "collapsed": false,
    "ExecuteTime": {
     "end_time": "2023-11-04T01:55:11.777777800Z",
     "start_time": "2023-11-04T01:55:11.767243600Z"
    }
   },
   "outputs": [
    {
     "data": {
      "text/plain": "array([[1, 2, 3],\n       [4, 5, 6],\n       [7, 8, 9]])"
     },
     "execution_count": 2,
     "metadata": {},
     "output_type": "execute_result"
    }
   ],
   "source": [
    "# Creación de matrices\n",
    "matrix1 = np.array([[1,2,3],[4,5,6],[7,8,9]])\n",
    "matrix1"
   ]
  },
  {
   "cell_type": "code",
   "execution_count": 3,
   "metadata": {
    "collapsed": false,
    "ExecuteTime": {
     "end_time": "2023-11-04T01:55:11.781297400Z",
     "start_time": "2023-11-04T01:55:11.775915100Z"
    }
   },
   "outputs": [
    {
     "data": {
      "text/plain": "numpy.ndarray"
     },
     "execution_count": 3,
     "metadata": {},
     "output_type": "execute_result"
    }
   ],
   "source": [
    "type(matrix1)"
   ]
  },
  {
   "cell_type": "code",
   "execution_count": 4,
   "metadata": {
    "collapsed": false,
    "ExecuteTime": {
     "end_time": "2023-11-04T01:55:11.791789300Z",
     "start_time": "2023-11-04T01:55:11.781297400Z"
    }
   },
   "outputs": [
    {
     "data": {
      "text/plain": "matrix([[1, 2, 3],\n        [4, 5, 6],\n        [7, 8, 9]])"
     },
     "execution_count": 4,
     "metadata": {},
     "output_type": "execute_result"
    }
   ],
   "source": [
    "# Otra forma de crear matrices\n",
    "matrix2 = np.matrix([[1,2,3],[4,5,6],[7,8,9]])\n",
    "matrix2"
   ]
  },
  {
   "cell_type": "code",
   "execution_count": 5,
   "metadata": {
    "collapsed": false,
    "ExecuteTime": {
     "end_time": "2023-11-04T01:55:11.849173700Z",
     "start_time": "2023-11-04T01:55:11.786615100Z"
    }
   },
   "outputs": [
    {
     "data": {
      "text/plain": "numpy.matrix"
     },
     "execution_count": 5,
     "metadata": {},
     "output_type": "execute_result"
    }
   ],
   "source": [
    "type(matrix2)"
   ]
  },
  {
   "cell_type": "code",
   "execution_count": 6,
   "metadata": {
    "collapsed": false,
    "ExecuteTime": {
     "end_time": "2023-11-04T01:55:11.852326400Z",
     "start_time": "2023-11-04T01:55:11.793800900Z"
    }
   },
   "outputs": [
    {
     "data": {
      "text/plain": "array([[19, 22],\n       [43, 50]])"
     },
     "execution_count": 6,
     "metadata": {},
     "output_type": "execute_result"
    }
   ],
   "source": [
    "# Multiplicación matricial\n",
    "A = np.array([[1,2],[3,4]])\n",
    "B = np.array([[5,6],[7,8]])\n",
    "A@B\n"
   ]
  },
  {
   "cell_type": "code",
   "execution_count": 7,
   "metadata": {
    "collapsed": false,
    "ExecuteTime": {
     "end_time": "2023-11-04T01:55:11.852326400Z",
     "start_time": "2023-11-04T01:55:11.799252300Z"
    }
   },
   "outputs": [
    {
     "data": {
      "text/plain": "array([[ 5, 12],\n       [21, 32]])"
     },
     "execution_count": 7,
     "metadata": {},
     "output_type": "execute_result"
    }
   ],
   "source": [
    "# Multiplicación elemento a elemento\n",
    "A*B"
   ]
  },
  {
   "cell_type": "code",
   "execution_count": 8,
   "metadata": {
    "collapsed": false,
    "ExecuteTime": {
     "end_time": "2023-11-04T01:55:11.853326500Z",
     "start_time": "2023-11-04T01:55:11.804552400Z"
    }
   },
   "outputs": [
    {
     "data": {
      "text/plain": "-2.0000000000000004"
     },
     "execution_count": 8,
     "metadata": {},
     "output_type": "execute_result"
    }
   ],
   "source": [
    "# Determinante de una matriz\n",
    "np.linalg.det(A)\n"
   ]
  },
  {
   "cell_type": "code",
   "execution_count": 9,
   "metadata": {
    "collapsed": false,
    "ExecuteTime": {
     "end_time": "2023-11-04T01:55:11.853326500Z",
     "start_time": "2023-11-04T01:55:11.822584400Z"
    }
   },
   "outputs": [
    {
     "data": {
      "text/plain": "1"
     },
     "execution_count": 9,
     "metadata": {},
     "output_type": "execute_result"
    }
   ],
   "source": [
    "# Acceso a los elementos de una matriz\n",
    "A[0,0]\n"
   ]
  },
  {
   "cell_type": "code",
   "execution_count": 10,
   "metadata": {
    "collapsed": false,
    "ExecuteTime": {
     "end_time": "2023-11-04T01:55:11.854328800Z",
     "start_time": "2023-11-04T01:55:11.829714800Z"
    }
   },
   "outputs": [
    {
     "data": {
      "text/plain": "2"
     },
     "execution_count": 10,
     "metadata": {},
     "output_type": "execute_result"
    }
   ],
   "source": [
    "A[0,1]\n"
   ]
  },
  {
   "cell_type": "code",
   "execution_count": 11,
   "metadata": {
    "collapsed": false,
    "ExecuteTime": {
     "end_time": "2023-11-04T01:55:11.871090Z",
     "start_time": "2023-11-04T01:55:11.834571100Z"
    }
   },
   "outputs": [
    {
     "data": {
      "text/plain": "array([[1., 0.],\n       [0., 1.]])"
     },
     "execution_count": 11,
     "metadata": {},
     "output_type": "execute_result"
    }
   ],
   "source": [
    "# Matriz identidad\n",
    "I2 = np.eye(2)\n",
    "I2\n"
   ]
  },
  {
   "cell_type": "code",
   "execution_count": 12,
   "metadata": {
    "collapsed": false,
    "ExecuteTime": {
     "end_time": "2023-11-04T01:55:11.902202900Z",
     "start_time": "2023-11-04T01:55:11.841175100Z"
    }
   },
   "outputs": [
    {
     "data": {
      "text/plain": "array([[1., 2.],\n       [3., 4.]])"
     },
     "execution_count": 12,
     "metadata": {},
     "output_type": "execute_result"
    }
   ],
   "source": [
    "I2@A\n"
   ]
  },
  {
   "cell_type": "code",
   "execution_count": 13,
   "metadata": {
    "collapsed": false,
    "ExecuteTime": {
     "end_time": "2023-11-04T01:55:11.902202900Z",
     "start_time": "2023-11-04T01:55:11.875842500Z"
    }
   },
   "outputs": [
    {
     "data": {
      "text/plain": "array([[1., 2.],\n       [3., 4.]])"
     },
     "execution_count": 13,
     "metadata": {},
     "output_type": "execute_result"
    }
   ],
   "source": [
    "A@I2\n"
   ]
  },
  {
   "cell_type": "code",
   "execution_count": 14,
   "metadata": {
    "collapsed": false,
    "ExecuteTime": {
     "end_time": "2023-11-04T01:55:11.999414Z",
     "start_time": "2023-11-04T01:55:11.880540Z"
    }
   },
   "outputs": [
    {
     "data": {
      "text/plain": "array([[1, 3],\n       [2, 4]])"
     },
     "execution_count": 14,
     "metadata": {},
     "output_type": "execute_result"
    }
   ],
   "source": [
    "# Transpuesta de una matriz\n",
    "A.T\n"
   ]
  },
  {
   "cell_type": "code",
   "execution_count": 15,
   "metadata": {
    "ExecuteTime": {
     "end_time": "2023-11-04T01:55:11.999920200Z",
     "start_time": "2023-11-04T01:55:11.887910700Z"
    }
   },
   "outputs": [
    {
     "data": {
      "text/plain": "array([[1, 3],\n       [2, 4]])"
     },
     "execution_count": 15,
     "metadata": {},
     "output_type": "execute_result"
    }
   ],
   "source": [
    "np.transpose(A)"
   ]
  },
  {
   "cell_type": "code",
   "execution_count": 16,
   "metadata": {
    "collapsed": false,
    "ExecuteTime": {
     "end_time": "2023-11-04T01:55:12.021709200Z",
     "start_time": "2023-11-04T01:55:11.893116600Z"
    }
   },
   "outputs": [
    {
     "data": {
      "text/plain": "array([[-2. ,  1. ],\n       [ 1.5, -0.5]])"
     },
     "execution_count": 16,
     "metadata": {},
     "output_type": "execute_result"
    }
   ],
   "source": [
    "# Inversa de una matriz\n",
    "C = np.linalg.inv(A)\n",
    "C\n"
   ]
  },
  {
   "cell_type": "code",
   "execution_count": 17,
   "metadata": {
    "collapsed": false,
    "ExecuteTime": {
     "end_time": "2023-11-04T01:55:12.023711500Z",
     "start_time": "2023-11-04T01:55:11.909197700Z"
    }
   },
   "outputs": [
    {
     "data": {
      "text/plain": "array([[1.00000000e+00, 1.11022302e-16],\n       [0.00000000e+00, 1.00000000e+00]])"
     },
     "execution_count": 17,
     "metadata": {},
     "output_type": "execute_result"
    }
   ],
   "source": [
    "A@C\n"
   ]
  },
  {
   "cell_type": "code",
   "execution_count": 18,
   "metadata": {
    "collapsed": false,
    "ExecuteTime": {
     "end_time": "2023-11-04T01:55:12.024711700Z",
     "start_time": "2023-11-04T01:55:11.913047700Z"
    }
   },
   "outputs": [
    {
     "data": {
      "text/plain": "array([[1.0000000e+00, 4.4408921e-16],\n       [0.0000000e+00, 1.0000000e+00]])"
     },
     "execution_count": 18,
     "metadata": {},
     "output_type": "execute_result"
    }
   ],
   "source": [
    "C@A\n"
   ]
  },
  {
   "cell_type": "code",
   "execution_count": 40,
   "outputs": [
    {
     "name": "stdout",
     "output_type": "stream",
     "text": [
      "Solution (x, y): [ 5. -2.]\n"
     ]
    },
    {
     "data": {
      "text/plain": "array([ 8., 11.])"
     },
     "execution_count": 40,
     "metadata": {},
     "output_type": "execute_result"
    }
   ],
   "source": [
    "# Solución automática\n",
    "import numpy as np\n",
    "\n",
    "# Coefficient matrix A\n",
    "A = np.array([[2, 1],\n",
    "              [3, 2]])\n",
    "\n",
    "# Right-hand side vector B\n",
    "B = np.array([8, 11])\n",
    "\n",
    "# Solve the linear system of equations\n",
    "solution = np.linalg.solve(A, B)\n",
    "\n",
    "# The solution contains the values for the variables\n",
    "print(\"Solution (x, y):\", solution)\n",
    "\n",
    "A @ solution"
   ],
   "metadata": {
    "collapsed": false,
    "ExecuteTime": {
     "end_time": "2023-11-04T01:56:48.027284900Z",
     "start_time": "2023-11-04T01:56:47.983475400Z"
    }
   }
  },
  {
   "cell_type": "code",
   "execution_count": null,
   "outputs": [],
   "source": [],
   "metadata": {
    "collapsed": false
   }
  }
 ],
 "metadata": {
  "kernelspec": {
   "display_name": "Python 3",
   "language": "python",
   "name": "python3"
  },
  "language_info": {
   "codemirror_mode": {
    "name": "ipython",
    "version": 3
   },
   "file_extension": ".py",
   "mimetype": "text/x-python",
   "name": "python",
   "nbconvert_exporter": "python",
   "pygments_lexer": "ipython3",
   "version": "3.11.5"
  }
 },
 "nbformat": 4,
 "nbformat_minor": 0
}
