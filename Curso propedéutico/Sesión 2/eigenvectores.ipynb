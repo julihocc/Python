{
 "cells": [
  {
   "cell_type": "markdown",
   "source": [
    "## Eigenvalores y eigenvectores "
   ],
   "metadata": {
    "collapsed": false
   }
  },
  {
   "cell_type": "code",
   "execution_count": 172,
   "outputs": [],
   "source": [
    "import numpy as np \n",
    "np.random.seed(123)"
   ],
   "metadata": {
    "collapsed": false,
    "ExecuteTime": {
     "end_time": "2023-11-04T02:19:51.664949700Z",
     "start_time": "2023-11-04T02:19:51.615293400Z"
    }
   }
  },
  {
   "cell_type": "code",
   "execution_count": 173,
   "outputs": [],
   "source": [
    "sol = np.array([2,0,-1]).reshape(3,1)"
   ],
   "metadata": {
    "collapsed": false,
    "ExecuteTime": {
     "end_time": "2023-11-04T02:19:51.665550Z",
     "start_time": "2023-11-04T02:19:51.618826Z"
    }
   }
  },
  {
   "cell_type": "code",
   "execution_count": 174,
   "outputs": [
    {
     "data": {
      "text/plain": "array([2, 2, 6])"
     },
     "execution_count": 174,
     "metadata": {},
     "output_type": "execute_result"
    }
   ],
   "source": [
    "r1 = np.random.randint(10,size=3)\n",
    "r1"
   ],
   "metadata": {
    "collapsed": false,
    "ExecuteTime": {
     "end_time": "2023-11-04T02:19:51.675768800Z",
     "start_time": "2023-11-04T02:19:51.624344600Z"
    }
   }
  },
  {
   "cell_type": "code",
   "execution_count": 175,
   "outputs": [
    {
     "data": {
      "text/plain": "array([1, 3, 9])"
     },
     "execution_count": 175,
     "metadata": {},
     "output_type": "execute_result"
    }
   ],
   "source": [
    "r2 = np.random.randint(10,size=3)\n",
    "r2"
   ],
   "metadata": {
    "collapsed": false,
    "ExecuteTime": {
     "end_time": "2023-11-04T02:19:51.677273900Z",
     "start_time": "2023-11-04T02:19:51.632490Z"
    }
   }
  },
  {
   "cell_type": "code",
   "execution_count": 176,
   "outputs": [
    {
     "data": {
      "text/plain": "(6, 1, array([13, 15, 45]))"
     },
     "execution_count": 176,
     "metadata": {},
     "output_type": "execute_result"
    }
   ],
   "source": [
    "a, b = np.random.randint(10, size=2)\n",
    "r3 = a*r1+b*r2\n",
    "a,b,r3"
   ],
   "metadata": {
    "collapsed": false,
    "ExecuteTime": {
     "end_time": "2023-11-04T02:19:51.736887400Z",
     "start_time": "2023-11-04T02:19:51.639298400Z"
    }
   }
  },
  {
   "cell_type": "code",
   "execution_count": 177,
   "outputs": [
    {
     "data": {
      "text/plain": "array([[ 2,  2,  6],\n       [ 1,  3,  9],\n       [13, 15, 45]])"
     },
     "execution_count": 177,
     "metadata": {},
     "output_type": "execute_result"
    }
   ],
   "source": [
    "A = np.vstack((r1,r2,r3))\n",
    "A"
   ],
   "metadata": {
    "collapsed": false,
    "ExecuteTime": {
     "end_time": "2023-11-04T02:19:51.737391900Z",
     "start_time": "2023-11-04T02:19:51.644618200Z"
    }
   }
  },
  {
   "cell_type": "code",
   "execution_count": 178,
   "outputs": [
    {
     "data": {
      "text/plain": "(3, 3)"
     },
     "execution_count": 178,
     "metadata": {},
     "output_type": "execute_result"
    }
   ],
   "source": [
    "A.shape"
   ],
   "metadata": {
    "collapsed": false,
    "ExecuteTime": {
     "end_time": "2023-11-04T02:19:51.737391900Z",
     "start_time": "2023-11-04T02:19:51.652166900Z"
    }
   }
  },
  {
   "cell_type": "code",
   "execution_count": 179,
   "outputs": [
    {
     "data": {
      "text/plain": "array([[ -2],\n       [ -7],\n       [-19]])"
     },
     "execution_count": 179,
     "metadata": {},
     "output_type": "execute_result"
    }
   ],
   "source": [
    "B = A@sol \n",
    "B"
   ],
   "metadata": {
    "collapsed": false,
    "ExecuteTime": {
     "end_time": "2023-11-04T02:19:51.737391900Z",
     "start_time": "2023-11-04T02:19:51.658056600Z"
    }
   }
  },
  {
   "cell_type": "code",
   "execution_count": 180,
   "outputs": [
    {
     "data": {
      "text/plain": "(3, 1)"
     },
     "execution_count": 180,
     "metadata": {},
     "output_type": "execute_result"
    }
   ],
   "source": [
    "B.shape"
   ],
   "metadata": {
    "collapsed": false,
    "ExecuteTime": {
     "end_time": "2023-11-04T02:19:51.739396100Z",
     "start_time": "2023-11-04T02:19:51.663954500Z"
    }
   }
  },
  {
   "cell_type": "code",
   "execution_count": 181,
   "outputs": [
    {
     "data": {
      "text/plain": "array([[  2,   2,   6,  -2],\n       [  1,   3,   9,  -7],\n       [ 13,  15,  45, -19]])"
     },
     "execution_count": 181,
     "metadata": {},
     "output_type": "execute_result"
    }
   ],
   "source": [
    "S = np.hstack((A,B))\n",
    "S"
   ],
   "metadata": {
    "collapsed": false,
    "ExecuteTime": {
     "end_time": "2023-11-04T02:19:51.739396100Z",
     "start_time": "2023-11-04T02:19:51.670574500Z"
    }
   }
  },
  {
   "cell_type": "code",
   "execution_count": 182,
   "outputs": [
    {
     "data": {
      "text/plain": "Matrix([\n[ 2,  2,  6,  -2],\n[ 1,  3,  9,  -7],\n[13, 15, 45, -19]])",
      "text/latex": "$\\displaystyle \\left[\\begin{matrix}2 & 2 & 6 & -2\\\\1 & 3 & 9 & -7\\\\13 & 15 & 45 & -19\\end{matrix}\\right]$"
     },
     "execution_count": 182,
     "metadata": {},
     "output_type": "execute_result"
    }
   ],
   "source": [
    "from sympy import Matrix\n",
    "\n",
    "M = Matrix(S)\n",
    "M"
   ],
   "metadata": {
    "collapsed": false,
    "ExecuteTime": {
     "end_time": "2023-11-04T02:19:51.740400300Z",
     "start_time": "2023-11-04T02:19:51.675768800Z"
    }
   }
  },
  {
   "cell_type": "code",
   "execution_count": 183,
   "outputs": [
    {
     "data": {
      "text/plain": "(Matrix([\n [1, 0, 0,  2],\n [0, 1, 3, -3],\n [0, 0, 0,  0]]),\n (0, 1))"
     },
     "execution_count": 183,
     "metadata": {},
     "output_type": "execute_result"
    }
   ],
   "source": [
    "M_rref = M.rref()\n",
    "M_rref"
   ],
   "metadata": {
    "collapsed": false,
    "ExecuteTime": {
     "end_time": "2023-11-04T02:19:51.740400300Z",
     "start_time": "2023-11-04T02:19:51.683615600Z"
    }
   }
  },
  {
   "cell_type": "code",
   "execution_count": 184,
   "outputs": [
    {
     "data": {
      "text/plain": "array([[ 2],\n       [ 0],\n       [-1]])"
     },
     "execution_count": 184,
     "metadata": {},
     "output_type": "execute_result"
    }
   ],
   "source": [
    "def gen_sol(t):\n",
    "    return np.array([2, -3-3*t, t]).reshape(3,1)\n",
    "\n",
    "s0 = gen_sol(-1)\n",
    "s0"
   ],
   "metadata": {
    "collapsed": false,
    "ExecuteTime": {
     "end_time": "2023-11-04T02:19:51.749422400Z",
     "start_time": "2023-11-04T02:19:51.691125100Z"
    }
   }
  },
  {
   "cell_type": "code",
   "execution_count": 185,
   "outputs": [
    {
     "data": {
      "text/plain": "array([[ -2],\n       [ -7],\n       [-19]])"
     },
     "execution_count": 185,
     "metadata": {},
     "output_type": "execute_result"
    }
   ],
   "source": [
    "A@s0"
   ],
   "metadata": {
    "collapsed": false,
    "ExecuteTime": {
     "end_time": "2023-11-04T02:19:51.750427100Z",
     "start_time": "2023-11-04T02:19:51.699169300Z"
    }
   }
  },
  {
   "cell_type": "code",
   "execution_count": 186,
   "outputs": [
    {
     "data": {
      "text/plain": "[Matrix([\n [ 0],\n [-3],\n [ 1]])]"
     },
     "execution_count": 186,
     "metadata": {},
     "output_type": "execute_result"
    }
   ],
   "source": [
    "Matrix(A).nullspace()"
   ],
   "metadata": {
    "collapsed": false,
    "ExecuteTime": {
     "end_time": "2023-11-04T02:19:51.750427100Z",
     "start_time": "2023-11-04T02:19:51.705441500Z"
    }
   }
  },
  {
   "cell_type": "code",
   "execution_count": 188,
   "outputs": [
    {
     "data": {
      "text/plain": "Matrix([\n[0],\n[0],\n[0]])",
      "text/latex": "$\\displaystyle \\left[\\begin{matrix}0\\\\0\\\\0\\end{matrix}\\right]$"
     },
     "execution_count": 188,
     "metadata": {},
     "output_type": "execute_result"
    }
   ],
   "source": [
    "Matrix(A)*Matrix(A).nullspace()[0]"
   ],
   "metadata": {
    "collapsed": false,
    "ExecuteTime": {
     "end_time": "2023-11-04T02:20:48.863994400Z",
     "start_time": "2023-11-04T02:20:48.846267400Z"
    }
   }
  },
  {
   "cell_type": "markdown",
   "source": [
    "### Autovalores y autovectores"
   ],
   "metadata": {
    "collapsed": false
   }
  },
  {
   "cell_type": "code",
   "execution_count": 189,
   "outputs": [
    {
     "data": {
      "text/plain": "{25 - sqrt(609): 1, sqrt(609) + 25: 1, 0: 1}"
     },
     "execution_count": 189,
     "metadata": {},
     "output_type": "execute_result"
    }
   ],
   "source": [
    "Matrix(A).eigenvals()"
   ],
   "metadata": {
    "collapsed": false,
    "ExecuteTime": {
     "end_time": "2023-11-04T02:22:01.936728700Z",
     "start_time": "2023-11-04T02:22:01.870624600Z"
    }
   }
  },
  {
   "cell_type": "code",
   "execution_count": 190,
   "outputs": [
    {
     "data": {
      "text/plain": "[(0,\n  1,\n  [Matrix([\n   [ 0],\n   [-3],\n   [ 1]])]),\n (25 - sqrt(609),\n  1,\n  [Matrix([\n   [    sqrt(609)/77 + 5/11],\n   [-6*sqrt(609)/77 - 19/11],\n   [                      1]])]),\n (sqrt(609) + 25,\n  1,\n  [Matrix([\n   [    5/11 - sqrt(609)/77],\n   [-19/11 + 6*sqrt(609)/77],\n   [                      1]])])]"
     },
     "execution_count": 190,
     "metadata": {},
     "output_type": "execute_result"
    }
   ],
   "source": [
    "Matrix(A).eigenvects()"
   ],
   "metadata": {
    "collapsed": false,
    "ExecuteTime": {
     "end_time": "2023-11-04T02:22:17.836387800Z",
     "start_time": "2023-11-04T02:22:17.805744Z"
    }
   }
  },
  {
   "cell_type": "code",
   "execution_count": 191,
   "outputs": [
    {
     "data": {
      "text/plain": "Matrix([\n[ 0],\n[-3],\n[ 1]])",
      "text/latex": "$\\displaystyle \\left[\\begin{matrix}0\\\\-3\\\\1\\end{matrix}\\right]$"
     },
     "execution_count": 191,
     "metadata": {},
     "output_type": "execute_result"
    }
   ],
   "source": [
    "Matrix(A).eigenvects()[0][2][0]"
   ],
   "metadata": {
    "collapsed": false,
    "ExecuteTime": {
     "end_time": "2023-11-04T02:22:39.181450300Z",
     "start_time": "2023-11-04T02:22:39.152663700Z"
    }
   }
  },
  {
   "cell_type": "code",
   "execution_count": 198,
   "outputs": [],
   "source": [
    "### Utilizando Numpy\n",
    "\n",
    "eigval, eigvec = np.linalg.eig(A)"
   ],
   "metadata": {
    "collapsed": false,
    "ExecuteTime": {
     "end_time": "2023-11-04T02:26:12.058162900Z",
     "start_time": "2023-11-04T02:26:12.046139200Z"
    }
   }
  },
  {
   "cell_type": "code",
   "execution_count": 199,
   "outputs": [
    {
     "data": {
      "text/plain": "array([ 4.96779254e+01,  3.22074641e-01, -4.66468557e-17])"
     },
     "execution_count": 199,
     "metadata": {},
     "output_type": "execute_result"
    }
   ],
   "source": [
    "eigval"
   ],
   "metadata": {
    "collapsed": false,
    "ExecuteTime": {
     "end_time": "2023-11-04T02:26:15.979335200Z",
     "start_time": "2023-11-04T02:26:15.967313500Z"
    }
   }
  },
  {
   "cell_type": "code",
   "execution_count": 200,
   "outputs": [
    {
     "data": {
      "text/plain": "array([[-1.30433900e-01, -2.00617139e-01,  6.85866393e-17],\n       [-1.90399668e-01,  9.44854701e-01, -9.48683298e-01],\n       [-9.73003065e-01, -2.58848136e-01,  3.16227766e-01]])"
     },
     "execution_count": 200,
     "metadata": {},
     "output_type": "execute_result"
    }
   ],
   "source": [
    "eigvec"
   ],
   "metadata": {
    "collapsed": false,
    "ExecuteTime": {
     "end_time": "2023-11-04T02:26:39.388929100Z",
     "start_time": "2023-11-04T02:26:39.376501100Z"
    }
   }
  },
  {
   "cell_type": "code",
   "execution_count": 201,
   "outputs": [
    {
     "data": {
      "text/plain": "array([ 6.85866393e-17, -9.48683298e-01,  3.16227766e-01])"
     },
     "execution_count": 201,
     "metadata": {},
     "output_type": "execute_result"
    }
   ],
   "source": [
    "eigvec[:,2]"
   ],
   "metadata": {
    "collapsed": false,
    "ExecuteTime": {
     "end_time": "2023-11-04T02:26:46.762176800Z",
     "start_time": "2023-11-04T02:26:46.742138500Z"
    }
   }
  },
  {
   "cell_type": "code",
   "execution_count": 203,
   "outputs": [
    {
     "data": {
      "text/plain": "0.31622776601683783"
     },
     "execution_count": 203,
     "metadata": {},
     "output_type": "execute_result"
    }
   ],
   "source": [
    "c = eigvec[:,2][2]\n",
    "c"
   ],
   "metadata": {
    "collapsed": false,
    "ExecuteTime": {
     "end_time": "2023-11-04T02:28:44.339634700Z",
     "start_time": "2023-11-04T02:28:44.334375800Z"
    }
   }
  },
  {
   "cell_type": "code",
   "execution_count": 204,
   "outputs": [
    {
     "data": {
      "text/plain": "array([ 2.16889997e-16, -3.00000000e+00,  1.00000000e+00])"
     },
     "execution_count": 204,
     "metadata": {},
     "output_type": "execute_result"
    }
   ],
   "source": [
    "eigvec[:,2]/c"
   ],
   "metadata": {
    "collapsed": false,
    "ExecuteTime": {
     "end_time": "2023-11-04T02:28:48.812825600Z",
     "start_time": "2023-11-04T02:28:48.804775400Z"
    }
   }
  },
  {
   "cell_type": "code",
   "execution_count": 202,
   "outputs": [
    {
     "data": {
      "text/plain": "array([-6.66133815e-16, -1.33226763e-15, -5.32907052e-15])"
     },
     "execution_count": 202,
     "metadata": {},
     "output_type": "execute_result"
    }
   ],
   "source": [
    "A@eigvec[:,2]"
   ],
   "metadata": {
    "collapsed": false,
    "ExecuteTime": {
     "end_time": "2023-11-04T02:26:50.289323400Z",
     "start_time": "2023-11-04T02:26:50.276861300Z"
    }
   }
  },
  {
   "cell_type": "code",
   "execution_count": null,
   "outputs": [],
   "source": [],
   "metadata": {
    "collapsed": false
   }
  }
 ],
 "metadata": {
  "kernelspec": {
   "display_name": "Python 3",
   "language": "python",
   "name": "python3"
  },
  "language_info": {
   "codemirror_mode": {
    "name": "ipython",
    "version": 3
   },
   "file_extension": ".py",
   "mimetype": "text/x-python",
   "name": "python",
   "nbconvert_exporter": "python",
   "pygments_lexer": "ipython3",
   "version": "3.11.5"
  }
 },
 "nbformat": 4,
 "nbformat_minor": 0
}
