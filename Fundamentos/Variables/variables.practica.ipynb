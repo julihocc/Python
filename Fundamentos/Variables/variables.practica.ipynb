{
 "cells": [
  {
   "cell_type": "code",
   "execution_count": 19,
   "metadata": {
    "collapsed": true,
    "ExecuteTime": {
     "end_time": "2023-10-03T23:48:49.344381500Z",
     "start_time": "2023-10-03T23:48:49.340781700Z"
    }
   },
   "outputs": [
    {
     "name": "stdout",
     "output_type": "stream",
     "text": [
      "5\n"
     ]
    }
   ],
   "source": [
    "# Asignación En Python, se utiliza el signo `=` para asignar un valor a una variable. Por ejemplo:\n",
    "x = 5\n",
    "print(x)\n"
   ]
  },
  {
   "cell_type": "code",
   "execution_count": 20,
   "outputs": [
    {
     "data": {
      "text/plain": "5"
     },
     "execution_count": 20,
     "metadata": {},
     "output_type": "execute_result"
    }
   ],
   "source": [
    "# En una libreta Jupyter, la última línea de una celda se imprime automáticamente\n",
    "x = 5\n",
    "x"
   ],
   "metadata": {
    "collapsed": false,
    "ExecuteTime": {
     "end_time": "2023-10-03T23:48:49.359307900Z",
     "start_time": "2023-10-03T23:48:49.344381500Z"
    }
   }
  },
  {
   "cell_type": "code",
   "execution_count": 22,
   "outputs": [],
   "source": [
    "# Los nombres de las variables en Python pueden contener letras, números y guiones bajos, pero deben comenzar con una letra o un guión bajo. No pueden comenzar con un número."
   ],
   "metadata": {
    "collapsed": false,
    "ExecuteTime": {
     "end_time": "2023-10-03T23:48:49.392482800Z",
     "start_time": "2023-10-03T23:48:49.372332500Z"
    }
   }
  },
  {
   "cell_type": "code",
   "execution_count": 23,
   "outputs": [
    {
     "name": "stdout",
     "output_type": "stream",
     "text": [
      "Juan Pedro María\n"
     ]
    }
   ],
   "source": [
    "# Las variables en Python son sensibles al caso, lo que significa que `nombre`, `Nombre` y `NOMBRE` serían tres variables diferentes.\n",
    "nombre = \"Juan\"\n",
    "Nombre = \"Pedro\"\n",
    "NOMBRE = \"María\"\n",
    "print(nombre, Nombre, NOMBRE)\n"
   ],
   "metadata": {
    "collapsed": false,
    "ExecuteTime": {
     "end_time": "2023-10-03T23:48:49.392482800Z",
     "start_time": "2023-10-03T23:48:49.381311100Z"
    }
   }
  },
  {
   "cell_type": "code",
   "execution_count": 25,
   "outputs": [
    {
     "name": "stdout",
     "output_type": "stream",
     "text": [
      "name 'x' is not defined\n"
     ]
    }
   ],
   "source": [
    "# Puedes eliminar una variable usando la palabra clave `del`. Por ejemplo:\n",
    "del x\n",
    "try:\n",
    "    print(x)\n",
    "except NameError as e:\n",
    "    print(e)\n"
   ],
   "metadata": {
    "collapsed": false,
    "ExecuteTime": {
     "end_time": "2023-10-03T23:48:49.458645100Z",
     "start_time": "2023-10-03T23:48:49.410099200Z"
    }
   }
  },
  {
   "cell_type": "code",
   "execution_count": 26,
   "outputs": [
    {
     "name": "stdout",
     "output_type": "stream",
     "text": [
      "<class 'int'>\n"
     ]
    }
   ],
   "source": [
    "# Tipos de variables\n",
    "# Enteros (int): Son números enteros, positivos o negativos, sin decimales, de longitud ilimitada.\n",
    "x = 5\n",
    "print(type(x))\n"
   ],
   "metadata": {
    "collapsed": false,
    "ExecuteTime": {
     "end_time": "2023-10-03T23:49:57.669833200Z",
     "start_time": "2023-10-03T23:49:57.663358800Z"
    }
   }
  },
  {
   "cell_type": "code",
   "execution_count": 27,
   "outputs": [
    {
     "name": "stdout",
     "output_type": "stream",
     "text": [
      "<class 'float'>\n"
     ]
    }
   ],
   "source": [
    "# Flotantes (float): Son números, positivos o negativos, que contienen uno o más decimales.\n",
    "x = 5.0\n",
    "print(type(x))\n"
   ],
   "metadata": {
    "collapsed": false,
    "ExecuteTime": {
     "end_time": "2023-10-03T23:50:08.800524400Z",
     "start_time": "2023-10-03T23:50:08.787861100Z"
    }
   }
  },
  {
   "cell_type": "code",
   "execution_count": 29,
   "outputs": [
    {
     "name": "stdout",
     "output_type": "stream",
     "text": [
      "<class 'complex'>\n"
     ]
    }
   ],
   "source": [
    "# Complejos (complex): Son números con una parte real y una parte imaginaria. Se pueden crear utilizando la función `complex()`.\n",
    "x = complex(1, 2)\n",
    "print(type(x))"
   ],
   "metadata": {
    "collapsed": false,
    "ExecuteTime": {
     "end_time": "2023-10-03T23:50:25.086885Z",
     "start_time": "2023-10-03T23:50:25.084303200Z"
    }
   }
  },
  {
   "cell_type": "code",
   "execution_count": 30,
   "outputs": [
    {
     "name": "stdout",
     "output_type": "stream",
     "text": [
      "<class 'str'>\n"
     ]
    }
   ],
   "source": [
    "# Strings (str): Son secuencias de caracteres, como \"Hola Mundo\".\n",
    "x = \"Hola Mundo\"\n",
    "print(type(x))\n"
   ],
   "metadata": {
    "collapsed": false,
    "ExecuteTime": {
     "end_time": "2023-10-03T23:50:39.407192400Z",
     "start_time": "2023-10-03T23:50:39.402670700Z"
    }
   }
  },
  {
   "cell_type": "code",
   "execution_count": 31,
   "outputs": [
    {
     "name": "stdout",
     "output_type": "stream",
     "text": [
      "<class 'bool'>\n"
     ]
    }
   ],
   "source": [
    "# Booleanos (bool): Son valores binarios que pueden ser `True` o `False`.\n",
    "x = True\n",
    "print(type(x))\n"
   ],
   "metadata": {
    "collapsed": false,
    "ExecuteTime": {
     "end_time": "2023-10-03T23:50:47.447363700Z",
     "start_time": "2023-10-03T23:50:47.422467300Z"
    }
   }
  },
  {
   "cell_type": "code",
   "execution_count": null,
   "outputs": [],
   "source": [
    "# Tipos dinámicos: A diferencia de otros lenguajes de programación, no necesitas declarar el tipo de dato de una variable en Python. El tipo de dato se determina dinámicamente en tiempo de ejecución. Por ejemplo:\n",
    "x = 5 # x es un entero\n",
    "print(type(x))\n",
    "x = \"Hola\" # ahora x es un string\n",
    "print(type(x))"
   ],
   "metadata": {
    "collapsed": false
   }
  },
  {
   "cell_type": "code",
   "execution_count": 36,
   "outputs": [
    {
     "name": "stdout",
     "output_type": "stream",
     "text": [
      "b'Hello'\n",
      "<class 'bytes'>\n"
     ]
    }
   ],
   "source": [
    "# Bytes (bytes): Son secuencias inmutables de enteros en el rango 0 <= x < 256. Se pueden crear utilizando la función `bytes()`.\n",
    "b = bytes([72, 101, 108, 108, 111])  # b'Hello'\n",
    "print(b)\n",
    "print(type(b))"
   ],
   "metadata": {
    "collapsed": false,
    "ExecuteTime": {
     "end_time": "2023-10-03T23:55:35.211038700Z",
     "start_time": "2023-10-03T23:55:35.207893200Z"
    }
   }
  },
  {
   "cell_type": "code",
   "execution_count": 38,
   "outputs": [
    {
     "name": "stdout",
     "output_type": "stream",
     "text": [
      "None\n",
      "<class 'NoneType'>\n"
     ]
    }
   ],
   "source": [
    "# NoneType (None): Representa la ausencia de valor o un valor nulo. Es un tipo especial en Python.\n",
    "x = None\n",
    "print(x)\n",
    "print(type(x))\n"
   ],
   "metadata": {
    "collapsed": false,
    "ExecuteTime": {
     "end_time": "2023-10-03T23:57:01.907939800Z",
     "start_time": "2023-10-03T23:57:01.903429500Z"
    }
   }
  },
  {
   "cell_type": "code",
   "execution_count": 32,
   "outputs": [
    {
     "name": "stdout",
     "output_type": "stream",
     "text": [
      "<class 'list'>\n"
     ]
    }
   ],
   "source": [
    "# Listas (list): Son secuencias ordenadas de objetos, que pueden ser de diferentes tipos. Se pueden crear utilizando corchetes `[]` o la función `list()`.\n",
    "x = [1, 2, 3]\n",
    "print(type(x))\n"
   ],
   "metadata": {
    "collapsed": false,
    "ExecuteTime": {
     "end_time": "2023-10-03T23:51:23.318997Z",
     "start_time": "2023-10-03T23:51:23.313474400Z"
    }
   }
  },
  {
   "cell_type": "code",
   "execution_count": 42,
   "outputs": [
    {
     "name": "stdout",
     "output_type": "stream",
     "text": [
      "1\n"
     ]
    }
   ],
   "source": [
    "# Puedes acceder a los elementos de una lista utilizando corchetes `[]`. Por ejemplo:\n",
    "x = [1, 2, 3]\n",
    "print(x[0])"
   ],
   "metadata": {
    "collapsed": false,
    "ExecuteTime": {
     "end_time": "2023-10-03T23:59:07.132784600Z",
     "start_time": "2023-10-03T23:59:07.125321900Z"
    }
   }
  },
  {
   "cell_type": "code",
   "execution_count": 43,
   "outputs": [
    {
     "name": "stdout",
     "output_type": "stream",
     "text": [
      "[1, 2, 3, 4]\n"
     ]
    }
   ],
   "source": [
    "# Puedes agregar elementos a una lista utilizando el método `append()`. Por ejemplo:\n",
    "x = [1, 2, 3]\n",
    "x.append(4)\n",
    "print(x)"
   ],
   "metadata": {
    "collapsed": false,
    "ExecuteTime": {
     "end_time": "2023-10-03T23:59:23.123874400Z",
     "start_time": "2023-10-03T23:59:23.109793200Z"
    }
   }
  },
  {
   "cell_type": "code",
   "execution_count": 44,
   "outputs": [
    {
     "name": "stdout",
     "output_type": "stream",
     "text": [
      "[5, 2, 3]\n"
     ]
    }
   ],
   "source": [
    "# Puedes cambiar un elemento de una lista utilizando corchetes `[]`. Por ejemplo:\n",
    "x = [1, 2, 3]\n",
    "x[0] = 5\n",
    "print(x)"
   ],
   "metadata": {
    "collapsed": false,
    "ExecuteTime": {
     "end_time": "2023-10-04T00:03:44.476510700Z",
     "start_time": "2023-10-04T00:03:44.279207900Z"
    }
   }
  },
  {
   "cell_type": "code",
   "execution_count": null,
   "outputs": [],
   "source": [
    "# Cuando asignas un objeto a una variable, en realidad estás asignando una referencia al objeto, no una copia del objeto. Esto es especialmente relevante cuando trabajas con objetos mutables, como listas.\n",
    "a = [1, 2, 3]\n",
    "b = a\n",
    "print(a, b)\n",
    "b[0] = 5\n",
    "print(a, b)"
   ],
   "metadata": {
    "collapsed": false
   }
  },
  {
   "cell_type": "code",
   "execution_count": 39,
   "outputs": [
    {
     "name": "stdout",
     "output_type": "stream",
     "text": [
      "<class 'tuple'>\n"
     ]
    }
   ],
   "source": [
    "# Tuplas (tuple): Colecciones ordenadas e inmutables.\n",
    "x = (1, 2, 3)\n",
    "print(type(x))\n"
   ],
   "metadata": {
    "collapsed": false,
    "ExecuteTime": {
     "end_time": "2023-10-03T23:58:01.282336900Z",
     "start_time": "2023-10-03T23:58:01.277019100Z"
    }
   }
  },
  {
   "cell_type": "code",
   "execution_count": 41,
   "outputs": [
    {
     "name": "stdout",
     "output_type": "stream",
     "text": [
      "[1, 2, 3] (1, 2, 3)\n",
      "[5, 2, 3] (1, 2, 3)\n",
      "'tuple' object does not support item assignment\n"
     ]
    }
   ],
   "source": [
    "# La diferencia entre listas y tuplas es que las listas son mutables, mientras que las tuplas no.\n",
    "a = [1, 2, 3]\n",
    "b = (1, 2, 3)\n",
    "print(a, b)\n",
    "a[0] = 5\n",
    "print(a, b)\n",
    "try:\n",
    "    b[0] = 5\n",
    "except TypeError as e:\n",
    "    print(e)\n"
   ],
   "metadata": {
    "collapsed": false,
    "ExecuteTime": {
     "end_time": "2023-10-03T23:58:42.415424800Z",
     "start_time": "2023-10-03T23:58:42.403544Z"
    }
   }
  },
  {
   "cell_type": "code",
   "execution_count": 45,
   "outputs": [
    {
     "name": "stdout",
     "output_type": "stream",
     "text": [
      "<class 'set'>\n"
     ]
    }
   ],
   "source": [
    "# Conjuntos (set): Colecciones no ordenadas de objetos únicos. Se pueden crear utilizando corchetes `{}` o la función `set()`.\n",
    "x = {1, 2, 3}\n",
    "print(type(x))\n"
   ],
   "metadata": {
    "collapsed": false,
    "ExecuteTime": {
     "end_time": "2023-10-04T00:04:34.518962Z",
     "start_time": "2023-10-04T00:04:34.165339400Z"
    }
   }
  },
  {
   "cell_type": "code",
   "execution_count": 46,
   "outputs": [
    {
     "name": "stdout",
     "output_type": "stream",
     "text": [
      "<class 'dict'>\n",
      "1\n"
     ]
    }
   ],
   "source": [
    "# Diccionarios (dict): Colecciones no ordenadas de pares clave-valor. Se pueden crear utilizando corchetes `{}` o la función `dict()`.\n",
    "x = {\"uno\": 1, \"dos\": 2}\n",
    "print(type(x))\n",
    "print(x[\"uno\"])\n"
   ],
   "metadata": {
    "collapsed": false,
    "ExecuteTime": {
     "end_time": "2023-10-04T00:05:15.775052100Z",
     "start_time": "2023-10-04T00:05:15.563464300Z"
    }
   }
  },
  {
   "cell_type": "code",
   "execution_count": null,
   "outputs": [],
   "source": [],
   "metadata": {
    "collapsed": false
   }
  }
 ],
 "metadata": {
  "kernelspec": {
   "display_name": "Python 3",
   "language": "python",
   "name": "python3"
  },
  "language_info": {
   "codemirror_mode": {
    "name": "ipython",
    "version": 2
   },
   "file_extension": ".py",
   "mimetype": "text/x-python",
   "name": "python",
   "nbconvert_exporter": "python",
   "pygments_lexer": "ipython2",
   "version": "2.7.6"
  }
 },
 "nbformat": 4,
 "nbformat_minor": 0
}
