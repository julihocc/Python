{
 "cells": [
  {
   "cell_type": "code",
   "execution_count": 1,
   "metadata": {
    "collapsed": true,
    "ExecuteTime": {
     "end_time": "2023-09-26T01:07:40.149668400Z",
     "start_time": "2023-09-26T01:07:40.144231500Z"
    }
   },
   "outputs": [
    {
     "name": "stdout",
     "output_type": "stream",
     "text": [
      "Hola, soy Juan y tengo 20 años\n"
     ]
    }
   ],
   "source": [
    "class Persona:\n",
    "    def __init__(self, nombre, edad):\n",
    "        self.nombre = nombre\n",
    "        self.edad = edad\n",
    "\n",
    "    def saludar(self):\n",
    "        print(\"Hola, soy {} y tengo {} años\".format(self.nombre, self.edad))\n",
    "\n",
    "persona = Persona(\"Juan\", 20)\n",
    "\n",
    "persona.saludar()\n"
   ]
  },
  {
   "cell_type": "code",
   "execution_count": 2,
   "outputs": [
    {
     "name": "stdout",
     "output_type": "stream",
     "text": [
      "El coche está conduciendo\n",
      "El coche está frenando\n"
     ]
    }
   ],
   "source": [
    "class Coche:\n",
    "    def __init__(self, marca, modelo, color):\n",
    "        self.marca = marca\n",
    "        self.modelo = modelo\n",
    "        self.color = color\n",
    "\n",
    "    def conducir(self):\n",
    "        print(\"El coche está conduciendo\")\n",
    "\n",
    "    def frenar(self):\n",
    "        print(\"El coche está frenando\")\n",
    "\n",
    "coche = Coche(\"Volkswagen\", \"Golf\", \"Rojo\")\n",
    "\n",
    "coche.conducir()\n",
    "coche.frenar()\n"
   ],
   "metadata": {
    "collapsed": false,
    "ExecuteTime": {
     "end_time": "2023-09-26T01:07:40.162760500Z",
     "start_time": "2023-09-26T01:07:40.156211500Z"
    }
   }
  },
  {
   "cell_type": "code",
   "execution_count": 2,
   "outputs": [],
   "source": [],
   "metadata": {
    "collapsed": false,
    "ExecuteTime": {
     "end_time": "2023-09-26T01:07:40.166278300Z",
     "start_time": "2023-09-26T01:07:40.164268Z"
    }
   }
  }
 ],
 "metadata": {
  "kernelspec": {
   "display_name": "Python 3",
   "language": "python",
   "name": "python3"
  },
  "language_info": {
   "codemirror_mode": {
    "name": "ipython",
    "version": 2
   },
   "file_extension": ".py",
   "mimetype": "text/x-python",
   "name": "python",
   "nbconvert_exporter": "python",
   "pygments_lexer": "ipython2",
   "version": "2.7.6"
  }
 },
 "nbformat": 4,
 "nbformat_minor": 0
}
