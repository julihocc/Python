{
 "cells": [
  {
   "cell_type": "code",
   "execution_count": 18,
   "metadata": {
    "collapsed": true,
    "ExecuteTime": {
     "end_time": "2023-09-21T00:40:50.995170400Z",
     "start_time": "2023-09-21T00:40:50.912640300Z"
    }
   },
   "outputs": [
    {
     "data": {
      "text/plain": "{'nombre': 'Juan', 'edad': 25, 'ciudad': 'Madrid'}"
     },
     "execution_count": 18,
     "metadata": {},
     "output_type": "execute_result"
    }
   ],
   "source": [
    "diccionario = {\n",
    "    \"nombre\": \"Juan\",\n",
    "    \"edad\": 25,\n",
    "    \"ciudad\": \"Madrid\"\n",
    "}\n",
    "diccionario"
   ]
  },
  {
   "cell_type": "code",
   "execution_count": 19,
   "outputs": [
    {
     "data": {
      "text/plain": "{'nombre': 'Juan', 'edad': 25, 'ciudad': 'Madrid'}"
     },
     "execution_count": 19,
     "metadata": {},
     "output_type": "execute_result"
    }
   ],
   "source": [
    "diccionario = dict(nombre=\"Juan\", edad=25, ciudad=\"Madrid\")\n",
    "diccionario"
   ],
   "metadata": {
    "collapsed": false,
    "ExecuteTime": {
     "end_time": "2023-09-21T00:40:51.187298500Z",
     "start_time": "2023-09-21T00:40:50.923676900Z"
    }
   }
  },
  {
   "cell_type": "code",
   "execution_count": 20,
   "outputs": [
    {
     "name": "stdout",
     "output_type": "stream",
     "text": [
      "Juan\n"
     ]
    }
   ],
   "source": [
    "print(diccionario[\"nombre\"])\n"
   ],
   "metadata": {
    "collapsed": false,
    "ExecuteTime": {
     "end_time": "2023-09-21T00:40:51.187298500Z",
     "start_time": "2023-09-21T00:40:50.940941400Z"
    }
   }
  },
  {
   "cell_type": "code",
   "execution_count": 21,
   "outputs": [
    {
     "data": {
      "text/plain": "{'nombre': 'Juan', 'edad': 25, 'ciudad': 'Madrid', 'teléfono': '666-123-456'}"
     },
     "execution_count": 21,
     "metadata": {},
     "output_type": "execute_result"
    }
   ],
   "source": [
    "diccionario[\"teléfono\"] = \"666-123-456\"\n",
    "diccionario\n"
   ],
   "metadata": {
    "collapsed": false,
    "ExecuteTime": {
     "end_time": "2023-09-21T00:40:51.188297600Z",
     "start_time": "2023-09-21T00:40:50.958175500Z"
    }
   }
  },
  {
   "cell_type": "code",
   "execution_count": 22,
   "outputs": [
    {
     "name": "stdout",
     "output_type": "stream",
     "text": [
      "25\n"
     ]
    },
    {
     "data": {
      "text/plain": "{'nombre': 'Juan', 'ciudad': 'Madrid', 'teléfono': '666-123-456'}"
     },
     "execution_count": 22,
     "metadata": {},
     "output_type": "execute_result"
    }
   ],
   "source": [
    "edad = diccionario.pop(\"edad\")\n",
    "print(edad)\n",
    "diccionario\n"
   ],
   "metadata": {
    "collapsed": false,
    "ExecuteTime": {
     "end_time": "2023-09-21T00:40:51.189298300Z",
     "start_time": "2023-09-21T00:40:50.969334300Z"
    }
   }
  },
  {
   "cell_type": "code",
   "execution_count": 23,
   "outputs": [
    {
     "data": {
      "text/plain": "{'nombre': 'María', 'ciudad': 'Madrid', 'teléfono': '666-123-456'}"
     },
     "execution_count": 23,
     "metadata": {},
     "output_type": "execute_result"
    }
   ],
   "source": [
    "diccionario[\"nombre\"] = \"María\"\n",
    "diccionario\n"
   ],
   "metadata": {
    "collapsed": false,
    "ExecuteTime": {
     "end_time": "2023-09-21T00:40:51.189298300Z",
     "start_time": "2023-09-21T00:40:50.980806300Z"
    }
   }
  },
  {
   "cell_type": "code",
   "execution_count": 24,
   "outputs": [
    {
     "name": "stdout",
     "output_type": "stream",
     "text": [
      "nombre Juan\n",
      "edad 25\n",
      "ciudad Madrid\n"
     ]
    }
   ],
   "source": [
    "diccionario = {\n",
    "    \"nombre\": \"Juan\",\n",
    "    \"edad\": 25,\n",
    "    \"ciudad\": \"Madrid\"\n",
    "}\n",
    "\n",
    "for clave in diccionario:\n",
    "    print(clave, diccionario[clave])\n"
   ],
   "metadata": {
    "collapsed": false,
    "ExecuteTime": {
     "end_time": "2023-09-21T00:40:51.189298300Z",
     "start_time": "2023-09-21T00:40:51.000175700Z"
    }
   }
  },
  {
   "cell_type": "code",
   "execution_count": 25,
   "outputs": [
    {
     "name": "stdout",
     "output_type": "stream",
     "text": [
      "Juan\n",
      "25\n",
      "Madrid\n"
     ]
    }
   ],
   "source": [
    "diccionario = {\n",
    "    \"nombre\": \"Juan\",\n",
    "    \"edad\": 25,\n",
    "    \"ciudad\": \"Madrid\"\n",
    "}\n",
    "\n",
    "for valor in diccionario.values():\n",
    "    print(valor)\n"
   ],
   "metadata": {
    "collapsed": false,
    "ExecuteTime": {
     "end_time": "2023-09-21T00:40:51.189298300Z",
     "start_time": "2023-09-21T00:40:51.012303500Z"
    }
   }
  },
  {
   "cell_type": "code",
   "execution_count": 26,
   "outputs": [
    {
     "name": "stdout",
     "output_type": "stream",
     "text": [
      "nombre Juan\n",
      "edad 25\n",
      "ciudad Madrid\n"
     ]
    }
   ],
   "source": [
    "diccionario = {\n",
    "    \"nombre\": \"Juan\",\n",
    "    \"edad\": 25,\n",
    "    \"ciudad\": \"Madrid\"\n",
    "}\n",
    "\n",
    "for clave, valor in diccionario.items():\n",
    "    print(clave, valor)\n"
   ],
   "metadata": {
    "collapsed": false,
    "ExecuteTime": {
     "end_time": "2023-09-21T00:40:51.190297700Z",
     "start_time": "2023-09-21T00:40:51.031832200Z"
    }
   }
  },
  {
   "cell_type": "code",
   "execution_count": 27,
   "outputs": [
    {
     "data": {
      "text/plain": "dict_keys(['nombre', 'edad', 'ciudad'])"
     },
     "execution_count": 27,
     "metadata": {},
     "output_type": "execute_result"
    }
   ],
   "source": [
    "claves = diccionario.keys()\n",
    "claves\n"
   ],
   "metadata": {
    "collapsed": false,
    "ExecuteTime": {
     "end_time": "2023-09-21T00:40:51.190297700Z",
     "start_time": "2023-09-21T00:40:51.041942800Z"
    }
   }
  },
  {
   "cell_type": "code",
   "execution_count": 27,
   "outputs": [],
   "source": [],
   "metadata": {
    "collapsed": false,
    "ExecuteTime": {
     "end_time": "2023-09-21T00:40:51.190297700Z",
     "start_time": "2023-09-21T00:40:51.062454300Z"
    }
   }
  }
 ],
 "metadata": {
  "kernelspec": {
   "display_name": "Python 3",
   "language": "python",
   "name": "python3"
  },
  "language_info": {
   "codemirror_mode": {
    "name": "ipython",
    "version": 2
   },
   "file_extension": ".py",
   "mimetype": "text/x-python",
   "name": "python",
   "nbconvert_exporter": "python",
   "pygments_lexer": "ipython2",
   "version": "2.7.6"
  }
 },
 "nbformat": 4,
 "nbformat_minor": 0
}
